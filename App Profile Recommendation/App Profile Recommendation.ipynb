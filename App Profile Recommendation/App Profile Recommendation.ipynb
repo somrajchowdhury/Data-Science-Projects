{
 "cells": [
  {
   "cell_type": "markdown",
   "metadata": {},
   "source": [
    "## Profitable App Profiles for the App Store and Google Play Markets"
   ]
  },
  {
   "cell_type": "markdown",
   "metadata": {},
   "source": [
    "Our goal for this project is to analyze data to help our developers understand what type of apps are likely to attract more users because our revenue is highly influenced by the number of people using our apps."
   ]
  },
  {
   "cell_type": "markdown",
   "metadata": {},
   "source": [
    "- [Google Play App dataset](https://www.kaggle.com/lava18/google-play-store-apps/home) containing data of about 10000 (approx.) Android apps from Google Play.\n",
    "\n",
    "- [App Store App dataset](https://www.kaggle.com/ramamet4/app-store-apple-data-set-10k-apps/home) containing data of about 7000 (approx.) iOS apps from the App Store.\n"
   ]
  },
  {
   "cell_type": "code",
   "execution_count": 1,
   "metadata": {},
   "outputs": [],
   "source": [
    "import csv"
   ]
  },
  {
   "cell_type": "markdown",
   "metadata": {},
   "source": [
    "To make it easier to open and read multiple datasets in the required format, we'll write a function `open_and_read_dataset()`. The function returns a tuple that consists of the dataset header row and the complete dataset without the header row."
   ]
  },
  {
   "cell_type": "code",
   "execution_count": 2,
   "metadata": {},
   "outputs": [],
   "source": [
    "def open_and_read_dataset(filename):\n",
    "    '''\n",
    "    Input: \n",
    "    filename - name of .csv file to open\n",
    "    \n",
    "    Output: file contents as list of lists\n",
    "    \n",
    "    Description:\n",
    "    Function to open a .csv file, read \n",
    "    each row/line of file as a list and\n",
    "    store all the lists inside a list \n",
    "    '''\n",
    "    file = open(filename, encoding='utf8')\n",
    "    filecontents = csv.reader(file)\n",
    "    dataset = list(filecontents)\n",
    "    return dataset[0], dataset[1:]"
   ]
  },
  {
   "cell_type": "markdown",
   "metadata": {},
   "source": [
    "Using the `open_and_read_dataset()`, we'll unpack the dataset header row and the complete dataset without the header row in separate variables."
   ]
  },
  {
   "cell_type": "code",
   "execution_count": 3,
   "metadata": {},
   "outputs": [],
   "source": [
    "googleplay_header, googleplay = open_and_read_dataset('googleplaystore.csv')\n",
    "applestore_header, applestore = open_and_read_dataset('AppleStore.csv')"
   ]
  },
  {
   "cell_type": "markdown",
   "metadata": {},
   "source": [
    "Next we'll write a function named `explore_data()` that'll print some rows from the dataset for exploring data rows in more readable way. The function also optionally prints the number of rows and columns the dataset holds."
   ]
  },
  {
   "cell_type": "code",
   "execution_count": 4,
   "metadata": {},
   "outputs": [],
   "source": [
    "def explore_data(dataset, start, end, rows_and_columns=False):\n",
    "    '''\n",
    "    Input: \n",
    "             dataset - dataset in the form of list of lists\n",
    "                       (as returned by open_and_read_dataset() function)\n",
    "               start - start index position for slicing the dataset\n",
    "                 end - end index position for slicing the dataset\n",
    "    rows_and_columns - set this flag to True only if the dataset being\n",
    "                       passed doesn't have the header row\n",
    "    \n",
    "    Output:\n",
    "    Prints the file lines as list from the list slice and print the\n",
    "    number of rows and columns of the dataset if the dataset doesn't\n",
    "    have the header row\n",
    "    '''\n",
    "    dataset_slice = dataset[start:end]\n",
    "    for row in dataset_slice:\n",
    "        print(row)\n",
    "        print('\\n')\n",
    "    if rows_and_columns:\n",
    "        print('Number of rows:', len(dataset))\n",
    "        print('Number of columns:', len(dataset[0]))"
   ]
  },
  {
   "cell_type": "markdown",
   "metadata": {},
   "source": [
    "**Google Play Android Apps Data**"
   ]
  },
  {
   "cell_type": "code",
   "execution_count": 5,
   "metadata": {
    "scrolled": true
   },
   "outputs": [
    {
     "name": "stdout",
     "output_type": "stream",
     "text": [
      "['App', 'Category', 'Rating', 'Reviews', 'Size', 'Installs', 'Type', 'Price', 'Content Rating', 'Genres', 'Last Updated', 'Current Ver', 'Android Ver']\n",
      "\n",
      "\n",
      "['Photo Editor & Candy Camera & Grid & ScrapBook', 'ART_AND_DESIGN', '4.1', '159', '19M', '10,000+', 'Free', '0', 'Everyone', 'Art & Design', 'January 7, 2018', '1.0.0', '4.0.3 and up']\n",
      "\n",
      "\n",
      "['Coloring book moana', 'ART_AND_DESIGN', '3.9', '967', '14M', '500,000+', 'Free', '0', 'Everyone', 'Art & Design;Pretend Play', 'January 15, 2018', '2.0.0', '4.0.3 and up']\n",
      "\n",
      "\n",
      "['U Launcher Lite – FREE Live Cool Themes, Hide Apps', 'ART_AND_DESIGN', '4.7', '87510', '8.7M', '5,000,000+', 'Free', '0', 'Everyone', 'Art & Design', 'August 1, 2018', '1.2.4', '4.0.3 and up']\n",
      "\n",
      "\n",
      "Number of rows: 10841\n",
      "Number of columns: 13\n"
     ]
    }
   ],
   "source": [
    "print(googleplay_header)\n",
    "print('\\n')\n",
    "google_data = explore_data(googleplay, 0, 3, True)"
   ]
  },
  {
   "cell_type": "markdown",
   "metadata": {},
   "source": [
    "We see that the `googleplaystore.csv` dataset has information of 10841 apps. Out of the 13 app attributes, the attributes that might be useful for the purpose of our analysis are `'App'`, `'Category'`, `'Reviews'`, `'Installs'`, `'Type'`, `'Price'`, and `'Genres'`."
   ]
  },
  {
   "cell_type": "markdown",
   "metadata": {},
   "source": [
    "**App Store iOS Apps Data**"
   ]
  },
  {
   "cell_type": "code",
   "execution_count": 6,
   "metadata": {},
   "outputs": [
    {
     "name": "stdout",
     "output_type": "stream",
     "text": [
      "['', 'id', 'track_name', 'size_bytes', 'currency', 'price', 'rating_count_tot', 'rating_count_ver', 'user_rating', 'user_rating_ver', 'ver', 'cont_rating', 'prime_genre', 'sup_devices.num', 'ipadSc_urls.num', 'lang.num', 'vpp_lic']\n",
      "\n",
      "\n",
      "['1', '281656475', 'PAC-MAN Premium', '100788224', 'USD', '3.99', '21292', '26', '4', '4.5', '6.3.5', '4+', 'Games', '38', '5', '10', '1']\n",
      "\n",
      "\n",
      "['2', '281796108', 'Evernote - stay organized', '158578688', 'USD', '0', '161065', '26', '4', '3.5', '8.2.2', '4+', 'Productivity', '37', '5', '23', '1']\n",
      "\n",
      "\n",
      "['3', '281940292', 'WeatherBug - Local Weather, Radar, Maps, Alerts', '100524032', 'USD', '0', '188583', '2822', '3.5', '4.5', '5.0.0', '4+', 'Weather', '37', '5', '3', '1']\n",
      "\n",
      "\n",
      "Number of rows: 7197\n",
      "Number of columns: 17\n"
     ]
    }
   ],
   "source": [
    "print(applestore_header)\n",
    "print('\\n')\n",
    "apple_data = explore_data(applestore, 0, 3, True)"
   ]
  },
  {
   "cell_type": "markdown",
   "metadata": {},
   "source": [
    "We see that the `AppleStore.csv` dataset has information of 10841 apps. Out of the 17 app attributes, the attributes that might be useful for the purpose of our analysis are `'track_name'`, `'currency'`, `'price'`, `'rating_count_tot'`, `'rating_count_ver'`, and `'prime_genre'`."
   ]
  },
  {
   "cell_type": "markdown",
   "metadata": {},
   "source": [
    "Before beginning our analysis, we need to make sure the data we analyze is accurate, otherwise the results of our analysis will be wrong. This means that we need to:\n",
    "\n",
    "   - Detect inaccurate data, and correct or remove it.\n",
    "   - Detect duplicate data, and remove the duplicates."
   ]
  },
  {
   "cell_type": "markdown",
   "metadata": {},
   "source": [
    "We want to perform the analysis on the apps that are free to download and install, and that are directed toward an English-speaking audience. This means that we'll need to:\n",
    "\n",
    "   - Remove non-English apps like 爱奇艺PPS -《欢乐颂2》电视剧热播.\n",
    "   - Remove apps that aren't free."
   ]
  },
  {
   "cell_type": "markdown",
   "metadata": {},
   "source": [
    "**Detect and Delete Incorrect/Inaccurate data**"
   ]
  },
  {
   "cell_type": "markdown",
   "metadata": {},
   "source": [
    "In the `googleplaystore.csv` dataset, there is a row with incorrect value at index 10472. You can read more about this in the [discussion section](https://www.kaggle.com/lava18/google-play-store-apps/discussion/66015#latest-600082) of this dataset on Kaggle."
   ]
  },
  {
   "cell_type": "markdown",
   "metadata": {},
   "source": [
    "- Let's print the row at index 10472"
   ]
  },
  {
   "cell_type": "code",
   "execution_count": 7,
   "metadata": {},
   "outputs": [
    {
     "name": "stdout",
     "output_type": "stream",
     "text": [
      "['Life Made WI-Fi Touchscreen Photo Frame', '1.9', '19', '3.0M', '1,000+', 'Free', '0', 'Everyone', '', 'February 11, 2018', '1.0.19', '4.0 and up']\n"
     ]
    }
   ],
   "source": [
    "print(googleplay[10472])"
   ]
  },
  {
   "cell_type": "markdown",
   "metadata": {},
   "source": [
    "- Let's print the header row along with the row that holds ***incorrect*** values"
   ]
  },
  {
   "cell_type": "code",
   "execution_count": 8,
   "metadata": {},
   "outputs": [
    {
     "name": "stdout",
     "output_type": "stream",
     "text": [
      "           App: Life Made WI-Fi Touchscreen Photo Frame\n",
      "      Category: 1.9\n",
      "        Rating: 19\n",
      "       Reviews: 3.0M\n",
      "          Size: 1,000+\n",
      "      Installs: Free\n",
      "          Type: 0\n",
      "         Price: Everyone\n",
      "Content Rating: \n",
      "        Genres: February 11, 2018\n",
      "  Last Updated: 1.0.19\n",
      "   Current Ver: 4.0 and up\n"
     ]
    }
   ],
   "source": [
    "for field, data in zip(googleplay_header, googleplay[10472]):\n",
    "    print('{:>14}: {}'.format(field, data))"
   ]
  },
  {
   "cell_type": "markdown",
   "metadata": {},
   "source": [
    "- Let's print the header row along with a row that holds ***correct*** values"
   ]
  },
  {
   "cell_type": "code",
   "execution_count": 9,
   "metadata": {},
   "outputs": [
    {
     "name": "stdout",
     "output_type": "stream",
     "text": [
      "           App: Photo Editor & Candy Camera & Grid & ScrapBook\n",
      "      Category: ART_AND_DESIGN\n",
      "        Rating: 4.1\n",
      "       Reviews: 159\n",
      "          Size: 19M\n",
      "      Installs: 10,000+\n",
      "          Type: Free\n",
      "         Price: 0\n",
      "Content Rating: Everyone\n",
      "        Genres: Art & Design\n",
      "  Last Updated: January 7, 2018\n",
      "   Current Ver: 1.0.0\n",
      "   Android Ver: 4.0.3 and up\n"
     ]
    }
   ],
   "source": [
    "for field, data in zip(googleplay_header, googleplay[0]):\n",
    "    print('{:>14}: {}'.format(field, data))"
   ]
  },
  {
   "cell_type": "markdown",
   "metadata": {},
   "source": [
    "By comparing the above two data row cells, we observe that the data for the app `Life Made WI-Fi Touchscreen Photo Frame` is jumbled up and not correctly ordered due to some missing data compared to the second cell with correct data values. Therefore we'll delete the row."
   ]
  },
  {
   "cell_type": "code",
   "execution_count": 10,
   "metadata": {},
   "outputs": [
    {
     "name": "stdout",
     "output_type": "stream",
     "text": [
      "Number of rows: 10841\n",
      "Number of rows (after row deletion): 10840\n"
     ]
    }
   ],
   "source": [
    "print('Number of rows: {}'.format(len(googleplay)))\n",
    "del googleplay[10472]\n",
    "print('Number of rows (after row deletion): {}'.format(len(googleplay)))"
   ]
  },
  {
   "cell_type": "markdown",
   "metadata": {},
   "source": [
    "**Checking for Duplicate Rows**"
   ]
  },
  {
   "cell_type": "markdown",
   "metadata": {},
   "source": [
    "Next, we explore the `googleplaystore.csv` dataset and try to detect duplicate rows if exists in the dataset."
   ]
  },
  {
   "cell_type": "markdown",
   "metadata": {},
   "source": [
    "- Let's check if the app `Instagram` appears more than once in the dataset "
   ]
  },
  {
   "cell_type": "code",
   "execution_count": 11,
   "metadata": {},
   "outputs": [
    {
     "name": "stdout",
     "output_type": "stream",
     "text": [
      "['Instagram', 'SOCIAL', '4.5', '66577313', 'Varies with device', '1,000,000,000+', 'Free', '0', 'Teen', 'Social', 'July 31, 2018', 'Varies with device', 'Varies with device']\n",
      "\n",
      "['Instagram', 'SOCIAL', '4.5', '66577446', 'Varies with device', '1,000,000,000+', 'Free', '0', 'Teen', 'Social', 'July 31, 2018', 'Varies with device', 'Varies with device']\n",
      "\n",
      "['Instagram', 'SOCIAL', '4.5', '66577313', 'Varies with device', '1,000,000,000+', 'Free', '0', 'Teen', 'Social', 'July 31, 2018', 'Varies with device', 'Varies with device']\n",
      "\n",
      "['Instagram', 'SOCIAL', '4.5', '66509917', 'Varies with device', '1,000,000,000+', 'Free', '0', 'Teen', 'Social', 'July 31, 2018', 'Varies with device', 'Varies with device']\n",
      "\n"
     ]
    }
   ],
   "source": [
    "for app_info_list in googleplay:\n",
    "    app_name = app_info_list[0]\n",
    "    if app_name == 'Instagram':\n",
    "        print(app_info_list)\n",
    "        print()"
   ]
  },
  {
   "cell_type": "markdown",
   "metadata": {},
   "source": [
    "From the above cell we see that there are 3 duplicate rows for the `'Instagram'` app.\n",
    "\n",
    "We don't want to count certain apps more than once when we analyze data, so we need to remove the duplicate entries and keep only one entry per app. One thing we could do is remove the duplicate rows randomly, but we could probably find a better way.\n",
    "\n",
    "If you examine the rows we printed for the Instagram app, the main difference happens on the fourth position of each row, which corresponds to the number of reviews. The different numbers show the data was collected at different times.\n",
    "We can use this information to build a criterion for removing the duplicates. The higher the number of reviews, the more recent the data should be. Rather than removing duplicates randomly, we'll only keep the row with the highest number of reviews and remove the other entries for any given app."
   ]
  },
  {
   "cell_type": "markdown",
   "metadata": {},
   "source": [
    "- Let's check the number of duplicate app entries in the dataset"
   ]
  },
  {
   "cell_type": "code",
   "execution_count": 12,
   "metadata": {},
   "outputs": [
    {
     "name": "stdout",
     "output_type": "stream",
     "text": [
      "Unique app entries in dataset: 9659\n",
      "Duplicate app entries in dataset: 1181\n"
     ]
    }
   ],
   "source": [
    "duplicate_app_entries = []\n",
    "unique_app_entries = []\n",
    "\n",
    "for app_info_list in googleplay:\n",
    "    app_name = app_info_list[0]\n",
    "    if app_name in unique_app_entries:\n",
    "        duplicate_app_entries.append(app_name)\n",
    "    else:\n",
    "        unique_app_entries.append(app_name)\n",
    "        \n",
    "num_duplicate_entries = len(duplicate_app_entries)\n",
    "num_unique_entries = len(unique_app_entries)\n",
    "print('Unique app entries in dataset: {}'.format(num_unique_entries))\n",
    "print('Duplicate app entries in dataset: {}'.format(num_duplicate_entries))"
   ]
  },
  {
   "cell_type": "markdown",
   "metadata": {},
   "source": [
    "We'll now create a dictionary to:\n",
    "1. store the number of duplicate entries a particular app has\n",
    "2. find the number apps with duplicate entries"
   ]
  },
  {
   "cell_type": "code",
   "execution_count": 13,
   "metadata": {},
   "outputs": [
    {
     "name": "stdout",
     "output_type": "stream",
     "text": [
      "Number of apps with duplicate entries: 798\n"
     ]
    }
   ],
   "source": [
    "duplicate_apps = {}\n",
    "for app_name in duplicate_app_entries:\n",
    "    if app_name not in duplicate_apps:\n",
    "        duplicate_apps[app_name] = 1\n",
    "    else:\n",
    "        duplicate_apps[app_name] += 1\n",
    "num_of_apps = len(duplicate_apps)\n",
    "print('Number of apps with duplicate entries: {}'.format(num_of_apps))"
   ]
  },
  {
   "cell_type": "markdown",
   "metadata": {},
   "source": [
    "- Let's print apps from the `duplicate_apps` dictionary along with the number duplicate entries."
   ]
  },
  {
   "cell_type": "code",
   "execution_count": 14,
   "metadata": {},
   "outputs": [],
   "source": [
    "# For pretty printing dictionaries for better readability\n",
    "import json"
   ]
  },
  {
   "cell_type": "code",
   "execution_count": 15,
   "metadata": {},
   "outputs": [
    {
     "name": "stdout",
     "output_type": "stream",
     "text": [
      "{\n",
      "  \"Quick PDF Scanner + OCR FREE\": 2,\n",
      "  \"Box\": 2,\n",
      "  \"Google My Business\": 2,\n",
      "  \"ZOOM Cloud Meetings\": 1,\n",
      "  \"join.me - Simple Meetings\": 2,\n",
      "  \"Zenefits\": 1,\n",
      "  \"Google Ads\": 2,\n",
      "  \"Slack\": 2,\n",
      "  \"FreshBooks Classic\": 1,\n",
      "  \"Insightly CRM\": 1,\n",
      "  \"QuickBooks Accounting: Invoicing & Expenses\": 2,\n",
      "  \"HipChat - Chat Built for Teams\": 1,\n",
      "  \"Xero Accounting Software\": 1,\n",
      "  \"MailChimp - Email, Marketing Automation\": 1,\n",
      "  \"Crew - Free Messaging and Scheduling\": 1,\n",
      "  \"Asana: organize team projects\": 1,\n",
      "  \"Google Analytics\": 1,\n",
      "  \"AdWords Express\": 1,\n",
      "  \"Accounting App - Zoho Books\": 1,\n",
      "  \"Invoice & Time Tracking - Zoho\": 1,\n",
      "  \"Invoice 2go \\u2014 Professional Invoices and Estimates\": 1,\n",
      "  \"SignEasy | Sign and Fill PDF and other Documents\": 1,\n",
      "  \"Genius Scan - PDF Scanner\": 1,\n",
      "  \"Tiny Scanner - PDF Scanner App\": 1,\n",
      "  \"Fast Scanner : Free PDF Scan\": 1,\n",
      "  \"Mobile Doc Scanner (MDScan) Lite\": 1,\n",
      "  \"TurboScan: scan documents and receipts in PDF\": 1,\n",
      "  \"Tiny Scanner Pro: PDF Doc Scan\": 1,\n",
      "  \"Docs To Go\\u2122 Free Office Suite\": 1,\n",
      "  \"OfficeSuite : Free Office + PDF Editor\": 1,\n",
      "  \"WhatsApp Messenger\": 2,\n",
      "  \"Messenger \\u2013 Text and Video Chat for Free\": 2,\n",
      "  \"imo free video calls and chat\": 3,\n",
      "  \"Viber Messenger\": 4,\n",
      "  \"Hangouts\": 3,\n",
      "  \"WeChat\": 3,\n",
      "  \"Telegram\": 2,\n",
      "  \"Who\": 1,\n",
      "  \"Google Voice\": 2,\n",
      "  \"Android Messages\": 1,\n",
      "  \"Firefox Focus: The privacy browser\": 2,\n",
      "  \"Google Allo\": 2,\n",
      "  \"Google Chrome: Fast & Secure\": 2,\n",
      "  \"Firefox Browser fast & private\": 2,\n",
      "  \"Puffin Web Browser\": 2,\n",
      "  \"Opera Browser: Fast and Secure\": 2,\n",
      "  \"Opera Mini - fast web browser\": 2,\n",
      "  \"UC Browser Mini -Tiny Fast Private & Secure\": 2,\n",
      "  \"UC Browser - Fast Download Private & Secure\": 2,\n",
      "  \"Calls & Text by Mo+\": 1,\n",
      "  \"Call Blocker\": 1,\n",
      "  \"Gmail\": 2,\n",
      "  \"Yahoo Mail \\u2013 Stay Organized\": 2,\n",
      "  \"free video calls and chat\": 2,\n",
      "  \"Skype - free IM & video calls\": 2,\n",
      "  \"Glide - Video Chat Messenger\": 1,\n",
      "  \"Talkray - Free Calls & Texts\": 1,\n",
      "  \"LINE: Free Calls & Messages\": 2,\n",
      "  \"KakaoTalk: Free Calls & Text\": 2,\n",
      "  \"OkCupid Dating\": 2,\n",
      "  \"CMB Free Dating App\": 1,\n",
      "  \"Hily: Dating, Chat, Match, Meet & Hook up\": 2,\n",
      "  \"Hinge: Dating & Relationships\": 1,\n",
      "  \"BBW Dating & Plus Size Chat\": 2,\n",
      "  \"Casual Dating & Adult Singles - Joyride\": 1,\n",
      "  \"EliteSingles \\u2013 Dating for Single Professionals\": 1,\n",
      "  \"Clover Dating App\": 1,\n",
      "  \"Moco - Chat, Meet People\": 2,\n",
      "  \"Hot or Not - Find someone right now\": 2,\n",
      "  \"Just She - Top Lesbian Dating\": 2,\n",
      "  \"Once - Quality Matches Every day\": 1,\n",
      "  \"Sudy \\u2013 Meet Elite & Rich Single\": 1,\n",
      "  \"muzmatch: Muslim & Arab Singles, Marriage & Dating\": 2,\n",
      "  \"Chispa, the Dating App for Latino, Latina Singles\": 1,\n",
      "  \"Blendr - Chat, Flirt & Meet\": 1,\n",
      "  \"Find Real Love \\u2014 YouLove Premium Dating\": 1,\n",
      "  \"Cougar Dating Life : Date Older Women Sugar Mummy\": 1,\n",
      "  \"stranger chat - anonymous chat\": 1,\n",
      "  \"Millionaire Match: Rich Singles Dating App\": 1,\n",
      "  \"Dating for 50 plus Mature Singles \\u2013 FINALLY\": 1,\n",
      "  \"Moco+ - Chat, Meet People\": 1,\n",
      "  \"Chat Rooms, Avatars, Date - Galaxy\": 1,\n",
      "  \"FastMeet: Chat, Dating, Love\": 1,\n",
      "  \"Christian Dating For Free App\": 1,\n",
      "  \"Meet24 - Love, Chat, Singles\": 1,\n",
      "  \"Black White Interracial Dating - Interracial Match\": 1,\n",
      "  \"Gay Sugar Daddy Dating & Hookup \\u2013 Sudy Gay\": 1,\n",
      "  \"Adult Dirty Emojis\": 2,\n",
      "  \"Hide App, Private Dating, Safe Chat - PrivacyHider\": 1,\n",
      "  \"Meet4U - Chat, Love, Singles!\": 1,\n",
      "  \"95Live -SG#1 Live Streaming App\": 1,\n",
      "  \"O-Star\": 2,\n",
      "  \"Random Video Chat\": 1,\n",
      "  \"Black People Meet Singles Date\": 1,\n",
      "  \"Howlr\": 1,\n",
      "  \"Free Dating & Flirt Chat - Choice of Love\": 1,\n",
      "  \"Cardi B Live Stream Video Chat - Prank\": 1,\n",
      "  \"Chat Kids - Chat Room For Kids\": 1,\n",
      "  \"Transenger \\u2013 Ts Dating and Chat for Free\": 1,\n",
      "  \"BBW Dating & Curvy Singles Chat- LargeFriends\": 1,\n",
      "  \"MouseMingle\": 1,\n",
      "  \"FlirtChat - \\u2665Free Dating/Flirting App\\u2665\": 1,\n",
      "  \"Live Talk - Free Text and Video Chat\": 1,\n",
      "  \"Free Cam Girls - Live Webcam\": 1,\n",
      "  \"Random Video Chat App With Strangers\": 1,\n",
      "  \"Live Girls Talk - Free Video Chat\": 1,\n",
      "  \"Girls Live Chat - Free Text & Video Chat\": 1,\n",
      "  \"Free Dating App - Meet Local Singles - Flirt Chat\": 1,\n",
      "  \"iPair-Meet, Chat, Dating\": 1,\n",
      "  \"Free Dating Hook Up Messenger\": 1,\n",
      "  \"Free Dating App - YoCutie - Flirt, Chat & Meet\": 1,\n",
      "  \"Khan Academy\": 2,\n",
      "  \"TED\": 3,\n",
      "  \"Lumosity: #1 Brain Games & Cognitive Training App\": 1,\n",
      "  \"Udemy - Online Courses\": 2,\n",
      "  \"Duolingo: Learn Languages Free\": 6,\n",
      "  \"Quizlet: Learn Languages & Vocab with Flashcards\": 3,\n",
      "  \"Coursera: Online courses\": 1,\n",
      "  \"Udacity - Lifelong Learning\": 1,\n",
      "  \"edX - Online Courses by Harvard, MIT & more\": 1,\n",
      "  \"Lynda - Online Training Videos\": 1,\n",
      "  \"Learn languages, grammar & vocabulary with Memrise\": 3,\n",
      "  \"Brilliant\": 1,\n",
      "  \"Babbel \\u2013 Learn Languages\": 3,\n",
      "  \"Rosetta Stone: Learn to Speak & Read New Languages\": 3,\n",
      "  \"Learn English with Wlingua\": 1,\n",
      "  \"Google Classroom\": 2,\n",
      "  \"Learn 50 languages\": 1,\n",
      "  \"Mango Languages: Lovable Language Courses\": 1,\n",
      "  \"busuu: Learn Languages - Spanish, English & More\": 3,\n",
      "  \"My Class Schedule: Timetable\": 1,\n",
      "  \"Socratic - Math Answers & Homework Help\": 1,\n",
      "  \"ClassDojo\": 2,\n",
      "  \"HelloTalk \\u2014 Chat, Speak & Learn Foreign Languages\": 1,\n",
      "  \"Movies by Flixster, with Rotten Tomatoes\": 2,\n",
      "  \"IMDb Movies & TV\": 2,\n",
      "  \"Netflix\": 4,\n",
      "  \"Tubi TV - Free Movies & TV\": 2,\n",
      "  \"Crunchyroll - Everything Anime\": 2,\n",
      "  \"STARZ\": 2,\n",
      "  \"Crackle - Free TV & Movies\": 2,\n",
      "  \"CBS - Full Episodes & Live TV\": 1,\n",
      "  \"Nick\": 5,\n",
      "  \"Hulu: Stream TV, Movies & more\": 3,\n",
      "  \"FOX NOW - On Demand & Live TV\": 2,\n",
      "  \"The CW\": 3,\n",
      "  \"HISTORY: Watch TV Show Full Episodes & Specials\": 2,\n",
      "  \"HBO NOW: Stream TV & Movies\": 3,\n",
      "  \"A&E - Watch Full Episodes of TV Shows\": 3,\n",
      "  \"VH1\": 2,\n",
      "  \"Lifetime - Watch Full Episodes & Original Movies\": 2,\n",
      "  \"BET NOW - Watch Shows\": 2,\n",
      "  \"Food Network\": 2,\n",
      "  \"Viki: Asian TV Dramas & Movies\": 2,\n",
      "  \"Univision NOW - Live TV and On Demand\": 1,\n",
      "  \"SHOWTIME\": 1,\n",
      "  \"MTV\": 1,\n",
      "  \"Comedy Central\": 1,\n",
      "  \"FOX\": 1,\n",
      "  \"Telemundo Now\": 1,\n",
      "  \"Fandango Movies - Times + Tickets\": 1,\n",
      "  \"Google Pay\": 3,\n",
      "  \"Wells Fargo Daily Change\": 1,\n",
      "  \"Credit Karma\": 2,\n",
      "  \"Robinhood - Investing, No Fees\": 1,\n",
      "  \"Digit Save Money Automatically\": 1,\n",
      "  \"Acorns - Invest Spare Change\": 1,\n",
      "  \"Money Lover: Expense Tracker, Budget Planner\": 1,\n",
      "  \"Mint: Budget, Bills, Finance\": 2,\n",
      "  \"Simple - Better Banking\": 1,\n",
      "  \"PayPal\": 1,\n",
      "  \"Wells Fargo Mobile\": 1,\n",
      "  \"Capital One\\u00ae Mobile\": 1,\n",
      "  \"Grubhub: Food Delivery\": 1,\n",
      "  \"Postmates Food Delivery: Order Eats & Alcohol\": 1,\n",
      "  \"Domino's Pizza USA\": 1,\n",
      "  \"Chick-fil-A\": 2,\n",
      "  \"Zomato - Restaurant Finder and Food Delivery App\": 1,\n",
      "  \"Run with Map My Run\": 2,\n",
      "  \"Weight Loss Running by Verv\": 2,\n",
      "  \"Nike+ Run Club\": 3,\n",
      "  \"Runtastic Running App & Mile Tracker\": 2,\n",
      "  \"8fit Workouts & Meal Planner\": 1,\n",
      "  \"Daily Yoga - Yoga Fitness Plans\": 2,\n",
      "  \"Pocket Yoga\": 1,\n",
      "  \"Calorie Counter - MyFitnessPal\": 4,\n",
      "  \"Seven - 7 Minute Workout Training Challenge\": 1,\n",
      "  \"Weight Watchers Mobile\": 2,\n",
      "  \"Walk with Map My Walk\": 1,\n",
      "  \"Workout Trainer: fitness coach\": 1,\n",
      "  \"Nike Training Club - Workouts & Fitness Plans\": 2,\n",
      "  \"Fitbit Coach\": 1,\n",
      "  \"Endomondo - Running & Walking\": 1,\n",
      "  \"Runkeeper - GPS Track Run Walk\": 1,\n",
      "  \"Lose It! - Calorie Counter\": 2,\n",
      "  \"Calorie Counter - MyNetDiary\": 1,\n",
      "  \"10 Best Foods for You\": 1,\n",
      "  \"MyPlate Calorie Tracker\": 1,\n",
      "  \"Weight Loss Tracker - RecStyle\": 1,\n",
      "  \"Calorie Counter by FatSecret\": 1,\n",
      "  \"Calorie Counter - Macros\": 1,\n",
      "  \"My Diet Diary Calorie Counter\": 1,\n",
      "  \"Lark - 24/7 Health Coach\": 1,\n",
      "  \"Calorie Counter & Diet Tracker\": 1,\n",
      "  \"MealLogger-Photo Food Journal\": 1,\n",
      "  \"Health and Nutrition Guide\": 1,\n",
      "  \"Food Calorie Calculator\": 1,\n",
      "  \"Relax Meditation: Sleep with Sleep Sounds\": 1,\n",
      "  \"Meditation Music - Relax, Yoga\": 1,\n",
      "  \"21-Day Meditation Experience\": 1,\n",
      "  \"Fabulous: Motivate Me! Meditate, Relax, Sleep\": 1,\n",
      "  \"Calm - Meditate, Sleep, Relax\": 1,\n",
      "  \"Relax Melodies: Sleep Sounds\": 1,\n",
      "  \"Simple Habit Meditation\": 1,\n",
      "  \"Headspace: Meditation & Mindfulness\": 1,\n",
      "  \"Houzz Interior Design Ideas\": 3,\n",
      "  \"Mortgage by Zillow: Calculator & Rates\": 1,\n",
      "  \"Redfin Real Estate\": 1,\n",
      "  \"Apartment List: Housing, Apt, and Property Rentals\": 1,\n",
      "  \"Realtor.com Real Estate: Homes for Sale and Rent\": 1,\n",
      "  \"Trulia Real Estate & Rentals\": 1,\n",
      "  \"Zillow: Find Houses for Sale & Apartments for Rent\": 1,\n",
      "  \"Apartments & Rentals - Zillow\": 1,\n",
      "  \"Trulia Rent Apartments & Homes\": 1,\n",
      "  \"Apartments.com Rental Search\": 1,\n",
      "  \"Vaniday - Beauty Booking App\": 1,\n",
      "  \"StyleSeat\": 1,\n",
      "  \"JOANN - Crafts & Coupons\": 1,\n",
      "  \"Fashion in Vogue\": 2,\n",
      "  \"Wheretoget: Shop in style\": 1,\n",
      "  \"My Dressing - Fashion closet\": 1,\n",
      "  \"Chictopia\": 1,\n",
      "  \"Scarf Fashion Designer\": 1,\n",
      "  \"Zara\": 1,\n",
      "  \"Subway Surfers\": 5,\n",
      "  \"ROBLOX\": 8,\n",
      "  \"Pou\": 3,\n",
      "  \"8 Ball Pool\": 6,\n",
      "  \"Clash of Clans\": 3,\n",
      "  \"Candy Crush Saga\": 6,\n",
      "  \"Plants vs. Zombies FREE\": 4,\n",
      "  \"My Talking Angela\": 3,\n",
      "  \"Bubble Shooter\": 5,\n",
      "  \"Word Search\": 3,\n",
      "  \"Candy Crush Soda Saga\": 2,\n",
      "  \"Fishdom\": 2,\n",
      "  \"Block Puzzle\": 3,\n",
      "  \"Clash Royale\": 3,\n",
      "  \"Sniper 3D Gun Shooter: Free Shooting Games - FPS\": 5,\n",
      "  \"Granny\": 4,\n",
      "  \"Galaxy Attack: Alien Shooter\": 2,\n",
      "  \"Angry Birds Rio\": 3,\n",
      "  \"Zombie Catchers\": 5,\n",
      "  \"Zombie Hunter King\": 3,\n",
      "  \"Temple Run 2\": 5,\n",
      "  \"Zombie Tsunami\": 4,\n",
      "  \"Farm Heroes Saga\": 4,\n",
      "  \"Super Jim Jump - pixel 3d\": 2,\n",
      "  \"slither.io\": 5,\n",
      "  \"Angry Birds Classic\": 4,\n",
      "  \"Flow Free\": 4,\n",
      "  \"Helix Jump\": 5,\n",
      "  \"Toon Blast\": 2,\n",
      "  \"Kick the Buddy\": 3,\n",
      "  \"Magic Tiles 3\": 3,\n",
      "  \"Bowmasters\": 5,\n",
      "  \"Wordscapes\": 3,\n",
      "  \"Block Craft 3D: Building Simulator Games For Free\": 2,\n",
      "  \"PUBG MOBILE\": 3,\n",
      "  \"DRAGON BALL LEGENDS\": 3,\n",
      "  \"Harry Potter: Hogwarts Mystery\": 1,\n",
      "  \"MARVEL Strike Force\": 2,\n",
      "  \"Merge Dragons!\": 1,\n",
      "  \"Honkai Impact 3rd\": 1,\n",
      "  \"Toy Blast\": 1,\n",
      "  \"Homescapes\": 1,\n",
      "  \"Cooking Fever\": 1,\n",
      "  \"Gardenscapes\": 1,\n",
      "  \"Score! Hero\": 2,\n",
      "  \"Dream League Soccer 2018\": 2,\n",
      "  \"Fruits Bomb\": 1,\n",
      "  \"Talking Tom Gold Run\": 3,\n",
      "  \"My Talking Tom\": 2,\n",
      "  \"Hill Climb Racing\": 3,\n",
      "  \"Pixel Art: Color by Number Game\": 2,\n",
      "  \"Rider\": 1,\n",
      "  \"Garena Free Fire\": 3,\n",
      "  \"Miraculous Ladybug & Cat Noir - The Official Game\": 2,\n",
      "  \"Solitaire\": 2,\n",
      "  \"Traffic Racer\": 1,\n",
      "  \"Earn to Die 2\": 1,\n",
      "  \"Bubble Shooter 2\": 1,\n",
      "  \"Candy Crush Jelly Saga\": 1,\n",
      "  \"Cut the Rope FULL FREE\": 2,\n",
      "  \"Jewels Star: OZ adventure\": 1,\n",
      "  \"Hungry Shark Evolution\": 2,\n",
      "  \"Best Fiends - Free Puzzle Game\": 1,\n",
      "  \"Hill Climb Racing 2\": 1,\n",
      "  \"Swamp Attack\": 1,\n",
      "  \"Block Puzzle Classic Legend !\": 1,\n",
      "  \"DEAD TARGET: FPS Zombie Apocalypse Survival Games\": 1,\n",
      "  \"YouTube Kids\": 3,\n",
      "  \"Candy Bomb\": 1,\n",
      "  \"Princess Coloring Book\": 1,\n",
      "  \"Hello Kitty Nail Salon\": 1,\n",
      "  \"Dog Run - Pet Dog Simulator\": 2,\n",
      "  \"Coloring book moana\": 1,\n",
      "  \"Barbie\\u2122 Fashion Closet\": 1,\n",
      "  \"Minion Rush: Despicable Me Official Game\": 3,\n",
      "  \"No.Draw - Colors by Number 2018\": 1,\n",
      "  \"Super ABC! Learning games for kids! Preschool apps\": 1,\n",
      "  \"PJ Masks: Moonlight Heroes\": 2,\n",
      "  \"Hot Wheels: Race Off\": 1,\n",
      "  \"Farming Simulator 14\": 1,\n",
      "  \"Mcqueen Coloring pages\": 1,\n",
      "  \"Monster Truck Driver & Racing\": 1,\n",
      "  \"Strawberry Shortcake BerryRush\": 2,\n",
      "  \"DC Super Hero Girls\\u2122\": 3,\n",
      "  \"Toca Kitchen 2\": 2,\n",
      "  \"Disney Magic Kingdoms: Build Your Own Magical Park\": 1,\n",
      "  \"Toca Life: City\": 1,\n",
      "  \"Papumba Academy - Fun Learning For Kids\": 2,\n",
      "  \"Kids Balloon Pop Game Free \\ud83c\\udf88\": 1,\n",
      "  \"Sounds for Toddlers FREE\": 1,\n",
      "  \"Elmo Calls by Sesame Street\": 2,\n",
      "  \"Sago Mini Friends\": 2,\n",
      "  \"Tee and Mo Bath Time Free\": 1,\n",
      "  \"Bita and the Animals - Pelos Ares\": 1,\n",
      "  \"TO-FU Oh!SUSHI\": 1,\n",
      "  \"DreamWorks Friends\": 1,\n",
      "  \"Avokiddo Emotions\": 1,\n",
      "  \"Nighty Night Circus\": 1,\n",
      "  \"Sago Mini Babies\": 1,\n",
      "  \"Dr. Panda & Toto's Treehouse\": 2,\n",
      "  \"PlayKids - Educational cartoons and games for kids\": 1,\n",
      "  \"Baby Panda Care\": 1,\n",
      "  \"Monster High\\u2122\": 1,\n",
      "  \"Shopkins World!\": 1,\n",
      "  \"DisneyNOW \\u2013 TV Shows & Games\": 2,\n",
      "  \"Equestria Girls\": 2,\n",
      "  \"Frozen Free Fall\": 2,\n",
      "  \"Thomas & Friends: Race On!\": 1,\n",
      "  \"Inside Out Thought Bubbles\": 1,\n",
      "  \"School of Dragons\": 1,\n",
      "  \"Peak \\u2013 Brain Games & Training\": 1,\n",
      "  \"Period Tracker\": 1,\n",
      "  \"Vargo Anesthesia Mega App\": 1,\n",
      "  \"Monash Uni Low FODMAP Diet\": 1,\n",
      "  \"mySugr: the blood sugar tracker made just for you\": 2,\n",
      "  \"Human Anatomy Atlas 2018: Complete 3D Human Body\": 2,\n",
      "  \"ASCCP Mobile\": 1,\n",
      "  \"Paramedic Protocol Provider\": 1,\n",
      "  \"2017 EMRA Antibiotic Guide\": 1,\n",
      "  \"Essential Anatomy 3\": 1,\n",
      "  \"EMT PASS\": 1,\n",
      "  \"Block Buddy\": 1,\n",
      "  \"EMT Review Plus\": 1,\n",
      "  \"Journal Club: Medicine\": 1,\n",
      "  \"Pedi STAT\": 1,\n",
      "  \"AnatomyMapp\": 1,\n",
      "  \"Diabetes & Diet Tracker\": 1,\n",
      "  \"A Manual of Acupuncture\": 1,\n",
      "  \"PTA Content Master\": 1,\n",
      "  \"Muscle Premium - Human Anatomy, Kinesiology, Bones\": 1,\n",
      "  \"Cardiac diagnosis (heart rate, arrhythmia)\": 2,\n",
      "  \"Medical ID - In Case of Emergency (ICE)\": 1,\n",
      "  \"IBM Micromedex Drug Info\": 1,\n",
      "  \"Advanced Comprehension Therapy\": 1,\n",
      "  \"Hospitalist Handbook\": 1,\n",
      "  \"Teladoc Member\": 1,\n",
      "  \"Ada - Your Health Guide\": 1,\n",
      "  \"Ovia Fertility Tracker & Ovulation Calculator\": 1,\n",
      "  \"Youper - AI Therapy\": 2,\n",
      "  \"MoodSpace\": 1,\n",
      "  \"Super Hearing Super Ear Amplifier\": 1,\n",
      "  \"Penn State Health OnDemand\": 1,\n",
      "  \"ScriptSave WellRx Rx Discounts\": 1,\n",
      "  \"Free Blood Pressure\": 2,\n",
      "  \"All Mental disorders\": 1,\n",
      "  \"Nurse Grid\": 1,\n",
      "  \"JH Blood Pressure Monitor\": 1,\n",
      "  \"Blood Pressure\": 2,\n",
      "  \"RT 516 VET\": 1,\n",
      "  \"Anthem Anywhere\": 1,\n",
      "  \"Sway Medical\": 1,\n",
      "  \"fred's Pharmacy\": 1,\n",
      "  \"Breastfeeding Tracker Baby Log\": 1,\n",
      "  \"Banfield Pet Health Tracker\": 1,\n",
      "  \"1800 Contacts - Lens Store\": 1,\n",
      "  \"TextNow - free text + calls\": 1,\n",
      "  \"Tumblr\": 2,\n",
      "  \"Snapchat\": 3,\n",
      "  \"Instagram\": 3,\n",
      "  \"Periscope - Live Video\": 2,\n",
      "  \"Pinterest\": 2,\n",
      "  \"MeetMe: Chat & Meet New People\": 4,\n",
      "  \"ooVoo Video Calls, Messaging & Stories\": 1,\n",
      "  \"LinkedIn\": 1,\n",
      "  \"Tango - Live Video Broadcast\": 1,\n",
      "  \"SayHi Chat, Meet New People\": 2,\n",
      "  \"Tapatalk - 100,000+ Forums\": 1,\n",
      "  \"Badoo - Free Chat & Dating App\": 3,\n",
      "  \"Nextdoor - Local neighborhood news & classifieds\": 1,\n",
      "  \"Meetup\": 3,\n",
      "  \"Text Free: WiFi Calling App\": 2,\n",
      "  \"textPlus: Free Text & Calls\": 1,\n",
      "  \"POF Free Dating App\": 2,\n",
      "  \"Tagged - Meet, Chat & Dating\": 1,\n",
      "  \"LOVOO\": 1,\n",
      "  \"SKOUT - Meet, Chat, Go Live\": 1,\n",
      "  \"Jaumo Dating, Flirt & Live Video\": 1,\n",
      "  \"Couple - Relationship App\": 1,\n",
      "  \"Wish - Shopping Made Fun\": 4,\n",
      "  \"SnipSnap Coupon App\": 1,\n",
      "  \"Extreme Coupon Finder\": 2,\n",
      "  \"Checkout 51: Grocery coupons\": 2,\n",
      "  \"The Coupons App\": 3,\n",
      "  \"RetailMeNot - Coupons, Deals & Discount Shopping\": 2,\n",
      "  \"Groupon - Shop Deals, Discounts & Coupons\": 3,\n",
      "  \"Stocard - Rewards Cards Wallet\": 1,\n",
      "  \"eBay: Buy & Sell this Summer - Discover Deals Now!\": 4,\n",
      "  \"Gyft - Mobile Gift Card Wallet\": 2,\n",
      "  \"Shopkick: Free Gift Cards, Shop Rewards & Deals\": 1,\n",
      "  \"Shopular: Coupons, Weekly Ads & Shopping Deals\": 1,\n",
      "  \"Carousell: Snap-Sell, Chat-Buy\": 1,\n",
      "  \"Walmart\": 1,\n",
      "  \"Ibotta: Cash Back Savings, Rewards & Coupons App\": 1,\n",
      "  \"AliExpress - Smarter Shopping, Better Living\": 3,\n",
      "  \"LivingSocial - Local Deals\": 2,\n",
      "  \"Amazon Shopping\": 2,\n",
      "  \"Poshmark - Buy & Sell Fashion\": 1,\n",
      "  \"Target - now with Cartwheel\": 2,\n",
      "  \"ZALORA Fashion Shopping\": 1,\n",
      "  \"Fancy\": 2,\n",
      "  \"Modcloth \\u2013 Unique Indie Women's Fashion & Style\": 1,\n",
      "  \"JackThreads: Men's Shopping\": 2,\n",
      "  \"Zappos \\u2013 Shoe shopping made simple\": 1,\n",
      "  \"Wanelo Shopping\": 1,\n",
      "  \"Etsy: Handmade & Vintage Goods\": 1,\n",
      "  \"Slickdeals: Coupons & Shopping\": 2,\n",
      "  \"ASOS\": 1,\n",
      "  \"Google Photos\": 3,\n",
      "  \"Shutterfly: Free Prints, Photo Books, Cards, Gifts\": 3,\n",
      "  \"InstaBeauty -Makeup Selfie Cam\": 1,\n",
      "  \"B612 - Beauty & Filter Camera\": 2,\n",
      "  \"BeautyPlus - Easy Photo Editor & Selfie Camera\": 4,\n",
      "  \"YouCam Perfect - Selfie Photo Editor\": 2,\n",
      "  \"Muzy - Share photos & collages\": 1,\n",
      "  \"QuickPic - Photo Gallery with Google Drive Support\": 2,\n",
      "  \"Flickr\": 1,\n",
      "  \"Open Camera\": 2,\n",
      "  \"Camera for Android\": 2,\n",
      "  \"Cymera Camera- Photo Editor, Filter,Collage,Layout\": 3,\n",
      "  \"Candy Camera - selfie, beauty camera, photo editor\": 2,\n",
      "  \"Camera360: Selfie Photo Editor with Funny Sticker\": 2,\n",
      "  \"Facetune - For Free\": 2,\n",
      "  \"Photo Editor Selfie Camera Filter & Mirror Image\": 1,\n",
      "  \"HD Camera for Android\": 1,\n",
      "  \"Photo Editor Pro\": 1,\n",
      "  \"YouCam Makeup - Magic Selfie Makeovers\": 1,\n",
      "  \"Photo Editor-\": 1,\n",
      "  \"Photo Editor\": 1,\n",
      "  \"Adobe Photoshop Express:Photo Editor Collage Maker\": 1,\n",
      "  \"InstaSize Photo Filters & Collage Editor\": 1,\n",
      "  \"CBS Sports App - Scores, News, Stats & Watch Live\": 7,\n",
      "  \"Yahoo Fantasy Sports - #1 Rated Fantasy App\": 4,\n",
      "  \"ESPN\": 6,\n",
      "  \"NFL\": 2,\n",
      "  \"Bleacher Report: sports news, scores, & highlights\": 5,\n",
      "  \"ESPN Fantasy Sports\": 3,\n",
      "  \"theScore: Live Sports Scores, News, Stats & Videos\": 4,\n",
      "  \"MLB At Bat\": 4,\n",
      "  \"WatchESPN\": 3,\n",
      "  \"Hole19: Golf GPS App, Rangefinder & Scorecard\": 1,\n",
      "  \"CBS Sports Fantasy\": 1,\n",
      "  \"Yahoo Sports - scores, stats, news, & highlights\": 2,\n",
      "  \"FotMob - Live Soccer Scores\": 1,\n",
      "  \"US Open Tennis Championships 2018\": 1,\n",
      "  \"FIFA - Tournaments, Soccer News & Live Scores\": 1,\n",
      "  \"Golfshot: Golf GPS + Tee Times\": 1,\n",
      "  \"BBC Sport\": 1,\n",
      "  \"MLB Ballpark\": 1,\n",
      "  \"FOX Sports: Live Streaming, Scores & News\": 1,\n",
      "  \"Fantasy Football\": 1,\n",
      "  \"PGA TOUR\": 1,\n",
      "  \"UFC\": 1,\n",
      "  \"trivago: Hotels & Travel\": 2,\n",
      "  \"Expedia Hotels, Flights & Car Rental Travel Deals\": 3,\n",
      "  \"TripAdvisor Hotels Flights Restaurants Attractions\": 4,\n",
      "  \"Skyscanner\": 4,\n",
      "  \"Booking.com Travel Deals\": 2,\n",
      "  \"Priceline Hotel Deals, Rental Cars & Flights\": 2,\n",
      "  \"United Airlines\": 1,\n",
      "  \"Southwest Airlines\": 1,\n",
      "  \"Hopper - Watch & Book Flights\": 1,\n",
      "  \"Fly Delta\": 1,\n",
      "  \"KAYAK Flights, Hotels & Cars\": 2,\n",
      "  \"American Airlines\": 2,\n",
      "  \"Orbitz - Hotels, Flights & Package Deals\": 1,\n",
      "  \"Hotels.com: Book Hotel Rooms & Find Vacation Deals\": 1,\n",
      "  \"Hostelworld: Hostels & Cheap Hotels Travel App\": 1,\n",
      "  \"Airbnb\": 1,\n",
      "  \"HotelTonight: Book amazing deals at great hotels\": 2,\n",
      "  \"Maps - Navigate & Explore\": 2,\n",
      "  \"Google Street View\": 1,\n",
      "  \"Calculator\": 1,\n",
      "  \"Gboard - the Google Keyboard\": 2,\n",
      "  \"ZEDGE\\u2122 Ringtones & Wallpapers\": 3,\n",
      "  \"Nova Launcher\": 1,\n",
      "  \"Apex Launcher\": 2,\n",
      "  \"Smart Launcher 5\": 1,\n",
      "  \"Google Keep\": 3,\n",
      "  \"Evernote \\u2013 Organizer, Planner for Notes & Memos\": 3,\n",
      "  \"ES File Explorer File Manager\": 2,\n",
      "  \"Microsoft Word\": 2,\n",
      "  \"Google Drive\": 3,\n",
      "  \"Adobe Acrobat Reader\": 2,\n",
      "  \"Google PDF Viewer\": 2,\n",
      "  \"Microsoft Excel\": 1,\n",
      "  \"Google Docs\": 2,\n",
      "  \"Microsoft PowerPoint\": 1,\n",
      "  \"Microsoft OneNote\": 2,\n",
      "  \"Google Calendar\": 2,\n",
      "  \"Wunderlist: To-Do List & Tasks\": 2,\n",
      "  \"Any.do: To-do list, Calendar, Reminders & Planner\": 2,\n",
      "  \"Todoist: To-do lists for task management & errands\": 2,\n",
      "  \"Planner Pro-Personal Organizer\": 1,\n",
      "  \"Microsoft OneDrive\": 1,\n",
      "  \"Dropbox\": 2,\n",
      "  \"MX Player\": 2,\n",
      "  \"Video Editor\": 2,\n",
      "  \"Google News\": 3,\n",
      "  \"Flipboard: News For Our Time\": 2,\n",
      "  \"BBC News\": 2,\n",
      "  \"Fox News \\u2013 Breaking News, Live Video & News Alerts\": 2,\n",
      "  \"USA TODAY\": 2,\n",
      "  \"CNN Breaking US & World News\": 2,\n",
      "  \"Twitter\": 2,\n",
      "  \"NPR News\": 1,\n",
      "  \"Haystack TV: Local & World News - Free\": 1,\n",
      "  \"ABC News - US & World News\": 1,\n",
      "  \"NBC News\": 1,\n",
      "  \"The Wall Street Journal: Business & Market News\": 1,\n",
      "  \"NYTimes - Latest News\": 2,\n",
      "  \"Newsroom: News Worth Sharing\": 1,\n",
      "  \"BuzzFeed: News, Tasty, Quizzes\": 1,\n",
      "  \"Flashlight\": 1,\n",
      "  \"Agar.io\": 1,\n",
      "  \"LEGO\\u00ae Juniors Create & Cruise\": 1,\n",
      "  \"Google Translate\": 1,\n",
      "  \"Pok\\u00e9mon GO\": 1,\n",
      "  \"PAC-MAN\": 1,\n",
      "  \"Colorfy: Coloring Book for Adults - Free\": 1,\n",
      "  \"YouTube\": 1,\n",
      "  \"Alto's Adventure\": 1,\n",
      "  \"Facebook\": 1,\n",
      "  \"VPN Free - Betternet Hotspot VPN & Private Browser\": 1,\n",
      "  \"EMT Tutor NREMT-B Study Guide\": 1,\n",
      "  \"EMT-B Pocket Prep\": 1,\n",
      "  \"Diary with lock\": 1,\n",
      "  \"C Programming\": 1,\n",
      "  \"CppDroid - C/C++ IDE\": 1,\n",
      "  \"Learn C++\": 1,\n",
      "  \"Google Duo - High Quality Video Calls\": 1,\n",
      "  \"Crossy Road\": 1,\n",
      "  \"E*TRADE Mobile\": 1,\n",
      "  \"WWE\": 1,\n",
      "  \"Amazon Kindle\": 1,\n",
      "  \"Microsoft Edge\": 1,\n",
      "  \"Microsoft Outlook\": 1,\n",
      "  \"Ebook Reader\": 1,\n",
      "  \"Flipkart Online Shopping App\": 1,\n",
      "  \"Facebook Lite\": 1,\n",
      "  \"Messenger Lite: Free Calls & Messages\": 1,\n",
      "  \"imo beta free calls and text\": 1,\n",
      "  \"Geometry Dash World\": 1,\n",
      "  \"Google+\": 1,\n",
      "  \"Google\": 1,\n",
      "  \"G Cloud Backup\": 1,\n",
      "  \"H&M\": 1,\n",
      "  \"H TV\": 1,\n",
      "  \"Talking Ben the Dog\": 1,\n",
      "  \"Sonic Dash\": 1,\n",
      "  \"Talkatone: Free Texts, Calls & Phone Number\": 1,\n",
      "  \"Textgram - write on photos\": 1,\n",
      "  \"Jetpack Joyride\": 1,\n",
      "  \"Anger of stick 5 : zombie\": 1,\n",
      "  \"Turbo FAST\": 1,\n",
      "  \"K PLUS\": 1,\n",
      "  \"PowerDirector Video Editor App: 4K, Slow Mo & More\": 1,\n",
      "  \"Fuzzy Numbers: Pre-K Number Foundation\": 1,\n",
      "  \"LiveMe - Video chat, new friends, and make money\": 1,\n",
      "  \"letgo: Buy & Sell Used Stuff, Cars & Real Estate\": 1,\n",
      "  \"Love Balls\": 1,\n",
      "  \"Last Day on Earth: Survival\": 1,\n",
      "  \"Minecraft\": 1,\n",
      "  \"MEGA\": 1,\n",
      "  \"I\\u2019m Expecting - Pregnancy App\": 1,\n",
      "  \"Diabetes:M\": 1,\n",
      "  \"PicsArt Photo Studio: Collage Maker & Pic Editor\": 1,\n",
      "  \"Quora\": 1,\n",
      "  \"SHAREit - Transfer & Share\": 1,\n",
      "  \"Topbuzz: Breaking News, Videos & Funny GIFs\": 1,\n",
      "  \"Twitch: Livestream Multiplayer Games & Esports\": 1,\n",
      "  \"myAT&T\": 1,\n",
      "  \"Truecaller: Caller ID, SMS spam blocking & Dialer\": 1,\n",
      "  \"Showtime Anytime\": 1,\n",
      "  \"Uber\": 1,\n",
      "  \"VLC for Android\": 1,\n",
      "  \"Vigo Video\": 1,\n",
      "  \"Wattpad \\ud83d\\udcd6 Free Books\": 1,\n",
      "  \"Waze - GPS, Maps, Traffic Alerts & Live Navigation\": 1,\n",
      "  \"Dating App, Flirt & Chat : W-Match\": 1,\n",
      "  \"WPS Office - Word, Docs, PDF, Note, Slide & Sheet\": 1,\n",
      "  \"LINE WEBTOON - Free Comics\": 1,\n",
      "  \"WhatsApp Business\": 1,\n",
      "  \"We Heart It\": 1,\n",
      "  \"Telegram X\": 1,\n",
      "  \"Share Music & Transfer Files - Xender\": 1,\n",
      "  \"Yandex Browser with Protect\": 1,\n",
      "  \"YouTube Studio\": 1,\n",
      "  \"PBS KIDS Video\": 1,\n",
      "  \"YouTube Gaming\": 1,\n",
      "  \"GO Keyboard - Emoticon keyboard, Free Theme, GIF\": 1,\n",
      "  \"Zello PTT Walkie Talkie\": 1,\n",
      "  \"Z Camera - Photo Editor, Beauty Selfie, Collage\": 1,\n",
      "  \"Six Pack in 30 Days - Abs Workout\": 1,\n",
      "  \"Angry Birds 2\": 1,\n",
      "  \"AC - Tips & News for Android\\u2122\": 1,\n",
      "  \"CM Browser - Ad Blocker , Fast Download , Privacy\": 1,\n",
      "  \"Mobi Calculator free & AD free!\": 1,\n",
      "  \"Flipp - Weekly Shopping\": 1,\n",
      "  \"Camera FV-5 Lite\": 1,\n",
      "  \"All Football - Latest News & Videos\": 1,\n",
      "  \"Maricopa AH\": 1,\n",
      "  \"Animal Jam - Play Wild!\": 1,\n",
      "  \"RULES OF SURVIVAL\": 1,\n",
      "  \"Amazon for Tablets\": 1,\n",
      "  \"Final Fantasy XV: A New Empire\": 1,\n",
      "  \"The Sims\\u2122 FreePlay\": 1,\n",
      "  \"Text free - Free Text + Call\": 1,\n",
      "  \"365Scores - Live Scores\": 1,\n",
      "  \"DINO HUNTER: DEADLY SHORES\": 1,\n",
      "  \"AP Mobile - Breaking News\": 1,\n",
      "  \"Reuters News\": 1,\n",
      "  \"AccuWeather: Daily Forecast & Live Weather Reports\": 1,\n",
      "  \"Moovit: Bus Time & Train Time Live Info\": 1,\n",
      "  \"Jurassic World\\u2122 Alive\": 1,\n",
      "  \"Overstock \\u2013 Home Decor, Furniture Shopping\": 1,\n",
      "  \"Choices: Stories You Play\": 1,\n",
      "  \"Runtastic Sleep Better: Sleep Cycle & Smart Alarm\": 1,\n",
      "  \"Ringtone Maker\": 1,\n",
      "  \"Plants vs. Zombies\\u2122 Heroes\": 1,\n",
      "  \"CM FILE MANAGER HD\": 1,\n",
      "  \"realestate.com.au - Buy, Rent & Sell Property\": 1,\n",
      "  \"Video Player All Format\": 1,\n",
      "  \"DEER HUNTER 2018\": 1,\n",
      "  \"Google Play Games\": 1,\n",
      "  \"ai.type Free Emoji Keyboard\": 1,\n",
      "  \"Manga AZ - Manga Comic Reader\": 1,\n",
      "  \"British Airways\": 1,\n",
      "  \"Anthem BC Anywhere\": 1,\n",
      "  \"Transit: Real-Time Transit App\": 1,\n",
      "  \"PMHNP-BC Pocket Prep\": 1,\n",
      "  \"Backgrounds HD (Wallpapers)\": 1,\n",
      "  \"Blur Image Background\": 1,\n",
      "  \"Newegg Mobile\": 1,\n",
      "  \"English Dictionary - Offline\": 1,\n",
      "  \"English Grammar Test\": 1,\n",
      "  \"Daily Manga - Comic & Webtoon\": 1,\n",
      "  \"BBM - Free Calls & Messages\": 1,\n",
      "  \"BeyondMenu Food Delivery\": 1,\n",
      "  \"NOOK: Read eBooks & Magazines\": 1,\n",
      "  \"NOOK App for NOOK Devices\": 1,\n",
      "  \"HBO GO: Stream with TV Package\": 1,\n",
      "  \"No Crop & Square for Instagram\": 1,\n",
      "  \"Hungry Shark World\": 1,\n",
      "  \"iBP Blood Pressure\": 1,\n",
      "  \"Blood Pressure Log - MyDiary\": 1,\n",
      "  \"Blood Pressure(BP) Diary\": 1,\n",
      "  \"BP Journal - Blood Pressure Diary\": 1,\n",
      "  \"Blood Pressure Monitor\": 1,\n",
      "  \"Blood Pressure Companion\": 1,\n",
      "  \"High Blood Pressure Symptoms\": 1,\n",
      "  \"QR Scanner & Barcode Scanner 2018\": 1,\n",
      "  \"Camera FV-5\": 1,\n",
      "  \"Camera MX - Free Photo & Video Camera\": 1,\n",
      "  \"Cardboard\": 1,\n",
      "  \"Maps & GPS Navigation \\u2014 OsmAnd\": 1,\n",
      "  \"Beautiful Widgets Pro\": 1,\n",
      "  \"Beautiful Widgets Free\": 1,\n",
      "  \"HD Widgets\": 1,\n",
      "  \"Color by Number \\u2013 New Coloring Book\": 1,\n",
      "  \"Photo Editor by Aviary\": 1,\n",
      "  \"UNICORN - Color By Number & Pixel Art Coloring\": 1,\n",
      "  \"420 BZ Budeze Delivery\": 1,\n",
      "  \"BZWBK24 mobile\": 1,\n",
      "  \"Zoosk Dating App: Meet Singles\": 1,\n",
      "  \"Cricbuzz - Live Cricket Scores & News\": 1,\n",
      "  \"Cheapflights \\u2013 Flight Search\": 1,\n",
      "  \"Chrome Beta\": 1,\n",
      "  \"Chrome Dev\": 1,\n",
      "  \"CJmall\": 1,\n",
      "  \"Castle Clash: Heroes of the Empire US\": 1,\n",
      "  \"CM Launcher 3D - Theme, Wallpapers, Efficient\": 1,\n",
      "  \"CM Locker - Security Lockscreen\": 1,\n",
      "  \"CM Flashlight (Compass, SOS)\": 1,\n",
      "  \"Ruler\": 1,\n",
      "  \"Cartoon Network App\": 1,\n",
      "  \"LEGO\\u00ae TV\": 1,\n",
      "  \"Brit + Co\": 1,\n",
      "  \"CT Scan Cross Sectional Anatomy\": 1,\n",
      "  \"Shadow Fight 2\": 1,\n",
      "  \"Curriculum vitae App CV Builder Free Resume Maker\": 1,\n",
      "  \"CW Seed\": 1,\n",
      "  \"Camera360 Lite - Selfie Camera\": 1,\n",
      "  \"Mapy.cz - Cycling & Hiking offline maps\": 1,\n",
      "  \"Face Filter, Selfie Editor - Sweet Camera\": 1,\n",
      "  \"Metal Soldiers 2\": 1,\n",
      "  \"COOKING MAMA Let's Cook!\": 1,\n",
      "  \"Run Sausage Run!\": 1,\n",
      "  \"Knife Hit\": 1,\n",
      "  \"DC Comics\": 1,\n",
      "  \"MARVEL Contest of Champions\": 1,\n",
      "  \"wetter.com - Weather and Radar\": 1,\n",
      "  \"CallApp: Caller ID, Blocker & Phone Call Recorder\": 1,\n",
      "  \"LINE Camera - Photo editor\": 1,\n",
      "  \"Racing in Car 2\": 1,\n",
      "  \"Dungeon Hunter Champions: Epic Online Action RPG\": 1,\n",
      "  \"Red Bull TV: Live Sports, Music & Entertainment\": 1,\n",
      "  \"Idle Heroes\": 1,\n",
      "  \"Free phone calls, free texting SMS on free number\": 1,\n",
      "  \"Phone Tracker : Family Locator\": 1,\n",
      "  \"My Photo Keyboard\": 1,\n",
      "  \"Whoscall - Caller ID & Block\": 1,\n",
      "  \"Google Sheets\": 1,\n",
      "  \"Video Downloader\": 1,\n",
      "  \"Notepad & To do list\": 1,\n",
      "  \"Polaris Office - Word, Docs, Sheets, Slide, PDF\": 1,\n",
      "  \"Do It Later: Tasks & To-Dos\": 1,\n",
      "  \"To-Do Calendar Planner\": 1,\n",
      "  \"TickTick: To Do List with Reminder, Day Planner\": 1,\n",
      "  \"ColorNote Notepad Notes\": 1,\n",
      "  \"Dude Perfect 2\": 1,\n",
      "  \"Dairy Queen\": 1,\n",
      "  \"SONIC Drive-In\": 1,\n",
      "  \"McDonald's\": 1,\n",
      "  \"Wendy\\u2019s \\u2013 Food and Offers\": 1,\n",
      "  \"Dunkin' Donuts\": 1,\n",
      "  \"SUBWAY\\u00ae\": 1,\n",
      "  \"Panera Bread\": 1,\n",
      "  \"Starbucks\": 1,\n",
      "  \"Cache Cleaner-DU Speed Booster (booster & cleaner)\": 1,\n",
      "  \"DU Browser\\u2014Browse fast & fun\": 1,\n",
      "  \"Real Racing 3\": 1,\n",
      "  \"My Little Pony Celebration\": 1,\n",
      "  \"My Little Pony: Harmony Quest\": 1,\n",
      "  \"The Emirates App\": 1,\n",
      "  \"Phogy, 3D Camera\": 1,\n",
      "  \"Weather by eltiempo.es\": 1,\n",
      "  \"The Game of Life\": 1,\n",
      "  \"Spanish English Translator\": 1,\n",
      "  \"Game for KIDS: KIDS match'em\": 1,\n",
      "  \"Dictionary - Merriam-Webster\": 1,\n",
      "  \"Edmodo\": 1,\n",
      "  \"Chess Free\": 1,\n",
      "  \"Oxford Dictionary of English : Free\": 1,\n",
      "  \"Masha and the Bear Child Games\": 1,\n",
      "  \"Episode - Choose Your Story\": 1,\n",
      "  \"The NBC App - Watch Live TV and Full Episodes\": 1,\n",
      "  \"Moto File Manager\": 1,\n",
      "  \"Moneycontrol \\u2013 Stocks, Sensex, Mutual Funds, IPO\": 1,\n",
      "  \"CNBC: Breaking Business News & Live Market Data\": 1,\n",
      "  \"Google Earth\": 1,\n",
      "  \"Amino: Communities and Chats\": 1,\n",
      "  \"Hangouts Dialer - Call Phones\": 1,\n",
      "  \"Offline Maps & Navigation\": 1,\n",
      "  \"Strawberry Shortcake Ice Cream Island\": 1,\n",
      "  \"Home Workout - No Equipment\": 1,\n",
      "  \"Home Security Camera WardenCam - reuse old phones\": 1,\n",
      "  \"Web Browser for Android\": 1,\n",
      "  \"Airway Ex - Intubate. Anesthetize. Train.\": 1,\n",
      "  \"FilterGrid - Cam&Photo Editor\": 1,\n",
      "  \"Messages, Text and Video Chat for Messenger\": 1,\n",
      "  \"All Social Networks\": 1,\n",
      "  \"Premier League - Official App\": 1,\n",
      "  \"Fallout Shelter\": 1,\n",
      "  \"Facebook Pages Manager\": 1,\n",
      "  \"Facebook Ads Manager\": 1,\n",
      "  \"Who Viewed My Facebook Profile - Stalkers Visitors\": 1,\n",
      "  \"The 5th Stand\": 1,\n",
      "  \"osmino Wi-Fi: free WiFi\": 1,\n",
      "  \"Fun Kid Racing - Motocross\": 1,\n",
      "  \"Podcast App: Free & Offline Podcasts by Player FM\": 1,\n",
      "  \"Motorola FM Radio\": 1,\n",
      "  \"FarmersOnly Dating\": 1,\n",
      "  \"FP Notebook\": 1,\n",
      "  \"AAFP\": 1\n",
      "}\n"
     ]
    }
   ],
   "source": [
    "print(json.dumps(duplicate_apps, indent=2))"
   ]
  },
  {
   "cell_type": "markdown",
   "metadata": {},
   "source": [
    "From the above cell, we understand that the app named `Quick PDF Scanner + OCR FREE` has 2 duplicate entries in the dataset and similarly for the other 797 apps. "
   ]
  },
  {
   "cell_type": "code",
   "execution_count": 16,
   "metadata": {},
   "outputs": [
    {
     "name": "stdout",
     "output_type": "stream",
     "text": [
      "Hence, our dataset must contain 9659 rows after removing 1181 duplicate entries from the dataset.\n"
     ]
    }
   ],
   "source": [
    "dataset_without_dup = len(googleplay) - num_duplicate_entries\n",
    "print('Hence, our dataset must contain {} rows after removing {} duplicate entries from the dataset.'.format(dataset_without_dup, num_duplicate_entries))"
   ]
  },
  {
   "cell_type": "markdown",
   "metadata": {},
   "source": [
    "**Removing the Duplicate entries**"
   ]
  },
  {
   "cell_type": "markdown",
   "metadata": {},
   "source": [
    "- We now know about the number of duplicate entries in the dataset, next we will remove the duplicate entries from the dataset by following the criteria that an app with duplicate entries having the highest value for the attribute/column`'Reviews'` (index 3) among the duplicate entries for that app will be kept in the dataset and remaining copies will be removed.\n",
    "\n"
   ]
  },
  {
   "cell_type": "code",
   "execution_count": 17,
   "metadata": {},
   "outputs": [
    {
     "name": "stdout",
     "output_type": "stream",
     "text": [
      "The dictionary contains 9659 entries after removing 1181 duplicate entries which is the correct number of rows as expected.\n"
     ]
    }
   ],
   "source": [
    "reviews_max = {}\n",
    "for app_info_list in googleplay:\n",
    "    app_name = app_info_list[0]\n",
    "    n_app_review = float(app_info_list[3])\n",
    "    # If app_name (key) exists in reviews_max dictionary and the value (number of reviews) \n",
    "    # coressponding to the key is less that the current value of the duplicate entry, then\n",
    "    # update the lesser value with the current greater value\n",
    "    if (app_name in reviews_max) and (reviews_max[app_name] < n_app_review):\n",
    "        reviews_max[app_name] = n_app_review\n",
    "    # If app_name (key) doesn't exist in reviews_max dictionary, then create an entry for\n",
    "    # the key with the current value of n_app_review \n",
    "    elif app_name not in reviews_max:\n",
    "        reviews_max[app_name] = n_app_review\n",
    "    else:\n",
    "        pass\n",
    "print('The dictionary contains {} entries after removing {} duplicate entries which is the correct number of rows as expected.'.format(len(reviews_max), num_duplicate_entries))"
   ]
  },
  {
   "cell_type": "markdown",
   "metadata": {},
   "source": [
    "Next, we'll create a dataset named `googleplay_clean` by selecting only the unique app data rows based on the criteria using the `reviews_max` dictionary that will hold all the unique data rows without any duplicates.\n",
    "\n",
    "We will also use a list named `googleplay_added` which will just store app names that'll help us to keep track of apps that we already added."
   ]
  },
  {
   "cell_type": "code",
   "execution_count": 18,
   "metadata": {},
   "outputs": [
    {
     "name": "stdout",
     "output_type": "stream",
     "text": [
      "The cleaned dataset without any duplicate data has 9659 rows\n"
     ]
    }
   ],
   "source": [
    "googleplay_clean = []\n",
    "googleplay_added = []\n",
    "\n",
    "for app_info_list in googleplay:\n",
    "    app_name = app_info_list[0]\n",
    "    n_app_review = float(app_info_list[3])\n",
    "    # We know that the reviews_max dictionary holds the duplicate entries in the form\n",
    "    # where the app_name is mapped to the highest number_of_review for that app amongnst the\n",
    "    # duplicate entries\n",
    "    # So if the current app's number of review is equal to the max_number_of_review for that\n",
    "    # app in the reviews_max dictionary and the app_name is not already added to the dataset\n",
    "    # then append the app_info_list to the new dataset\n",
    "    if (n_app_review == reviews_max[app_name]) and (app_name not in googleplay_added):\n",
    "        googleplay_clean.append(app_info_list)\n",
    "        googleplay_added.append(app_name)\n",
    "print('The cleaned dataset without any duplicate data has {} rows'.format(len(googleplay_clean)))"
   ]
  },
  {
   "cell_type": "markdown",
   "metadata": {},
   "source": [
    "**Checking for Non-English Apps**"
   ]
  },
  {
   "cell_type": "markdown",
   "metadata": {},
   "source": [
    "Recall that we want to perform the analysis on the apps that are free to download and install, and that are ***directed toward an English-speaking audience***. In the previous step, we managed to remove the duplicate app entries in the Google Play data set. If we explore the datasets further, we'll find that both data sets have apps with names that suggest they are not directed toward an English-speaking audience."
   ]
  },
  {
   "cell_type": "markdown",
   "metadata": {},
   "source": [
    "- Let's look at some examples of non-english app data that exist in both the datasets"
   ]
  },
  {
   "cell_type": "markdown",
   "metadata": {},
   "source": [
    "In the `googleplay_clean` dataset,"
   ]
  },
  {
   "cell_type": "code",
   "execution_count": 19,
   "metadata": {},
   "outputs": [
    {
     "name": "stdout",
     "output_type": "stream",
     "text": [
      "中国語 AQリスニング\n",
      "\n",
      "لعبة تقدر تربح DZ\n"
     ]
    }
   ],
   "source": [
    "print(googleplay_clean[4412][0])\n",
    "print()\n",
    "print(googleplay_clean[7940][0])"
   ]
  },
  {
   "cell_type": "markdown",
   "metadata": {},
   "source": [
    "And in the `applestore` dataset,"
   ]
  },
  {
   "cell_type": "code",
   "execution_count": 20,
   "metadata": {},
   "outputs": [
    {
     "name": "stdout",
     "output_type": "stream",
     "text": [
      "同花顺-炒股、股票\n",
      "\n",
      "央视影音-海量央视内容高清直播\n"
     ]
    }
   ],
   "source": [
    "print(applestore[84][2])\n",
    "print()\n",
    "print(applestore[210][2])"
   ]
  },
  {
   "cell_type": "markdown",
   "metadata": {},
   "source": [
    "Our next task is to remove all such non-english apps from both the datasets. One way to go about this is to remove each app with a name containing a symbol that is not commonly used in English text. English text usually includes letters from the English alphabet, numbers composed of digits from `0 to 9`, punctuation marks `(., !, ?, ;),` and other symbols `(+, *, /)`.\n",
    "\n",
    "Behind the scenes, each character we use in a string has a corresponding number associated with it. For instance, the corresponding number for character `'a' is 97`, character `'A' is 65`, and character `'爱' is 29,233`. We can get the corresponding number of each character using the `ord()` built-in function. The numbers corresponding to the characters we commonly use in an English text are all in the range 0 to 127, according to the `ASCII (American Standard Code for Information Interchange)` system."
   ]
  },
  {
   "cell_type": "code",
   "execution_count": 21,
   "metadata": {},
   "outputs": [],
   "source": [
    "def app_name_eval(app_name):\n",
    "    for character in app_name:\n",
    "        # If an app name contains a character that is greater than 127, \n",
    "        # then it probably means that the app has a non-English name\n",
    "        if ord(character) > 127:\n",
    "            return False\n",
    "    # If none of the characters of the app_name is greater that 127, \n",
    "    # then return True (i.ie., it is an english name)\n",
    "    return True"
   ]
  },
  {
   "cell_type": "markdown",
   "metadata": {},
   "source": [
    "- Let's check if the above function works correctly"
   ]
  },
  {
   "cell_type": "code",
   "execution_count": 22,
   "metadata": {},
   "outputs": [
    {
     "name": "stdout",
     "output_type": "stream",
     "text": [
      "English app name: True\n"
     ]
    }
   ],
   "source": [
    "result_1 = app_name_eval('Instagram')\n",
    "print('English app name: {}'.format(result_1))"
   ]
  },
  {
   "cell_type": "code",
   "execution_count": 23,
   "metadata": {},
   "outputs": [
    {
     "name": "stdout",
     "output_type": "stream",
     "text": [
      "English app name: False\n"
     ]
    }
   ],
   "source": [
    "result_2 = app_name_eval('爱奇艺PPS -《欢乐颂2》电视剧热播')\n",
    "print('English app name: {}'.format(result_2))"
   ]
  },
  {
   "cell_type": "code",
   "execution_count": 24,
   "metadata": {},
   "outputs": [
    {
     "name": "stdout",
     "output_type": "stream",
     "text": [
      "English app name: False\n"
     ]
    }
   ],
   "source": [
    "result_3 = app_name_eval('Docs To Go™ Free Office Suite')\n",
    "print('English app name: {}'.format(result_3))"
   ]
  },
  {
   "cell_type": "code",
   "execution_count": 25,
   "metadata": {},
   "outputs": [
    {
     "name": "stdout",
     "output_type": "stream",
     "text": [
      "English app name: False\n"
     ]
    }
   ],
   "source": [
    "result_4 = app_name_eval('Instachat 😜')\n",
    "print('English app name: {}'.format(result_4))"
   ]
  },
  {
   "cell_type": "markdown",
   "metadata": {},
   "source": [
    "In all the four cases above, the function returns the correct result, but considering the last two cases, the app names can be considered as english names as only english letters are used but there are some special characters and emojis present whose ASCII value is more than 127."
   ]
  },
  {
   "cell_type": "code",
   "execution_count": 26,
   "metadata": {},
   "outputs": [
    {
     "name": "stdout",
     "output_type": "stream",
     "text": [
      " 😜: 128540\n",
      "  ™: 8482\n"
     ]
    }
   ],
   "source": [
    "print('{:>2}: {}'.format('😜', ord('😜')))\n",
    "print('{:>3}: {}'.format('™', ord('™')))"
   ]
  },
  {
   "cell_type": "markdown",
   "metadata": {},
   "source": [
    "If we're going to use the function we've created, we'll lose useful data since many English apps will be incorrectly labeled as non-English. To minimize the impact of data loss, we'll only remove an app if its name has more than three characters with corresponding numbers falling outside the ASCII range. This means all English apps with up to three emoji or other special characters will still be labeled as English. Our filter function is still not perfect, but it should be fairly effective."
   ]
  },
  {
   "cell_type": "markdown",
   "metadata": {},
   "source": [
    "- Let's create a new function by changing the existing function `app_name_eval()`"
   ]
  },
  {
   "cell_type": "code",
   "execution_count": 27,
   "metadata": {},
   "outputs": [],
   "source": [
    "def app_name_eval_updated(app_name):\n",
    "    num_chars = 0\n",
    "    for character in app_name:\n",
    "        if ord(character) > 127:\n",
    "            num_chars += 1\n",
    "    if num_chars > 3:\n",
    "        return False\n",
    "    return True"
   ]
  },
  {
   "cell_type": "markdown",
   "metadata": {},
   "source": [
    "- Let's check if the above function `app_name_eval_updated()` works correctly"
   ]
  },
  {
   "cell_type": "code",
   "execution_count": 28,
   "metadata": {},
   "outputs": [
    {
     "name": "stdout",
     "output_type": "stream",
     "text": [
      "English app name: True\n"
     ]
    }
   ],
   "source": [
    "result_5 = app_name_eval_updated('Docs To Go™ Free Office Suite')\n",
    "print('English app name: {}'.format(result_5))"
   ]
  },
  {
   "cell_type": "code",
   "execution_count": 29,
   "metadata": {},
   "outputs": [
    {
     "name": "stdout",
     "output_type": "stream",
     "text": [
      "English app name: True\n"
     ]
    }
   ],
   "source": [
    "result_6 = app_name_eval_updated('Instachat 😜')\n",
    "print('English app name: {}'.format(result_6))"
   ]
  },
  {
   "cell_type": "code",
   "execution_count": 30,
   "metadata": {},
   "outputs": [
    {
     "name": "stdout",
     "output_type": "stream",
     "text": [
      "English app name: False\n"
     ]
    }
   ],
   "source": [
    "result_7 = app_name_eval_updated('爱奇艺PPS -《欢乐颂2》电视剧热播')\n",
    "print('English app name: {}'.format(result_7))"
   ]
  },
  {
   "cell_type": "markdown",
   "metadata": {},
   "source": [
    "- The above function is working correctly as per the condition that an app is considered as an english named app if it contains more than 3 characters having a value greater than 127."
   ]
  },
  {
   "cell_type": "markdown",
   "metadata": {},
   "source": [
    "Next, we'll further clean both the datasets by removing the non-english apps"
   ]
  },
  {
   "cell_type": "markdown",
   "metadata": {},
   "source": [
    "**Removing Non-English Apps**"
   ]
  },
  {
   "cell_type": "code",
   "execution_count": 31,
   "metadata": {},
   "outputs": [],
   "source": [
    "def remove_non_eng_apps(dataset, appname_col_index):\n",
    "    '''\n",
    "    Input:\n",
    "              dataset - dataset with english and non-english apps\n",
    "                        (without header row)\n",
    "    appname_col_index - app name column index in dataset\n",
    "    \n",
    "    Output:\n",
    "      cleaned_dataset - list of lists containing info of only \n",
    "                        english apps\n",
    "    '''\n",
    "    cleaned_dataset = []\n",
    "    for app_info_list in dataset:\n",
    "        app_name = app_info_list[appname_col_index]\n",
    "        if app_name_eval_updated(app_name):\n",
    "            cleaned_dataset.append(app_info_list)\n",
    "    return cleaned_dataset"
   ]
  },
  {
   "cell_type": "code",
   "execution_count": 32,
   "metadata": {},
   "outputs": [],
   "source": [
    "googleplay_english = remove_non_eng_apps(googleplay_clean, 0)\n",
    "applestore_english = remove_non_eng_apps(applestore, 2)"
   ]
  },
  {
   "cell_type": "markdown",
   "metadata": {},
   "source": [
    "- Let's print some rows of both `googleplay_english` and `applestore_english` dataset"
   ]
  },
  {
   "cell_type": "markdown",
   "metadata": {},
   "source": [
    "**Google Play Android Apps Data (english named apps)**"
   ]
  },
  {
   "cell_type": "code",
   "execution_count": 33,
   "metadata": {},
   "outputs": [
    {
     "name": "stdout",
     "output_type": "stream",
     "text": [
      "['Photo Editor & Candy Camera & Grid & ScrapBook', 'ART_AND_DESIGN', '4.1', '159', '19M', '10,000+', 'Free', '0', 'Everyone', 'Art & Design', 'January 7, 2018', '1.0.0', '4.0.3 and up']\n",
      "\n",
      "\n",
      "['U Launcher Lite – FREE Live Cool Themes, Hide Apps', 'ART_AND_DESIGN', '4.7', '87510', '8.7M', '5,000,000+', 'Free', '0', 'Everyone', 'Art & Design', 'August 1, 2018', '1.2.4', '4.0.3 and up']\n",
      "\n",
      "\n",
      "['Sketch - Draw & Paint', 'ART_AND_DESIGN', '4.5', '215644', '25M', '50,000,000+', 'Free', '0', 'Teen', 'Art & Design', 'June 8, 2018', 'Varies with device', '4.2 and up']\n",
      "\n",
      "\n",
      "Number of rows: 9614\n",
      "Number of columns: 13\n"
     ]
    }
   ],
   "source": [
    "explore_data(googleplay_english, start=0, end=3, rows_and_columns=True)"
   ]
  },
  {
   "cell_type": "markdown",
   "metadata": {},
   "source": [
    "**App Store iOS Apps Data (english named apps)**"
   ]
  },
  {
   "cell_type": "code",
   "execution_count": 34,
   "metadata": {},
   "outputs": [
    {
     "name": "stdout",
     "output_type": "stream",
     "text": [
      "['1', '281656475', 'PAC-MAN Premium', '100788224', 'USD', '3.99', '21292', '26', '4', '4.5', '6.3.5', '4+', 'Games', '38', '5', '10', '1']\n",
      "\n",
      "\n",
      "['2', '281796108', 'Evernote - stay organized', '158578688', 'USD', '0', '161065', '26', '4', '3.5', '8.2.2', '4+', 'Productivity', '37', '5', '23', '1']\n",
      "\n",
      "\n",
      "['3', '281940292', 'WeatherBug - Local Weather, Radar, Maps, Alerts', '100524032', 'USD', '0', '188583', '2822', '3.5', '4.5', '5.0.0', '4+', 'Weather', '37', '5', '3', '1']\n",
      "\n",
      "\n",
      "Number of rows: 6183\n",
      "Number of columns: 17\n"
     ]
    }
   ],
   "source": [
    "explore_data(applestore_english, start=0, end=3, rows_and_columns=True)"
   ]
  },
  {
   "cell_type": "markdown",
   "metadata": {},
   "source": [
    "We see that, the `googleplay_english` dataset has data of 9614 english-named apps and the `applestore_english` dataset has data of 6183 english-named apps."
   ]
  },
  {
   "cell_type": "markdown",
   "metadata": {},
   "source": [
    "**Isolating free apps**"
   ]
  },
  {
   "cell_type": "markdown",
   "metadata": {},
   "source": [
    "So far in the data cleaning process, we:\n",
    "- Removed inaccurate data\n",
    "- Removed duplicate app entries\n",
    "- Removed non-English apps\n",
    "\n",
    "Recall again that we want to perform the analysis on the apps that are ***free to download and install***, and that are directed toward an English-speaking audience. Our data sets contain both free and non-free apps; we'll need to isolate only the free apps for our analysis. Isolating the free apps will be our last step in the data cleaning process."
   ]
  },
  {
   "cell_type": "code",
   "execution_count": 35,
   "metadata": {},
   "outputs": [],
   "source": [
    "def isolate_free_apps(dataset, price_col_index):\n",
    "    '''\n",
    "    Input:\n",
    "            dataset - dataset with free and non-free english apps\n",
    "                      (without header row)\n",
    "    price_col_index - app price column index in dataset\n",
    "    \n",
    "    Output:\n",
    "          free_apps - list of lists containing info of \n",
    "                      only free english apps\n",
    "    '''\n",
    "    free_apps = []\n",
    "    for app_info_list in dataset:\n",
    "        app_price = app_info_list[price_col_index]\n",
    "        if app_price == '0':\n",
    "            free_apps.append(app_info_list)\n",
    "    return free_apps"
   ]
  },
  {
   "cell_type": "code",
   "execution_count": 36,
   "metadata": {},
   "outputs": [],
   "source": [
    "googleplay_free_eng_apps = isolate_free_apps(googleplay_english, 7)\n",
    "applestore_free_eng_apps = isolate_free_apps(applestore_english, 5)"
   ]
  },
  {
   "cell_type": "markdown",
   "metadata": {},
   "source": [
    "- Let's explore both `googleplay_free_eng_apps` and `applestore_free_eng_apps` datasets"
   ]
  },
  {
   "cell_type": "markdown",
   "metadata": {},
   "source": [
    "**Google Play Android Apps Data (free english named apps)**"
   ]
  },
  {
   "cell_type": "code",
   "execution_count": 37,
   "metadata": {},
   "outputs": [
    {
     "name": "stdout",
     "output_type": "stream",
     "text": [
      "['Photo Editor & Candy Camera & Grid & ScrapBook', 'ART_AND_DESIGN', '4.1', '159', '19M', '10,000+', 'Free', '0', 'Everyone', 'Art & Design', 'January 7, 2018', '1.0.0', '4.0.3 and up']\n",
      "\n",
      "\n",
      "['U Launcher Lite – FREE Live Cool Themes, Hide Apps', 'ART_AND_DESIGN', '4.7', '87510', '8.7M', '5,000,000+', 'Free', '0', 'Everyone', 'Art & Design', 'August 1, 2018', '1.2.4', '4.0.3 and up']\n",
      "\n",
      "\n",
      "['Sketch - Draw & Paint', 'ART_AND_DESIGN', '4.5', '215644', '25M', '50,000,000+', 'Free', '0', 'Teen', 'Art & Design', 'June 8, 2018', 'Varies with device', '4.2 and up']\n",
      "\n",
      "\n",
      "Number of rows: 8864\n",
      "Number of columns: 13\n"
     ]
    }
   ],
   "source": [
    "explore_data(googleplay_free_eng_apps, start=0, end=3, rows_and_columns=True)"
   ]
  },
  {
   "cell_type": "markdown",
   "metadata": {},
   "source": [
    "**App Store iOS Apps Data (free english named apps)**"
   ]
  },
  {
   "cell_type": "code",
   "execution_count": 38,
   "metadata": {},
   "outputs": [
    {
     "name": "stdout",
     "output_type": "stream",
     "text": [
      "['2', '281796108', 'Evernote - stay organized', '158578688', 'USD', '0', '161065', '26', '4', '3.5', '8.2.2', '4+', 'Productivity', '37', '5', '23', '1']\n",
      "\n",
      "\n",
      "['3', '281940292', 'WeatherBug - Local Weather, Radar, Maps, Alerts', '100524032', 'USD', '0', '188583', '2822', '3.5', '4.5', '5.0.0', '4+', 'Weather', '37', '5', '3', '1']\n",
      "\n",
      "\n",
      "['4', '282614216', 'eBay: Best App to Buy, Sell, Save! Online Shopping', '128512000', 'USD', '0', '262241', '649', '4', '4.5', '5.10.0', '12+', 'Shopping', '37', '5', '9', '1']\n",
      "\n",
      "\n",
      "Number of rows: 3222\n",
      "Number of columns: 17\n"
     ]
    }
   ],
   "source": [
    "explore_data(applestore_free_eng_apps, start=0, end=3, rows_and_columns=True)"
   ]
  },
  {
   "cell_type": "markdown",
   "metadata": {},
   "source": [
    "After,\n",
    "   - Removing inaccurate data\n",
    "   - Removing duplicate app entries\n",
    "   - Removing non-English apps\n",
    "   - Isolating the free apps\n",
    "\n",
    "We are now left with **8864 Android apps** and **3222 iOS apps** for analysis."
   ]
  },
  {
   "cell_type": "markdown",
   "metadata": {},
   "source": [
    "**Most Common Apps by Genre**"
   ]
  },
  {
   "cell_type": "markdown",
   "metadata": {},
   "source": [
    "As we mentioned in the introduction, our aim is to determine the kinds of apps that are likely to attract more users because our revenue is highly influenced by the number of people using our apps.\n",
    "\n",
    "To minimize risks and overhead, our validation strategy for an app idea is comprised of three steps:\n",
    "\n",
    "   - Build a minimal Android version of the app, and add it to Google Play.\n",
    "   - If the app has a good response from users, we develop it further.\n",
    "   - If the app is profitable after six months, we build an iOS version of the app and add it to the App Store.\n",
    "\n",
    "Because our end goal is to add the app on both Google Play and the App Store, we need to find app profiles that are successful on both markets. For instance, a profile that works well for both markets might be a productivity app that makes use of gamification."
   ]
  },
  {
   "cell_type": "markdown",
   "metadata": {},
   "source": [
    "- Let's analyze our app datasets and create a frequence table to determine some of the most common apps by genre"
   ]
  },
  {
   "cell_type": "code",
   "execution_count": 39,
   "metadata": {},
   "outputs": [],
   "source": [
    "def frequency_table(dataset, genre_col_index):\n",
    "    freq_table = {}\n",
    "    total_rows = 0\n",
    "    # Getting a total count of different types of app genres\n",
    "    for app_info_list in dataset:\n",
    "        total_rows += 1\n",
    "        genre = app_info_list[genre_col_index]\n",
    "        if genre not in freq_table:\n",
    "            freq_table[genre] = 1\n",
    "        else:\n",
    "            freq_table[genre] += 1\n",
    "    \n",
    "    freq_table_percent = {}\n",
    "    # Converting the total number into a percentage\n",
    "    for genre in freq_table:\n",
    "        percentage = (freq_table[genre] / total_rows)*100\n",
    "        freq_table_percent[genre] = percentage\n",
    "        \n",
    "    return freq_table_percent"
   ]
  },
  {
   "cell_type": "markdown",
   "metadata": {},
   "source": [
    "- The following function takes in the genre:count dictionary from the above function `frequency_table()` and then sorts the genre by counts in descending order."
   ]
  },
  {
   "cell_type": "code",
   "execution_count": 40,
   "metadata": {},
   "outputs": [],
   "source": [
    "def sort_freq_table(dataset, genre_col_index):\n",
    "    freq_table_percentage = frequency_table(dataset, genre_col_index)\n",
    "    list_of_tuples = []\n",
    "    for genre in freq_table_percentage:\n",
    "        genre_count_tuple = (freq_table_percentage[genre], genre)\n",
    "        list_of_tuples.append(genre_count_tuple)\n",
    "    # Sort in descending order\n",
    "    sorted_genre_counts = sorted(list_of_tuples, reverse=True)\n",
    "    for genre_tuple in sorted_genre_counts:\n",
    "        print('{:>19}: {}'.format(genre_tuple[1],genre_tuple[0]))"
   ]
  },
  {
   "cell_type": "markdown",
   "metadata": {},
   "source": [
    "**Google Play Android Apps Data**"
   ]
  },
  {
   "cell_type": "code",
   "execution_count": 41,
   "metadata": {},
   "outputs": [
    {
     "name": "stdout",
     "output_type": "stream",
     "text": [
      "['App', 'Category', 'Rating', 'Reviews', 'Size', 'Installs', 'Type', 'Price', 'Content Rating', 'Genres', 'Last Updated', 'Current Ver', 'Android Ver'] \n",
      "\n",
      "\n",
      "             FAMILY: 18.907942238267147\n",
      "               GAME: 9.724729241877256\n",
      "              TOOLS: 8.461191335740072\n",
      "           BUSINESS: 4.591606498194946\n",
      "          LIFESTYLE: 3.9034296028880866\n",
      "       PRODUCTIVITY: 3.892148014440433\n",
      "            FINANCE: 3.7003610108303246\n",
      "            MEDICAL: 3.531137184115524\n",
      "             SPORTS: 3.395758122743682\n",
      "    PERSONALIZATION: 3.3167870036101084\n",
      "      COMMUNICATION: 3.2378158844765346\n",
      " HEALTH_AND_FITNESS: 3.0798736462093865\n",
      "        PHOTOGRAPHY: 2.944494584837545\n",
      " NEWS_AND_MAGAZINES: 2.7978339350180503\n",
      "             SOCIAL: 2.6624548736462095\n",
      "   TRAVEL_AND_LOCAL: 2.33528880866426\n",
      "           SHOPPING: 2.2450361010830324\n",
      "BOOKS_AND_REFERENCE: 2.1435018050541514\n",
      "             DATING: 1.861462093862816\n",
      "      VIDEO_PLAYERS: 1.7937725631768955\n",
      "MAPS_AND_NAVIGATION: 1.3989169675090252\n",
      "     FOOD_AND_DRINK: 1.2409747292418771\n",
      "          EDUCATION: 1.1620036101083033\n",
      "      ENTERTAINMENT: 0.9589350180505415\n",
      " LIBRARIES_AND_DEMO: 0.9363718411552346\n",
      "  AUTO_AND_VEHICLES: 0.9250902527075812\n",
      "     HOUSE_AND_HOME: 0.8235559566787004\n",
      "            WEATHER: 0.8009927797833934\n",
      "             EVENTS: 0.7107400722021661\n",
      "          PARENTING: 0.6543321299638989\n",
      "     ART_AND_DESIGN: 0.6430505415162455\n",
      "             COMICS: 0.6204873646209386\n",
      "             BEAUTY: 0.5979241877256317\n"
     ]
    }
   ],
   "source": [
    "print(googleplay_header,'\\n\\n')\n",
    "category_col_index = googleplay_header.index('Category')\n",
    "sort_freq_table(googleplay_free_eng_apps, category_col_index)"
   ]
  },
  {
   "cell_type": "markdown",
   "metadata": {},
   "source": [
    "We are not considering the `'Genres'` column from the `googleplay_free_eng_apps` dataset because the `'Genres'` column is much more granular (it has more categories). We're only looking for the bigger picture at the moment, so we'll only work with the Category column moving forward."
   ]
  },
  {
   "cell_type": "markdown",
   "metadata": {},
   "source": [
    "**App Store iOS Apps Data**"
   ]
  },
  {
   "cell_type": "code",
   "execution_count": 42,
   "metadata": {},
   "outputs": [
    {
     "name": "stdout",
     "output_type": "stream",
     "text": [
      "['', 'id', 'track_name', 'size_bytes', 'currency', 'price', 'rating_count_tot', 'rating_count_ver', 'user_rating', 'user_rating_ver', 'ver', 'cont_rating', 'prime_genre', 'sup_devices.num', 'ipadSc_urls.num', 'lang.num', 'vpp_lic'] \n",
      "\n",
      "\n",
      "              Games: 58.16263190564867\n",
      "      Entertainment: 7.883302296710118\n",
      "      Photo & Video: 4.9658597144630665\n",
      "          Education: 3.662321539416512\n",
      "  Social Networking: 3.2898820608317814\n",
      "           Shopping: 2.60707635009311\n",
      "          Utilities: 2.5139664804469275\n",
      "             Sports: 2.1415270018621975\n",
      "              Music: 2.0484171322160147\n",
      "   Health & Fitness: 2.0173805090006205\n",
      "       Productivity: 1.7380509000620732\n",
      "          Lifestyle: 1.5828677839851024\n",
      "               News: 1.3345747982619491\n",
      "             Travel: 1.2414649286157666\n",
      "            Finance: 1.1173184357541899\n",
      "            Weather: 0.8690254500310366\n",
      "       Food & Drink: 0.8069522036002483\n",
      "          Reference: 0.5586592178770949\n",
      "           Business: 0.5276225946617008\n",
      "               Book: 0.4345127250155183\n",
      "         Navigation: 0.186219739292365\n",
      "            Medical: 0.186219739292365\n",
      "           Catalogs: 0.12414649286157665\n"
     ]
    }
   ],
   "source": [
    "print(applestore_header,'\\n\\n')\n",
    "prime_genre_col_index = applestore_header.index('prime_genre')\n",
    "sort_freq_table(applestore_free_eng_apps, prime_genre_col_index)"
   ]
  },
  {
   "cell_type": "markdown",
   "metadata": {},
   "source": [
    "- Let's analyze the derived frequency tables and make observations."
   ]
  },
  {
   "cell_type": "markdown",
   "metadata": {},
   "source": [
    "**Google Play: Android Apps**"
   ]
  },
  {
   "cell_type": "markdown",
   "metadata": {},
   "source": [
    "Q. **What are the most common genres?**\n",
    "\n",
    "The top 5 genres are:\n",
    "\n",
    "| Genre     | Frequency (in %)  |\n",
    "| --------- | ----------------- |\n",
    "| Family    | 18.90794223826714 |\n",
    "| Game      | 9.724729241877256 |\n",
    "| Tools     | 8.461191335740072 |\n",
    "| Business  | 4.591606498194946 |\n",
    "| Lifestyle | 3.903429602888086 |"
   ]
  },
  {
   "cell_type": "markdown",
   "metadata": {},
   "source": [
    "Q. **What other patterns do you see?**\n",
    "\n",
    "Looking at the top 10 genres, there are not that many apps designed for fun, and it seems that a good number of apps are designed for practical purposes."
   ]
  },
  {
   "cell_type": "markdown",
   "metadata": {},
   "source": [
    "**App Store: iOS Apps**"
   ]
  },
  {
   "cell_type": "markdown",
   "metadata": {},
   "source": [
    "Q. **What are the most common genres?**\n",
    "\n",
    "The top 5 genres are:\n",
    "\n",
    "| Genre             | Frequency (in %)  |\n",
    "| ----------------- | ----------------- |\n",
    "| Games             | 58.16263190564867 |\n",
    "| Entertainment     | 7.883302296710118 |\n",
    "| Photo & Video     | 4.965859714463066 |\n",
    "| Education         | 3.662321539416512 |\n",
    "| Social Networking | 3.289882060831781 |"
   ]
  },
  {
   "cell_type": "markdown",
   "metadata": {},
   "source": [
    "Q. **What other patterns do you see?**\n",
    "\n",
    "Looking at the top 10 genres, AppStore is dominated by apps that are designed for fun (games, entertainment, photo and video, social networking, sports, music, etc.), while apps with practical purposes (education, shopping, utilities, productivity, lifestyle, etc.) are more rare."
   ]
  },
  {
   "cell_type": "markdown",
   "metadata": {},
   "source": [
    "**Most popular Genre of app by Number of Users**"
   ]
  },
  {
   "cell_type": "markdown",
   "metadata": {},
   "source": [
    "If there's a large number of apps for a particular genre, does that also imply that apps of that genre generally have a large number of users?\n",
    "\n",
    "The frequency tables we analyzed on the previous screen showed us that the App Store is dominated by apps designed for fun, while Google Play shows a more balanced landscape of both practical and fun apps. Now, we'd like to get an idea about the kind of apps with the most users.\n",
    "\n",
    "One way to find out what genres have the most users is to calculate the average number of installs for each app genre."
   ]
  },
  {
   "cell_type": "markdown",
   "metadata": {},
   "source": [
    "**Google Play: Android Apps**"
   ]
  },
  {
   "cell_type": "markdown",
   "metadata": {},
   "source": [
    "For the Google Play data set, we will use the `'Installs'` column to find which genre of apps have highest number of users. The `'Installs'` column values are not precise enough, instead most values are open-ended (100+, 1,000+, 5,000+, etc.)\n",
    "\n",
    "We'll consider that an app with 100,000+ installs has 100,000 installs, and an app with 1,000,000+ installs has 1,000,000 installs, and so on. To perform computations, however, we'll need to convert each install number from string to float. This means we need to remove the commas and the plus characters, otherwise the conversion will fail and raise an error."
   ]
  },
  {
   "cell_type": "code",
   "execution_count": 43,
   "metadata": {},
   "outputs": [
    {
     "name": "stdout",
     "output_type": "stream",
     "text": [
      "      COMMUNICATION: 38456119.167247385\n",
      "      VIDEO_PLAYERS: 24727872.452830188\n",
      "             SOCIAL: 23253652.127118643\n",
      "        PHOTOGRAPHY: 17840110.40229885\n",
      "       PRODUCTIVITY: 16787331.344927534\n",
      "               GAME: 15588015.603248259\n",
      "   TRAVEL_AND_LOCAL: 13984077.710144928\n",
      "      ENTERTAINMENT: 11640705.88235294\n",
      "              TOOLS: 10801391.298666667\n",
      " NEWS_AND_MAGAZINES: 9549178.467741935\n",
      "BOOKS_AND_REFERENCE: 8767811.894736841\n",
      "           SHOPPING: 7036877.311557789\n",
      "    PERSONALIZATION: 5201482.6122448975\n",
      "            WEATHER: 5074486.197183099\n",
      " HEALTH_AND_FITNESS: 4188821.9853479853\n",
      "MAPS_AND_NAVIGATION: 4056941.7741935486\n",
      "             FAMILY: 3695641.8198090694\n",
      "             SPORTS: 3638640.1428571427\n",
      "     ART_AND_DESIGN: 1986335.0877192982\n",
      "     FOOD_AND_DRINK: 1924897.7363636363\n",
      "          EDUCATION: 1833495.145631068\n",
      "           BUSINESS: 1712290.1474201474\n",
      "          LIFESTYLE: 1437816.2687861272\n",
      "            FINANCE: 1387692.475609756\n",
      "     HOUSE_AND_HOME: 1331540.5616438356\n",
      "             DATING: 854028.8303030303\n",
      "             COMICS: 817657.2727272727\n",
      "  AUTO_AND_VEHICLES: 647317.8170731707\n",
      " LIBRARIES_AND_DEMO: 638503.734939759\n",
      "          PARENTING: 542603.6206896552\n",
      "             BEAUTY: 513151.88679245283\n",
      "             EVENTS: 253542.22222222222\n",
      "            MEDICAL: 120550.61980830671\n"
     ]
    }
   ],
   "source": [
    "# Call the function to get the dictionary with unique genres (keys)\n",
    "categories_android = frequency_table(googleplay_free_eng_apps, 1)\n",
    "avgnum_installs = []\n",
    "for genre_category in categories_android:\n",
    "    total_installs = 0\n",
    "    num_of_apps_in_genre = 0\n",
    "    for app_info_list in googleplay_free_eng_apps:\n",
    "        app_genre = app_info_list[1]\n",
    "        if app_genre == genre_category:\n",
    "            n_app_installs = app_info_list[5]\n",
    "            n_app_installs = n_app_installs.replace(',','')\n",
    "            n_app_installs = n_app_installs.replace('+','')\n",
    "            n_app_installs = float(n_app_installs)\n",
    "            total_installs += n_app_installs\n",
    "            num_of_apps_in_genre += 1\n",
    "    avg_num_of_installs = total_installs / num_of_apps_in_genre\n",
    "    avgnum_installs.append((genre_category, avg_num_of_installs))\n",
    "\n",
    "num_installs = []\n",
    "for info_tuples in avgnum_installs:\n",
    "    rev_tuple = (info_tuples[1], info_tuples[0])\n",
    "    num_installs.append(rev_tuple)\n",
    "sorted_num_installs = sorted(num_installs, reverse=True)\n",
    "for genre_installs in sorted_num_installs:\n",
    "    print('{:>19}: {}'.format(genre_installs[1], genre_installs[0]))"
   ]
  },
  {
   "cell_type": "markdown",
   "metadata": {},
   "source": [
    "From the android apps data presented above, we see that apps from the **communication** genre have the highest number of average installs.\n",
    "\n",
    "- Let's take a look at the apps that come under the `communication` genre and have number of installs within the range from 100,000,000+ to 1,000,000,000+."
   ]
  },
  {
   "cell_type": "code",
   "execution_count": 44,
   "metadata": {},
   "outputs": [
    {
     "name": "stdout",
     "output_type": "stream",
     "text": [
      "                                WhatsApp Messenger: 1,000,000,000+\n",
      "                      imo beta free calls and text: 100,000,000+\n",
      "                                  Android Messages: 100,000,000+\n",
      "             Google Duo - High Quality Video Calls: 500,000,000+\n",
      "          Messenger – Text and Video Chat for Free: 1,000,000,000+\n",
      "                     imo free video calls and chat: 500,000,000+\n",
      "                     Skype - free IM & video calls: 1,000,000,000+\n",
      "                                               Who: 100,000,000+\n",
      "        GO SMS Pro - Messenger, Free Themes, Emoji: 100,000,000+\n",
      "                       LINE: Free Calls & Messages: 500,000,000+\n",
      "                      Google Chrome: Fast & Secure: 1,000,000,000+\n",
      "                    Firefox Browser fast & private: 100,000,000+\n",
      "       UC Browser - Fast Download Private & Secure: 500,000,000+\n",
      "                                             Gmail: 1,000,000,000+\n",
      "                                          Hangouts: 1,000,000,000+\n",
      "             Messenger Lite: Free Calls & Messages: 100,000,000+\n",
      "                                               Kik: 100,000,000+\n",
      "                      KakaoTalk: Free Calls & Text: 100,000,000+\n",
      "                     Opera Mini - fast web browser: 100,000,000+\n",
      "                    Opera Browser: Fast and Secure: 100,000,000+\n",
      "                                          Telegram: 100,000,000+\n",
      " Truecaller: Caller ID, SMS spam blocking & Dialer: 100,000,000+\n",
      "       UC Browser Mini -Tiny Fast Private & Secure: 100,000,000+\n",
      "                                   Viber Messenger: 500,000,000+\n",
      "                                            WeChat: 100,000,000+\n",
      "                       Yahoo Mail – Stay Organized: 100,000,000+\n",
      "                       BBM - Free Calls & Messages: 100,000,000+\n"
     ]
    }
   ],
   "source": [
    "for app_info_list in googleplay_free_eng_apps:\n",
    "    if app_info_list[1] == 'COMMUNICATION' and (app_info_list[5] == '1,000,000,000+'\n",
    "                                                or app_info_list[5] == '500,000,000+'\n",
    "                                                or app_info_list[5] == '100,000,000+'):\n",
    "        print('{:>50}: {}'.format(app_info_list[0],app_info_list[5]))"
   ]
  },
  {
   "cell_type": "markdown",
   "metadata": {},
   "source": [
    "- Let's take a look at the apps that come under the runner-up `video-players` genre and have number of installs within the range from 100,000,000+ to 1,000,000,000+."
   ]
  },
  {
   "cell_type": "code",
   "execution_count": 45,
   "metadata": {},
   "outputs": [
    {
     "name": "stdout",
     "output_type": "stream",
     "text": [
      "                                           YouTube: 1,000,000,000+\n",
      "                                  Motorola Gallery: 100,000,000+\n",
      "                                   VLC for Android: 100,000,000+\n",
      "                           Google Play Movies & TV: 1,000,000,000+\n",
      "                                         MX Player: 500,000,000+\n",
      "                                          Dubsmash: 100,000,000+\n",
      "            VivaVideo - Video Editor & Photo Movie: 100,000,000+\n",
      "VideoShow-Video Editor, Video Maker, Beauty Camera: 100,000,000+\n",
      "                                 Motorola FM Radio: 100,000,000+\n"
     ]
    }
   ],
   "source": [
    "for app_info_list in googleplay_free_eng_apps:\n",
    "    if app_info_list[1] == 'VIDEO_PLAYERS' and (app_info_list[5] == '1,000,000,000+'\n",
    "                                                or app_info_list[5] == '500,000,000+'\n",
    "                                                or app_info_list[5] == '100,000,000+'):\n",
    "        print('{:>50}: {}'.format(app_info_list[0],app_info_list[5]))"
   ]
  },
  {
   "cell_type": "markdown",
   "metadata": {},
   "source": [
    "- Let's take a look at the apps that come under the `'social'` genre and have number of installs within the range from 100,000,000+ to 1,000,000,000+."
   ]
  },
  {
   "cell_type": "code",
   "execution_count": 46,
   "metadata": {},
   "outputs": [
    {
     "name": "stdout",
     "output_type": "stream",
     "text": [
      "                                          Facebook: 1,000,000,000+\n",
      "                                     Facebook Lite: 500,000,000+\n",
      "                                            Tumblr: 100,000,000+\n",
      "                                         Pinterest: 100,000,000+\n",
      "                                           Google+: 1,000,000,000+\n",
      "                    Badoo - Free Chat & Dating App: 100,000,000+\n",
      "                      Tango - Live Video Broadcast: 100,000,000+\n",
      "                                         Instagram: 1,000,000,000+\n",
      "                                          Snapchat: 500,000,000+\n",
      "                                          LinkedIn: 100,000,000+\n",
      "                    Tik Tok - including musical.ly: 100,000,000+\n",
      "                           BIGO LIVE - Live Stream: 100,000,000+\n",
      "                                                VK: 100,000,000+\n"
     ]
    }
   ],
   "source": [
    "for app_info_list in googleplay_free_eng_apps:\n",
    "    if app_info_list[1] == 'SOCIAL' and (app_info_list[5] == '1,000,000,000+'\n",
    "                                                or app_info_list[5] == '500,000,000+'\n",
    "                                                or app_info_list[5] == '100,000,000+'):\n",
    "        print('{:>50}: {}'.format(app_info_list[0],app_info_list[5]))"
   ]
  },
  {
   "cell_type": "markdown",
   "metadata": {},
   "source": [
    "From the above data on app installations in the `COMMUNICATION`, `VIDEO_PLAYERS` and `'SOCIAL'` genre, we observe that there are some leading app brands with over 1 billion installations and competing against such popular apps with new apps will be a difficult task until and unless the new app matches or is better at providing the services compared to the existing popular ones."
   ]
  },
  {
   "cell_type": "markdown",
   "metadata": {},
   "source": [
    "- Let's take a look at the apps that come under the `'PHOTOGRAPHY'` genre (4<sup>th</sup> on the most popular genres list) and have number of installs within the range from 100,000,000+ to 1,000,000,000+."
   ]
  },
  {
   "cell_type": "code",
   "execution_count": 47,
   "metadata": {},
   "outputs": [
    {
     "name": "stdout",
     "output_type": "stream",
     "text": [
      "                          B612 - Beauty & Filter Camera: 100,000,000+\n",
      "                 YouCam Makeup - Magic Selfie Makeovers: 100,000,000+\n",
      "   Sweet Selfie - selfie camera, beauty cam, photo edit: 100,000,000+\n",
      "                                          Google Photos: 1,000,000,000+\n",
      "                                                Retrica: 100,000,000+\n",
      "                                       Photo Editor Pro: 100,000,000+\n",
      "         BeautyPlus - Easy Photo Editor & Selfie Camera: 100,000,000+\n",
      "       PicsArt Photo Studio: Collage Maker & Pic Editor: 100,000,000+\n",
      "                                   Photo Collage Editor: 100,000,000+\n",
      "        Z Camera - Photo Editor, Beauty Selfie, Collage: 100,000,000+\n",
      "     PhotoGrid: Video & Pic Collage Maker, Photo Editor: 100,000,000+\n",
      "     Candy Camera - selfie, beauty camera, photo editor: 100,000,000+\n",
      "                   YouCam Perfect - Selfie Photo Editor: 100,000,000+\n",
      "      Camera360: Selfie Photo Editor with Funny Sticker: 100,000,000+\n",
      "         S Photo Editor - Collage Maker , Photo Collage: 100,000,000+\n",
      "                                              AR effect: 100,000,000+\n",
      "     Cymera Camera- Photo Editor, Filter,Collage,Layout: 100,000,000+\n",
      "                             LINE Camera - Photo editor: 100,000,000+\n",
      "                         Photo Editor Collage Maker Pro: 100,000,000+\n"
     ]
    }
   ],
   "source": [
    "for app_info_list in googleplay_free_eng_apps:\n",
    "    if app_info_list[1] == 'PHOTOGRAPHY' and (app_info_list[5] == '1,000,000,000+'\n",
    "                                                or app_info_list[5] == '500,000,000+'\n",
    "                                                or app_info_list[5] == '100,000,000+'):\n",
    "        print('{:>55}: {}'.format(app_info_list[0],app_info_list[5]))"
   ]
  },
  {
   "cell_type": "markdown",
   "metadata": {},
   "source": [
    "- On observing the number of times the apps have been downloaded/installed in the `'PHOTOGRAPHY'` genre, we can see only one app has 1 billion+ download and hence we can say that there is a scope for a new better app in this genre in the Google Play Store.\n",
    "\n",
    "- Photography apps are very famous among smartphone users and any app that provides descent editing tools and photo filters with good UI at the least can expect a good amount of growth in Google Play Store.  "
   ]
  },
  {
   "cell_type": "markdown",
   "metadata": {},
   "source": [
    "**App Store: iOS Apps**"
   ]
  },
  {
   "cell_type": "markdown",
   "metadata": {},
   "source": [
    "For the Google Play data set, we can find this information using the `'Installs'` column, but this information is missing for the App Store data set. As a workaround, we'll take the total number of user ratings as a proxy, which we can find in the `'rating_count_tot'`column."
   ]
  },
  {
   "cell_type": "code",
   "execution_count": 48,
   "metadata": {},
   "outputs": [
    {
     "name": "stdout",
     "output_type": "stream",
     "text": [
      "         Navigation: 86090.33333333333\n",
      "          Reference: 74942.11111111111\n",
      "  Social Networking: 71548.34905660378\n",
      "              Music: 57326.530303030304\n",
      "            Weather: 52279.892857142855\n",
      "               Book: 39758.5\n",
      "       Food & Drink: 33333.92307692308\n",
      "            Finance: 31467.944444444445\n",
      "      Photo & Video: 28441.54375\n",
      "             Travel: 28243.8\n",
      "           Shopping: 26919.690476190477\n",
      "   Health & Fitness: 23298.015384615384\n",
      "             Sports: 23008.898550724636\n",
      "              Games: 22788.6696905016\n",
      "               News: 21248.023255813954\n",
      "       Productivity: 21028.410714285714\n",
      "          Utilities: 18684.456790123455\n",
      "          Lifestyle: 16485.764705882353\n",
      "      Entertainment: 14029.830708661417\n",
      "           Business: 7491.117647058823\n",
      "          Education: 7003.983050847458\n",
      "           Catalogs: 4004.0\n",
      "            Medical: 612.0\n"
     ]
    }
   ],
   "source": [
    "prime_genres_ios = frequency_table(applestore_free_eng_apps, 12)\n",
    "avgnum_reviews = []\n",
    "for genre in prime_genres_ios:\n",
    "    total_reviews = 0\n",
    "    num_of_app_in_genre = 0\n",
    "    for app_info_list in applestore_free_eng_apps:\n",
    "        app_genre = app_info_list[12]\n",
    "        if app_genre == genre:\n",
    "            n_app_reviews = float(app_info_list[6]) # col: rating_count_tot\n",
    "            total_reviews += n_app_reviews\n",
    "            num_of_app_in_genre += 1\n",
    "    avg_num_reviews = total_reviews / num_of_app_in_genre\n",
    "    avgnum_reviews.append((avg_num_reviews, genre))\n",
    "\n",
    "sorted_num_reviews = sorted(avgnum_reviews, reverse=True)\n",
    "for genre_reviews in sorted_num_reviews:\n",
    "    print('{:>19}: {}'.format(genre_reviews[1], genre_reviews[0]))"
   ]
  },
  {
   "cell_type": "markdown",
   "metadata": {},
   "source": [
    "- Let's take a look at the apps that come under the `'Navigation'` genre"
   ]
  },
  {
   "cell_type": "code",
   "execution_count": 49,
   "metadata": {},
   "outputs": [
    {
     "name": "stdout",
     "output_type": "stream",
     "text": [
      "   Waze - GPS Navigation, Maps & Real-time Traffic: 345046\n",
      "                                       Geocaching®: 12811\n",
      "  ImmobilienScout24: Real Estate Search in Germany: 187\n",
      "                              Railway Route Search: 5\n",
      "       CoPilot GPS – Car Navigation & Offline Maps: 3582\n",
      "                Google Maps - Navigation & Transit: 154911\n"
     ]
    }
   ],
   "source": [
    "for app_info_list in applestore_free_eng_apps:\n",
    "    if app_info_list[12] == 'Navigation':\n",
    "        print('{:>50}: {}'.format(app_info_list[2], app_info_list[6]))"
   ]
  },
  {
   "cell_type": "markdown",
   "metadata": {},
   "source": [
    "- Let's take a look at the apps that come under the runner-up `'Reference'` genre"
   ]
  },
  {
   "cell_type": "code",
   "execution_count": 50,
   "metadata": {},
   "outputs": [
    {
     "name": "stdout",
     "output_type": "stream",
     "text": [
      "                                                                                               Bible: 985920\n",
      "                                                               Dictionary.com Dictionary & Thesaurus: 200047\n",
      "                                                      Dictionary.com Dictionary & Thesaurus for iPad: 54175\n",
      "                                                  Muslim Pro: Ramadan 2017 Prayer Times, Azan, Quran: 18418\n",
      "                                                                          Merriam-Webster Dictionary: 16849\n",
      "                                                                                    Google Translate: 26786\n",
      "                                                                                           Night Sky: 12122\n",
      "                                                                                                WWDC: 762\n",
      "                                                   Jishokun-Japanese English Dictionary & Translator: 0\n",
      "                                                                                             教えて!goo: 0\n",
      "                                                                                         VPN Express: 14\n",
      "                              New Furniture Mods - Pocket Wiki & Game Tools for Minecraft PC Edition: 17588\n",
      "            LUCKY BLOCK MOD ™ for Minecraft PC Edition - The Best Pocket Wiki & Mods Installer Tools: 4693\n",
      "                                                  Guides for Pokémon GO - Pokemon GO News and Cheats: 826\n",
      "  Horror Maps for Minecraft PE - Download The Scariest Maps for Minecraft Pocket Edition (MCPE) Free: 718\n",
      "                      City Maps for Minecraft PE - The Best Maps for Minecraft Pocket Edition (MCPE): 8535\n",
      "                                                     GUNS MODS for Minecraft PC Edition - Mods Tools: 1497\n",
      "                                                     Real Bike Traffic Rider Virtual Reality Glasses: 8\n"
     ]
    }
   ],
   "source": [
    "for app_info_list in applestore_free_eng_apps:\n",
    "    if app_info_list[12] == 'Reference':\n",
    "        print('{:>100}: {}'.format(app_info_list[2],app_info_list[6]))"
   ]
  },
  {
   "cell_type": "markdown",
   "metadata": {},
   "source": [
    "This genre `'Reference'` seems to show some potential. One thing we could do is take another popular book and turn it into an app where we could add different features besides the raw version of the book. This might include daily quotes from the book, an audio version of the book, quizzes about the book, etc. On top of that, we could also embed a dictionary within the app, so users don't need to exit our app to look up words in an external app."
   ]
  },
  {
   "cell_type": "markdown",
   "metadata": {},
   "source": [
    "**Conclusion**"
   ]
  },
  {
   "cell_type": "markdown",
   "metadata": {},
   "source": [
    "In this project, we analyzed data about the App Store and Google Play mobile apps with the goal of recommending an app profile that can be profitable for both markets.\n",
    "\n",
    "- We recommend the `'PHOTOGRAPHY'` genre of apps for the Google Play Store.\n",
    "- And we recommend the `'Reference'` genre of apps for the App Store.\n",
    "\n",
    "If an app of this genre in the respective app markets gets really good response, we can then create a similar app for the other market."
   ]
  },
  {
   "cell_type": "code",
   "execution_count": null,
   "metadata": {},
   "outputs": [],
   "source": []
  }
 ],
 "metadata": {
  "kernelspec": {
   "display_name": "Python 3",
   "language": "python",
   "name": "python3"
  },
  "language_info": {
   "codemirror_mode": {
    "name": "ipython",
    "version": 3
   },
   "file_extension": ".py",
   "mimetype": "text/x-python",
   "name": "python",
   "nbconvert_exporter": "python",
   "pygments_lexer": "ipython3",
   "version": "3.7.0"
  }
 },
 "nbformat": 4,
 "nbformat_minor": 2
}

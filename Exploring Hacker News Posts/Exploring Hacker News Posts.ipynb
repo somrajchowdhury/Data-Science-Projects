{
 "cells": [
  {
   "cell_type": "markdown",
   "metadata": {},
   "source": [
    "## Exploring Hacker News Posts"
   ]
  },
  {
   "cell_type": "markdown",
   "metadata": {},
   "source": [
    "In this project, we'll work with a data set of submissions to popular technology site `Hacker News`. Hacker News is a site started by the startup incubator `Y Combinator`, where user-submitted stories (known as \"posts\") are voted and commented upon, similar to reddit. Hacker News is extremely popular in technology and startup circles, and posts that make it to the top of Hacker News' listings can get hundreds of thousands of visitors as a result."
   ]
  },
  {
   "cell_type": "markdown",
   "metadata": {},
   "source": [
    "**Dataset** - [Hacker News](https://www.kaggle.com/hacker-news/hacker-news-posts)"
   ]
  },
  {
   "cell_type": "markdown",
   "metadata": {},
   "source": [
    "The dataset has been reduced from almost 300,000 rows to approximately 20,000 rows by removing all submissions that did not receive any comments, and then randomly sampling from the remaining submissions."
   ]
  },
  {
   "cell_type": "markdown",
   "metadata": {},
   "source": [
    "**Column Descriptions:**\n",
    "\n",
    "- `id`: The unique identifier from Hacker News for the post\n",
    "- `title`: The title of the post\n",
    "- `url`: The URL that the posts links to, if it the post has a URL\n",
    "- `num_points`: The number of points the post acquired, calculated as the total number of upvotes minus the total number of downvotes\n",
    "- `num_comments`: The number of comments that were made on the post\n",
    "- `author`: The username of the person who submitted the post\n",
    "- `created_at`: The date and time at which the post was submitted"
   ]
  },
  {
   "cell_type": "markdown",
   "metadata": {},
   "source": [
    "We're specifically interested in posts whose titles begin with either `Ask HN` or `Show HN`. Users submit `Ask HN` posts to ask the Hacker News community a specific question. Below are a couple examples:\n",
    "\n",
    "- `Ask HN: How to improve my personal website?`\n",
    "- `Ask HN: Am I the only one outraged by Twitter shutting down share counts?`\n",
    "- `Ask HN: Aby recent changes to CSS that broke mobile?`\n",
    "\n",
    "Likewise, users submit Show HN posts to show the Hacker News community a project, product, or just generally something interesting. Below are a couple of examples:\n",
    "\n",
    "- `Show HN: Wio Link  ESP8266 Based Web of Things Hardware Development Platform'`\n",
    "- `Show HN: Something pointless I made`\n",
    "- `Show HN: Shanhu.io, a programming playground powered by e8vm`"
   ]
  },
  {
   "cell_type": "markdown",
   "metadata": {},
   "source": [
    "**We'll compare these two types of posts to determine the following:**\n",
    "\n",
    "- Do `Ask HN` or `Show HN` receive more comments on average?\n",
    "- Do posts created at a certain time receive more comments on average?\n",
    "<hr>\n",
    "\n",
    "**Read the dataset**\n",
    "\n",
    "\n",
    "Let's read the `hacker_news.csv` file in as a list of lists"
   ]
  },
  {
   "cell_type": "code",
   "execution_count": 1,
   "metadata": {},
   "outputs": [],
   "source": [
    "import csv\n",
    "filename = 'hacker_news.csv'\n",
    "file = open(filename)\n",
    "filecontents = csv.reader(file)\n",
    "hn = list(filecontents)\n",
    "hn_data_header, hn_data = hn[0],hn[1:]"
   ]
  },
  {
   "cell_type": "markdown",
   "metadata": {},
   "source": [
    "Let's print the first 5 rows from our dataset"
   ]
  },
  {
   "cell_type": "code",
   "execution_count": 2,
   "metadata": {},
   "outputs": [
    {
     "name": "stdout",
     "output_type": "stream",
     "text": [
      "['id', 'title', 'url', 'num_points', 'num_comments', 'author', 'created_at'] \n",
      "\n",
      "['12224879', 'Interactive Dynamic Video', 'http://www.interactivedynamicvideo.com/', '386', '52', 'ne0phyte', '8/4/2016 11:52']\n",
      "\n",
      "['10975351', 'How to Use Open Source and Shut the Fuck Up at the Same Time', 'http://hueniverse.com/2016/01/26/how-to-use-open-source-and-shut-the-fuck-up-at-the-same-time/', '39', '10', 'josep2', '1/26/2016 19:30']\n",
      "\n",
      "['11964716', \"Florida DJs May Face Felony for April Fools' Water Joke\", 'http://www.thewire.com/entertainment/2013/04/florida-djs-april-fools-water-joke/63798/', '2', '1', 'vezycash', '6/23/2016 22:20']\n",
      "\n",
      "['11919867', 'Technology ventures: From Idea to Enterprise', 'https://www.amazon.com/Technology-Ventures-Enterprise-Thomas-Byers/dp/0073523429', '3', '1', 'hswarna', '6/17/2016 0:01']\n",
      "\n",
      "['10301696', 'Note by Note: The Making of Steinway L1037 (2007)', 'http://www.nytimes.com/2007/11/07/movies/07stein.html?_r=0', '8', '2', 'walterbell', '9/30/2015 4:12']\n",
      "\n"
     ]
    }
   ],
   "source": [
    "print(hn_data_header,'\\n')\n",
    "for row in hn_data[:5]:\n",
    "    print(row)\n",
    "    print()"
   ]
  },
  {
   "cell_type": "markdown",
   "metadata": {},
   "source": [
    "**Extracting `Ask HN` and `Show HN` posts**"
   ]
  },
  {
   "cell_type": "markdown",
   "metadata": {},
   "source": [
    "Since we're only concerned with post titles beginning with `Ask HN` or `Show HN`, we'll create new lists of lists containing just the data for those titles.\n",
    "\n",
    "- To find the posts that begin with either `Ask HN` or `Show HN`, we'll use the string method `startswith()`\n",
    "- Since `startswith()` method deals `case sensitive` strings, we will use the `lower()` method which returns a lowercase version of the starting string."
   ]
  },
  {
   "cell_type": "code",
   "execution_count": 3,
   "metadata": {},
   "outputs": [
    {
     "name": "stdout",
     "output_type": "stream",
     "text": [
      "Total number of posts with title beginning with Ask HN: 1744\n",
      "Total number of posts with title beginning with Show HN: 1162\n",
      "Total number of remaining posts: 17194\n"
     ]
    }
   ],
   "source": [
    "# List to store 'Ask HN' i.ie., Ask Hacker News Posts\n",
    "ask_posts = []\n",
    "# List to store 'Show HN' i.ie., Show Hacker News Posts\n",
    "show_posts = []\n",
    "# List to store the remaining posts (posts other than 'Ask HN' & 'Show HN')\n",
    "other_posts = []\n",
    "\n",
    "for post_info_list in hn_data:\n",
    "    title = post_info_list[1].lower()\n",
    "    if title.startswith('ask hn'):\n",
    "        ask_posts.append(post_info_list)\n",
    "    elif title.startswith('show hn'):\n",
    "        show_posts.append(post_info_list)\n",
    "    else:\n",
    "        other_posts.append(post_info_list)\n",
    "        \n",
    "print('Total number of posts with title beginning with Ask HN: {}'.format(len(ask_posts)))\n",
    "print('Total number of posts with title beginning with Show HN: {}'.format(len(show_posts)))\n",
    "print('Total number of remaining posts: {}'.format(len(other_posts)))"
   ]
  },
  {
   "cell_type": "markdown",
   "metadata": {},
   "source": [
    "The first 3 rows in the `ask_posts` list of lists"
   ]
  },
  {
   "cell_type": "code",
   "execution_count": 4,
   "metadata": {},
   "outputs": [
    {
     "name": "stdout",
     "output_type": "stream",
     "text": [
      "['12296411', 'Ask HN: How to improve my personal website?', '', '2', '6', 'ahmedbaracat', '8/16/2016 9:55']\n",
      "\n",
      "['10610020', 'Ask HN: Am I the only one outraged by Twitter shutting down share counts?', '', '28', '29', 'tkfx', '11/22/2015 13:43']\n",
      "\n",
      "['11610310', 'Ask HN: Aby recent changes to CSS that broke mobile?', '', '1', '1', 'polskibus', '5/2/2016 10:14']\n",
      "\n"
     ]
    }
   ],
   "source": [
    "for row in ask_posts[:3]:\n",
    "    print(row)\n",
    "    print()"
   ]
  },
  {
   "cell_type": "markdown",
   "metadata": {},
   "source": [
    "The first 3 rows in the `show_posts` list of lists"
   ]
  },
  {
   "cell_type": "code",
   "execution_count": 5,
   "metadata": {},
   "outputs": [
    {
     "name": "stdout",
     "output_type": "stream",
     "text": [
      "['10627194', 'Show HN: Wio Link  ESP8266 Based Web of Things Hardware Development Platform', 'https://iot.seeed.cc', '26', '22', 'kfihihc', '11/25/2015 14:03']\n",
      "\n",
      "['10646440', 'Show HN: Something pointless I made', 'http://dn.ht/picklecat/', '747', '102', 'dhotson', '11/29/2015 22:46']\n",
      "\n",
      "['11590768', 'Show HN: Shanhu.io, a programming playground powered by e8vm', 'https://shanhu.io', '1', '1', 'h8liu', '4/28/2016 18:05']\n",
      "\n"
     ]
    }
   ],
   "source": [
    "for row in show_posts[:3]:\n",
    "    print(row)\n",
    "    print()"
   ]
  },
  {
   "cell_type": "markdown",
   "metadata": {},
   "source": [
    "The first 3 rows in the `other_posts` list of lists"
   ]
  },
  {
   "cell_type": "code",
   "execution_count": 6,
   "metadata": {},
   "outputs": [
    {
     "name": "stdout",
     "output_type": "stream",
     "text": [
      "['12224879', 'Interactive Dynamic Video', 'http://www.interactivedynamicvideo.com/', '386', '52', 'ne0phyte', '8/4/2016 11:52']\n",
      "\n",
      "['10975351', 'How to Use Open Source and Shut the Fuck Up at the Same Time', 'http://hueniverse.com/2016/01/26/how-to-use-open-source-and-shut-the-fuck-up-at-the-same-time/', '39', '10', 'josep2', '1/26/2016 19:30']\n",
      "\n",
      "['11964716', \"Florida DJs May Face Felony for April Fools' Water Joke\", 'http://www.thewire.com/entertainment/2013/04/florida-djs-april-fools-water-joke/63798/', '2', '1', 'vezycash', '6/23/2016 22:20']\n",
      "\n"
     ]
    }
   ],
   "source": [
    "for row in other_posts[:3]:\n",
    "    print(row)\n",
    "    print()"
   ]
  },
  {
   "cell_type": "markdown",
   "metadata": {},
   "source": [
    "**Average number of comments for `Ask HN` and `Show HN` posts**"
   ]
  },
  {
   "cell_type": "markdown",
   "metadata": {},
   "source": [
    "Let's determine if *ask posts* or *show posts* receive more comments on average."
   ]
  },
  {
   "cell_type": "markdown",
   "metadata": {},
   "source": [
    "**Ask SH posts**"
   ]
  },
  {
   "cell_type": "code",
   "execution_count": 7,
   "metadata": {},
   "outputs": [
    {
     "name": "stdout",
     "output_type": "stream",
     "text": [
      "Average number of Ask SH comments: 14.038417431192661\n"
     ]
    }
   ],
   "source": [
    "total_ask_comments = 0\n",
    "\n",
    "for ask_post_list in ask_posts:\n",
    "    num_comments = int(ask_post_list[4])\n",
    "    total_ask_comments += num_comments\n",
    "    \n",
    "# average number of 'Ask SH' comments\n",
    "avg_ask_comments = total_ask_comments / len(ask_posts)\n",
    "print('Average number of Ask SH comments: {}'.format(avg_ask_comments))"
   ]
  },
  {
   "cell_type": "markdown",
   "metadata": {},
   "source": [
    "**Show SH posts**"
   ]
  },
  {
   "cell_type": "code",
   "execution_count": 8,
   "metadata": {},
   "outputs": [
    {
     "name": "stdout",
     "output_type": "stream",
     "text": [
      "Average number of Show SH comments: 10.31669535283993\n"
     ]
    }
   ],
   "source": [
    "total_show_comments = 0\n",
    "\n",
    "for show_post_list in show_posts:\n",
    "    total_show_comments += int(show_post_list[4])\n",
    "    \n",
    "# average number of 'Show SH' comments\n",
    "avg_show_comments = total_show_comments / len(show_posts)\n",
    "print('Average number of Show SH comments: {}'.format(avg_show_comments))"
   ]
  },
  {
   "cell_type": "markdown",
   "metadata": {},
   "source": [
    "From the above computation, we find that on average `Ask SH` posts receive more comments (14 approx.) compared to `Show SH` posts (10 approx.)\n",
    "\n",
    "| Post type | Avg. comments |\n",
    "| --------- | ------------- |\n",
    "| Ash SH    | 14 (approx.)  |\n",
    "| Show SH   | 10 (approx.)  |\n",
    "\n",
    "Since `Ask SH` posts are more likely to receive comments, we'll focus our remaining analysis just on these posts."
   ]
  },
  {
   "cell_type": "markdown",
   "metadata": {},
   "source": [
    "**Finding number of `Ask SH` post comments by time**"
   ]
  },
  {
   "cell_type": "markdown",
   "metadata": {},
   "source": [
    "Next, we'll determine if ask posts created at a certain time are more likely to attract comments.\n",
    "- In our dataset we have a column named `created_at`that stores the date and time at which the post was submitted.\n",
    "- We'll use the `datetime` library along with this column data to perform this task."
   ]
  },
  {
   "cell_type": "code",
   "execution_count": 9,
   "metadata": {},
   "outputs": [
    {
     "name": "stdout",
     "output_type": "stream",
     "text": [
      "{\n",
      "  \"09\": 251,\n",
      "  \"13\": 1253,\n",
      "  \"10\": 793,\n",
      "  \"14\": 1416,\n",
      "  \"16\": 1814,\n",
      "  \"23\": 543,\n",
      "  \"12\": 687,\n",
      "  \"17\": 1146,\n",
      "  \"15\": 4477,\n",
      "  \"21\": 1745,\n",
      "  \"20\": 1722,\n",
      "  \"02\": 1381,\n",
      "  \"18\": 1439,\n",
      "  \"03\": 421,\n",
      "  \"05\": 464,\n",
      "  \"19\": 1188,\n",
      "  \"01\": 683,\n",
      "  \"22\": 479,\n",
      "  \"08\": 492,\n",
      "  \"04\": 337,\n",
      "  \"00\": 447,\n",
      "  \"06\": 397,\n",
      "  \"07\": 267,\n",
      "  \"11\": 641\n",
      "}\n"
     ]
    }
   ],
   "source": [
    "import datetime as dt\n",
    "import json\n",
    "\n",
    "result_list = []\n",
    "\n",
    "for ask_post_list in ask_posts:\n",
    "    c_date = ask_post_list[6]\n",
    "    n_comments = int(ask_post_list[4])\n",
    "    result_list.append([c_date, n_comments])\n",
    "    \n",
    "counts_by_hour = {}\n",
    "comments_by_hour = {}\n",
    "\n",
    "for post_data in result_list:\n",
    "    date = post_data[0]\n",
    "    comments = post_data[1]\n",
    "    date_time = dt.datetime.strptime(date, '%m/%d/%Y %H:%M')\n",
    "    hour = date_time.strftime('%H')\n",
    "    \n",
    "    if hour not in counts_by_hour:\n",
    "        counts_by_hour[hour] = 1\n",
    "        comments_by_hour[hour] = comments\n",
    "    else:\n",
    "        counts_by_hour[hour] += 1\n",
    "        comments_by_hour[hour] += comments\n",
    "        \n",
    "print(json.dumps(comments_by_hour, indent=2))"
   ]
  },
  {
   "cell_type": "markdown",
   "metadata": {},
   "source": [
    "**Visualize the comments/hour data for `Ask SH` posts**"
   ]
  },
  {
   "cell_type": "code",
   "execution_count": 10,
   "metadata": {},
   "outputs": [
    {
     "data": {
      "text/plain": [
       "<BarContainer object of 24 artists>"
      ]
     },
     "execution_count": 10,
     "metadata": {},
     "output_type": "execute_result"
    },
    {
     "data": {
      "image/png": "[encoded data removed]",
      "text/plain": [
       "<Figure size 1440x720 with 2 Axes>"
      ]
     },
     "metadata": {},
     "output_type": "display_data"
    }
   ],
   "source": [
    "import matplotlib.pyplot as plt\n",
    "%matplotlib inline\n",
    "plt.style.use('ggplot')\n",
    "\n",
    "figure, (ax1, ax2) = plt.subplots(1,2, figsize=(20,10))\n",
    "figure.subplots_adjust(hspace=0.4, wspace=0.2)\n",
    "\n",
    "ax1.set_title('Number of ask posts created during each hour of the day', fontsize=13)\n",
    "ax1.set_xlabel('Hours', fontsize=12)\n",
    "ax1.set_ylabel('Number of posts', fontsize=12)\n",
    "ax1.bar(list(counts_by_hour.keys()),list(counts_by_hour.values()))\n",
    "\n",
    "ax2.set_title('Number of comments ask posts created at each hour received', fontsize=13)\n",
    "ax2.set_xlabel('Hours', fontsize=12)\n",
    "ax2.set_ylabel('Number of comments', fontsize=12)\n",
    "ax2.bar(list(comments_by_hour.keys()),list(comments_by_hour.values()))"
   ]
  },
  {
   "cell_type": "markdown",
   "metadata": {},
   "source": [
    "**Sort the `comments_by_hour` dictionary in descending order of number of comments**"
   ]
  },
  {
   "cell_type": "code",
   "execution_count": 11,
   "metadata": {},
   "outputs": [
    {
     "name": "stdout",
     "output_type": "stream",
     "text": [
      "{\n",
      "  \"15\": 4477,\n",
      "  \"16\": 1814,\n",
      "  \"21\": 1745,\n",
      "  \"20\": 1722,\n",
      "  \"18\": 1439,\n",
      "  \"14\": 1416,\n",
      "  \"02\": 1381,\n",
      "  \"13\": 1253,\n",
      "  \"19\": 1188,\n",
      "  \"17\": 1146,\n",
      "  \"10\": 793,\n",
      "  \"12\": 687,\n",
      "  \"01\": 683,\n",
      "  \"11\": 641,\n",
      "  \"23\": 543,\n",
      "  \"08\": 492,\n",
      "  \"22\": 479,\n",
      "  \"05\": 464,\n",
      "  \"00\": 447,\n",
      "  \"03\": 421,\n",
      "  \"06\": 397,\n",
      "  \"04\": 337,\n",
      "  \"07\": 267,\n",
      "  \"09\": 251\n",
      "}\n"
     ]
    }
   ],
   "source": [
    "sorted_comments_by_hour = {}\n",
    "list_of_tuples = [(n_cmnt, hour) for hour, n_cmnt in comments_by_hour.items()]\n",
    "sorted_list_of_tuples = sorted(list_of_tuples, reverse=True)\n",
    "for tup in sorted_list_of_tuples:\n",
    "    sorted_comments_by_hour[tup[1]] = tup[0]\n",
    "print(json.dumps(sorted_comments_by_hour, indent=2))"
   ]
  },
  {
   "cell_type": "markdown",
   "metadata": {},
   "source": [
    "From the above visualizations and `sorted_comments_by_hour` dictionary, we observe that\n",
    "- Maximum number of ask posts are posted during 15:00 hrs (or 3 pm) of the day\n",
    "- Also, the posts that were created at 15:00 hrs received maximum number of comments compared to the other hours of the day"
   ]
  },
  {
   "cell_type": "markdown",
   "metadata": {},
   "source": [
    "**Calculating the Average Number of Comments for `Ask HN` Posts by Hour**"
   ]
  },
  {
   "cell_type": "markdown",
   "metadata": {},
   "source": [
    "We'll calculate the average amount of comments `Ask HN` posts created at each hour of the day receive."
   ]
  },
  {
   "cell_type": "code",
   "execution_count": 12,
   "metadata": {},
   "outputs": [
    {
     "data": {
      "text/plain": [
       "[['09', 5.5777777777777775],\n",
       " ['13', 14.741176470588234],\n",
       " ['10', 13.440677966101696],\n",
       " ['14', 13.233644859813085],\n",
       " ['16', 16.796296296296298],\n",
       " ['23', 7.985294117647059],\n",
       " ['12', 9.41095890410959],\n",
       " ['17', 11.46],\n",
       " ['15', 38.5948275862069],\n",
       " ['21', 16.009174311926607],\n",
       " ['20', 21.525],\n",
       " ['02', 23.810344827586206],\n",
       " ['18', 13.20183486238532],\n",
       " ['03', 7.796296296296297],\n",
       " ['05', 10.08695652173913],\n",
       " ['19', 10.8],\n",
       " ['01', 11.383333333333333],\n",
       " ['22', 6.746478873239437],\n",
       " ['08', 10.25],\n",
       " ['04', 7.170212765957447],\n",
       " ['00', 8.127272727272727],\n",
       " ['06', 9.022727272727273],\n",
       " ['07', 7.852941176470588],\n",
       " ['11', 11.051724137931034]]"
      ]
     },
     "execution_count": 12,
     "metadata": {},
     "output_type": "execute_result"
    }
   ],
   "source": [
    "avg_cmnts_per_hour = []\n",
    "for hour in comments_by_hour:\n",
    "    avg_cmnts_per_hour.append([hour,(comments_by_hour[hour]/counts_by_hour[hour])])\n",
    "\n",
    "avg_cmnts_per_hour"
   ]
  },
  {
   "cell_type": "markdown",
   "metadata": {},
   "source": [
    "**Sort the `avg_cmnts_per_hour` list in descending order of average number of comments**"
   ]
  },
  {
   "cell_type": "code",
   "execution_count": 13,
   "metadata": {},
   "outputs": [
    {
     "data": {
      "text/plain": [
       "[['15', 38.5948275862069],\n",
       " ['02', 23.810344827586206],\n",
       " ['20', 21.525],\n",
       " ['16', 16.796296296296298],\n",
       " ['21', 16.009174311926607],\n",
       " ['13', 14.741176470588234],\n",
       " ['10', 13.440677966101696],\n",
       " ['14', 13.233644859813085],\n",
       " ['18', 13.20183486238532],\n",
       " ['17', 11.46],\n",
       " ['01', 11.383333333333333],\n",
       " ['11', 11.051724137931034],\n",
       " ['19', 10.8],\n",
       " ['08', 10.25],\n",
       " ['05', 10.08695652173913],\n",
       " ['12', 9.41095890410959],\n",
       " ['06', 9.022727272727273],\n",
       " ['00', 8.127272727272727],\n",
       " ['23', 7.985294117647059],\n",
       " ['07', 7.852941176470588],\n",
       " ['03', 7.796296296296297],\n",
       " ['04', 7.170212765957447],\n",
       " ['22', 6.746478873239437],\n",
       " ['09', 5.5777777777777775]]"
      ]
     },
     "execution_count": 13,
     "metadata": {},
     "output_type": "execute_result"
    }
   ],
   "source": [
    "sorted_avg_cph = sorted(avg_cmnts_per_hour, key=lambda avg_list: avg_list[1], reverse=True)\n",
    "sorted_avg_cph"
   ]
  },
  {
   "cell_type": "code",
   "execution_count": 14,
   "metadata": {},
   "outputs": [
    {
     "name": "stdout",
     "output_type": "stream",
     "text": [
      "Top 5 Hours for 'Ask HN' Comments\n",
      "15:00 - 38.59 average comments per post\n",
      "02:00 - 23.81 average comments per post\n",
      "20:00 - 21.52 average comments per post\n",
      "16:00 - 16.80 average comments per post\n",
      "21:00 - 16.01 average comments per post\n"
     ]
    }
   ],
   "source": [
    "print(\"Top 5 Hours for 'Ask HN' Comments\")\n",
    "for avg_cmnt_list in sorted_avg_cph[:5]:\n",
    "    hour = avg_cmnt_list[0]\n",
    "    avg_cmnt = avg_cmnt_list[1]\n",
    "    print('{} - {:.2f} average comments per post'.format(dt.datetime.strptime(hour,'%H').strftime('%H:%M'),avg_cmnt))"
   ]
  },
  {
   "cell_type": "markdown",
   "metadata": {},
   "source": [
    "The hour that receives the most comments per post on average is 15:00 (3:00 pm), with an average of 38.59 comments per post.\n",
    "\n",
    "According to the data set documentation, the timezone used is Eastern Time in the US. So, we could also write 15:00 as 3:00 pm est."
   ]
  },
  {
   "cell_type": "markdown",
   "metadata": {},
   "source": [
    "**Conclusion**"
   ]
  },
  {
   "cell_type": "markdown",
   "metadata": {},
   "source": [
    "In this project, we analyzed ask posts and show posts to determine which type of post and time receive the most comments on average. Based on our analysis, to maximize the amount of comments a post receives, we'd recommend the post be categorized as ask post and created between `15:00` and `16:00` (3:00 pm est - 4:00 pm est)."
   ]
  }
 ],
 "metadata": {
  "kernelspec": {
   "display_name": "Python 3",
   "language": "python",
   "name": "python3"
  },
  "language_info": {
   "codemirror_mode": {
    "name": "ipython",
    "version": 3
   },
   "file_extension": ".py",
   "mimetype": "text/x-python",
   "name": "python",
   "nbconvert_exporter": "python",
   "pygments_lexer": "ipython3",
   "version": "3.7.0"
  }
 },
 "nbformat": 4,
 "nbformat_minor": 2
}

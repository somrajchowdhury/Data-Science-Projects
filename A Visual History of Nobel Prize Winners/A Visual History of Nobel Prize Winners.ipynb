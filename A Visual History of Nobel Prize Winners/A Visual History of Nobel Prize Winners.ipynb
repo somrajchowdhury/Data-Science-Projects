{
 "cells": [
  {
   "cell_type": "markdown",
   "metadata": {},
   "source": [
    "## A Visual History of Nobel Prize Winners"
   ]
  },
  {
   "cell_type": "markdown",
   "metadata": {},
   "source": [
    "The Nobel Prize is perhaps the world's most well known scientific award. Except for the honor, prestige and substantial prize money the recipient also gets a gold medal showing Alfred Nobel (1833 - 1896) who established the prize. Every year it's given to scientists and scholars in the categories chemistry, literature, physics, physiology or medicine, economics, and peace. \n",
    "\n",
    "<img src=\"https://upload.wikimedia.org/wikipedia/en/e/ed/Nobel_Prize.png\" width=\"290\" title=\"Nobel Prize Medal\" alt=\"Nobel Prize Medal\">\n",
    "\n",
    "The first Nobel Prize was handed out in 1901, and at that time the Prize was very Eurocentric and male-focused, but nowadays it's not biased in any way whatsoever. Surely. Right?\n",
    "\n",
    "Well, we're going to find out! The Nobel Foundation has made a dataset available of all prize winners from the start of the prize, in 1901, to 2016. Let's load it in and take a look."
   ]
  },
  {
   "cell_type": "code",
   "execution_count": 1,
   "metadata": {},
   "outputs": [],
   "source": [
    "import pandas as pd\n",
    "pd.set_option('display.max_colwidth', -1)\n",
    "pd.set_option('display.max_columns', 100)\n",
    "pd.set_option('display.max_rows', 800)\n",
    "\n",
    "import numpy as np\n",
    "\n",
    "import seaborn as sns\n",
    "\n",
    "import matplotlib.pyplot as plt\n",
    "from matplotlib.ticker import PercentFormatter\n",
    "plt.style.use('ggplot')\n",
    "%matplotlib inline"
   ]
  },
  {
   "cell_type": "markdown",
   "metadata": {},
   "source": [
    "**Load the dataset**"
   ]
  },
  {
   "cell_type": "code",
   "execution_count": 2,
   "metadata": {},
   "outputs": [
    {
     "name": "stdout",
     "output_type": "stream",
     "text": [
      "Dataset loaded\n",
      "\n"
     ]
    },
    {
     "data": {
      "text/html": [
       "<div>\n",
       "<style scoped>\n",
       "    .dataframe tbody tr th:only-of-type {\n",
       "        vertical-align: middle;\n",
       "    }\n",
       "\n",
       "    .dataframe tbody tr th {\n",
       "        vertical-align: top;\n",
       "    }\n",
       "\n",
       "    .dataframe thead th {\n",
       "        text-align: right;\n",
       "    }\n",
       "</style>\n",
       "<table border=\"1\" class=\"dataframe\">\n",
       "  <thead>\n",
       "    <tr style=\"text-align: right;\">\n",
       "      <th></th>\n",
       "      <th>year</th>\n",
       "      <th>category</th>\n",
       "      <th>prize</th>\n",
       "      <th>motivation</th>\n",
       "      <th>prize_share</th>\n",
       "      <th>laureate_id</th>\n",
       "      <th>laureate_type</th>\n",
       "      <th>full_name</th>\n",
       "      <th>birth_date</th>\n",
       "      <th>birth_city</th>\n",
       "      <th>birth_country</th>\n",
       "      <th>sex</th>\n",
       "      <th>organization_name</th>\n",
       "      <th>organization_city</th>\n",
       "      <th>organization_country</th>\n",
       "      <th>death_date</th>\n",
       "      <th>death_city</th>\n",
       "      <th>death_country</th>\n",
       "    </tr>\n",
       "  </thead>\n",
       "  <tbody>\n",
       "    <tr>\n",
       "      <th>0</th>\n",
       "      <td>1901</td>\n",
       "      <td>Chemistry</td>\n",
       "      <td>The Nobel Prize in Chemistry 1901</td>\n",
       "      <td>\"in recognition of the extraordinary services he has rendered by the discovery of the laws of chemical dynamics and osmotic pressure in solutions\"</td>\n",
       "      <td>1/1</td>\n",
       "      <td>160</td>\n",
       "      <td>Individual</td>\n",
       "      <td>Jacobus Henricus van 't Hoff</td>\n",
       "      <td>1852-08-30</td>\n",
       "      <td>Rotterdam</td>\n",
       "      <td>Netherlands</td>\n",
       "      <td>Male</td>\n",
       "      <td>Berlin University</td>\n",
       "      <td>Berlin</td>\n",
       "      <td>Germany</td>\n",
       "      <td>1911-03-01</td>\n",
       "      <td>Berlin</td>\n",
       "      <td>Germany</td>\n",
       "    </tr>\n",
       "    <tr>\n",
       "      <th>1</th>\n",
       "      <td>1901</td>\n",
       "      <td>Literature</td>\n",
       "      <td>The Nobel Prize in Literature 1901</td>\n",
       "      <td>\"in special recognition of his poetic composition, which gives evidence of lofty idealism, artistic perfection and a rare combination of the qualities of both heart and intellect\"</td>\n",
       "      <td>1/1</td>\n",
       "      <td>569</td>\n",
       "      <td>Individual</td>\n",
       "      <td>Sully Prudhomme</td>\n",
       "      <td>1839-03-16</td>\n",
       "      <td>Paris</td>\n",
       "      <td>France</td>\n",
       "      <td>Male</td>\n",
       "      <td>NaN</td>\n",
       "      <td>NaN</td>\n",
       "      <td>NaN</td>\n",
       "      <td>1907-09-07</td>\n",
       "      <td>Châtenay</td>\n",
       "      <td>France</td>\n",
       "    </tr>\n",
       "    <tr>\n",
       "      <th>2</th>\n",
       "      <td>1901</td>\n",
       "      <td>Medicine</td>\n",
       "      <td>The Nobel Prize in Physiology or Medicine 1901</td>\n",
       "      <td>\"for his work on serum therapy, especially its application against diphtheria, by which he has opened a new road in the domain of medical science and thereby placed in the hands of the physician a victorious weapon against illness and deaths\"</td>\n",
       "      <td>1/1</td>\n",
       "      <td>293</td>\n",
       "      <td>Individual</td>\n",
       "      <td>Emil Adolf von Behring</td>\n",
       "      <td>1854-03-15</td>\n",
       "      <td>Hansdorf (Lawice)</td>\n",
       "      <td>Prussia (Poland)</td>\n",
       "      <td>Male</td>\n",
       "      <td>Marburg University</td>\n",
       "      <td>Marburg</td>\n",
       "      <td>Germany</td>\n",
       "      <td>1917-03-31</td>\n",
       "      <td>Marburg</td>\n",
       "      <td>Germany</td>\n",
       "    </tr>\n",
       "    <tr>\n",
       "      <th>3</th>\n",
       "      <td>1901</td>\n",
       "      <td>Peace</td>\n",
       "      <td>The Nobel Peace Prize 1901</td>\n",
       "      <td>NaN</td>\n",
       "      <td>1/2</td>\n",
       "      <td>462</td>\n",
       "      <td>Individual</td>\n",
       "      <td>Jean Henry Dunant</td>\n",
       "      <td>1828-05-08</td>\n",
       "      <td>Geneva</td>\n",
       "      <td>Switzerland</td>\n",
       "      <td>Male</td>\n",
       "      <td>NaN</td>\n",
       "      <td>NaN</td>\n",
       "      <td>NaN</td>\n",
       "      <td>1910-10-30</td>\n",
       "      <td>Heiden</td>\n",
       "      <td>Switzerland</td>\n",
       "    </tr>\n",
       "    <tr>\n",
       "      <th>4</th>\n",
       "      <td>1901</td>\n",
       "      <td>Peace</td>\n",
       "      <td>The Nobel Peace Prize 1901</td>\n",
       "      <td>NaN</td>\n",
       "      <td>1/2</td>\n",
       "      <td>463</td>\n",
       "      <td>Individual</td>\n",
       "      <td>Frédéric Passy</td>\n",
       "      <td>1822-05-20</td>\n",
       "      <td>Paris</td>\n",
       "      <td>France</td>\n",
       "      <td>Male</td>\n",
       "      <td>NaN</td>\n",
       "      <td>NaN</td>\n",
       "      <td>NaN</td>\n",
       "      <td>1912-06-12</td>\n",
       "      <td>Paris</td>\n",
       "      <td>France</td>\n",
       "    </tr>\n",
       "  </tbody>\n",
       "</table>\n",
       "</div>"
      ],
      "text/plain": [
       "   year    category                                           prize  \\\n",
       "0  1901  Chemistry   The Nobel Prize in Chemistry 1901                \n",
       "1  1901  Literature  The Nobel Prize in Literature 1901               \n",
       "2  1901  Medicine    The Nobel Prize in Physiology or Medicine 1901   \n",
       "3  1901  Peace       The Nobel Peace Prize 1901                       \n",
       "4  1901  Peace       The Nobel Peace Prize 1901                       \n",
       "\n",
       "                                                                                                                                                                                                                                           motivation  \\\n",
       "0  \"in recognition of the extraordinary services he has rendered by the discovery of the laws of chemical dynamics and osmotic pressure in solutions\"                                                                                                   \n",
       "1  \"in special recognition of his poetic composition, which gives evidence of lofty idealism, artistic perfection and a rare combination of the qualities of both heart and intellect\"                                                                  \n",
       "2  \"for his work on serum therapy, especially its application against diphtheria, by which he has opened a new road in the domain of medical science and thereby placed in the hands of the physician a victorious weapon against illness and deaths\"   \n",
       "3  NaN                                                                                                                                                                                                                                                  \n",
       "4  NaN                                                                                                                                                                                                                                                  \n",
       "\n",
       "  prize_share  laureate_id laureate_type                     full_name  \\\n",
       "0  1/1         160          Individual    Jacobus Henricus van 't Hoff   \n",
       "1  1/1         569          Individual    Sully Prudhomme                \n",
       "2  1/1         293          Individual    Emil Adolf von Behring         \n",
       "3  1/2         462          Individual    Jean Henry Dunant              \n",
       "4  1/2         463          Individual    Frédéric Passy                 \n",
       "\n",
       "   birth_date         birth_city     birth_country   sex   organization_name  \\\n",
       "0  1852-08-30  Rotterdam          Netherlands       Male  Berlin University    \n",
       "1  1839-03-16  Paris              France            Male  NaN                  \n",
       "2  1854-03-15  Hansdorf (Lawice)  Prussia (Poland)  Male  Marburg University   \n",
       "3  1828-05-08  Geneva             Switzerland       Male  NaN                  \n",
       "4  1822-05-20  Paris              France            Male  NaN                  \n",
       "\n",
       "  organization_city organization_country  death_date death_city death_country  \n",
       "0  Berlin            Germany              1911-03-01  Berlin     Germany       \n",
       "1  NaN               NaN                  1907-09-07  Châtenay   France        \n",
       "2  Marburg           Germany              1917-03-31  Marburg    Germany       \n",
       "3  NaN               NaN                  1910-10-30  Heiden     Switzerland   \n",
       "4  NaN               NaN                  1912-06-12  Paris      France        "
      ]
     },
     "execution_count": 2,
     "metadata": {},
     "output_type": "execute_result"
    }
   ],
   "source": [
    "nobel_df = pd.read_csv(\"nobel.csv\")\n",
    "print(\"Dataset loaded\\n\")\n",
    "nobel_df.head(5)"
   ]
  },
  {
   "cell_type": "code",
   "execution_count": 3,
   "metadata": {},
   "outputs": [
    {
     "name": "stdout",
     "output_type": "stream",
     "text": [
      "The dataset has 911 rows and 18 columns\n"
     ]
    }
   ],
   "source": [
    "print('The dataset has {} rows and {} columns'.format(*nobel_df.shape))"
   ]
  },
  {
   "cell_type": "code",
   "execution_count": 4,
   "metadata": {},
   "outputs": [
    {
     "name": "stdout",
     "output_type": "stream",
     "text": [
      "<class 'pandas.core.frame.DataFrame'>\n",
      "RangeIndex: 911 entries, 0 to 910\n",
      "Data columns (total 18 columns):\n",
      "year                    911 non-null int64\n",
      "category                911 non-null object\n",
      "prize                   911 non-null object\n",
      "motivation              823 non-null object\n",
      "prize_share             911 non-null object\n",
      "laureate_id             911 non-null int64\n",
      "laureate_type           911 non-null object\n",
      "full_name               911 non-null object\n",
      "birth_date              883 non-null object\n",
      "birth_city              883 non-null object\n",
      "birth_country           885 non-null object\n",
      "sex                     885 non-null object\n",
      "organization_name       665 non-null object\n",
      "organization_city       667 non-null object\n",
      "organization_country    667 non-null object\n",
      "death_date              593 non-null object\n",
      "death_city              576 non-null object\n",
      "death_country           582 non-null object\n",
      "dtypes: int64(2), object(16)\n",
      "memory usage: 128.2+ KB\n"
     ]
    }
   ],
   "source": [
    "nobel_df.info()"
   ]
  },
  {
   "cell_type": "code",
   "execution_count": 5,
   "metadata": {},
   "outputs": [
    {
     "data": {
      "text/plain": [
       "year                    False\n",
       "category                False\n",
       "prize                   False\n",
       "motivation              True \n",
       "prize_share             False\n",
       "laureate_id             False\n",
       "laureate_type           False\n",
       "full_name               False\n",
       "birth_date              True \n",
       "birth_city              True \n",
       "birth_country           True \n",
       "sex                     True \n",
       "organization_name       True \n",
       "organization_city       True \n",
       "organization_country    True \n",
       "death_date              True \n",
       "death_city              True \n",
       "death_country           True \n",
       "dtype: bool"
      ]
     },
     "execution_count": 5,
     "metadata": {},
     "output_type": "execute_result"
    }
   ],
   "source": [
    "nobel_df.isnull().any()"
   ]
  },
  {
   "cell_type": "markdown",
   "metadata": {},
   "source": [
    "**Unique Prize Categories**"
   ]
  },
  {
   "cell_type": "code",
   "execution_count": 6,
   "metadata": {},
   "outputs": [
    {
     "data": {
      "text/plain": [
       "1    Chemistry \n",
       "2    Literature\n",
       "3    Medicine  \n",
       "4    Peace     \n",
       "5    Physics   \n",
       "6    Economics \n",
       "dtype: object"
      ]
     },
     "execution_count": 6,
     "metadata": {},
     "output_type": "execute_result"
    }
   ],
   "source": [
    "unique_categories = pd.Series(data=nobel_df['category'].unique())\n",
    "unique_categories.index += 1\n",
    "unique_categories"
   ]
  },
  {
   "cell_type": "markdown",
   "metadata": {},
   "source": [
    "**Yearly Statistics Nobel Prize awards**"
   ]
  },
  {
   "cell_type": "code",
   "execution_count": 7,
   "metadata": {},
   "outputs": [
    {
     "name": "stdout",
     "output_type": "stream",
     "text": [
      "Year:   2001\n",
      "Awards: 15\n"
     ]
    }
   ],
   "source": [
    "year_counts = nobel_df['year'].value_counts().to_frame().rename(columns={'year':'count'})\n",
    "max_year = year_counts['count'].idxmax()\n",
    "max_year_count = year_counts.at[max_year, \"count\"]\n",
    "print('Year: {:>6}\\nAwards: {}'.format(max_year, max_year_count))"
   ]
  },
  {
   "cell_type": "markdown",
   "metadata": {},
   "source": [
    "- Let's visualize number of Awards per year"
   ]
  },
  {
   "cell_type": "code",
   "execution_count": 8,
   "metadata": {},
   "outputs": [
    {
     "data": {
      "text/plain": [
       "<BarContainer object of 113 artists>"
      ]
     },
     "execution_count": 8,
     "metadata": {},
     "output_type": "execute_result"
    },
    {
     "data": {
      "image/png": "[encoded data removed]",
      "text/plain": [
       "<Figure size 1296x432 with 1 Axes>"
      ]
     },
     "metadata": {
      "needs_background": "light"
     },
     "output_type": "display_data"
    }
   ],
   "source": [
    "plt.figure(figsize=(18,6))\n",
    "plt.bar(year_counts.index, year_counts['count'])"
   ]
  },
  {
   "cell_type": "markdown",
   "metadata": {},
   "source": [
    "- From the above visualization, we observe that there is an increasing trend in the number of Nobel Prize recipients between the years 1900 to 2016.\n",
    "\n",
    "- There is another interesting observation from the bar chart that there are some missing bars near the `1940 year mark`. \n",
    "\n",
    "- If you search on the internet about this missing trend, you'll find that *no Nobel prize were awarded in any category from* `1940` *to* `1942`."
   ]
  },
  {
   "cell_type": "code",
   "execution_count": 9,
   "metadata": {},
   "outputs": [
    {
     "name": "stdout",
     "output_type": "stream",
     "text": [
      "5 Nobel prizes were awared in 1938\n",
      "\n",
      "5 Nobel prizes were awared in 1939\n",
      "\n",
      "No Nobel prize was awarded in 1940\n",
      "\n",
      "No Nobel prize was awarded in 1941\n",
      "\n",
      "No Nobel prize was awarded in 1942\n",
      "\n",
      "4 Nobel prizes were awared in 1943\n",
      "\n",
      "6 Nobel prizes were awared in 1944\n",
      "\n",
      "7 Nobel prizes were awared in 1945\n",
      "\n"
     ]
    }
   ],
   "source": [
    "years = list(nobel_df['year'])\n",
    "for year in range(1938, 1946):\n",
    "    if year in years:\n",
    "        print('{} Nobel prizes were awared in {}\\n'.format(year_counts.at[year,'count'], year))\n",
    "    else:\n",
    "        print('No Nobel prize was awarded in {}\\n'.format(year))"
   ]
  },
  {
   "cell_type": "markdown",
   "metadata": {},
   "source": [
    "**Individual vs Shared Nobel Prize Recipients**"
   ]
  },
  {
   "cell_type": "markdown",
   "metadata": {},
   "source": [
    "Let's determine the number of shared and individual prize winners:\n",
    "- 1/1 : Individual\n",
    "- 1/2 : Prize shared among 2\n",
    "- 1/3 : Prize shared among 3\n",
    "- 1/4 : Prize shared among 4"
   ]
  },
  {
   "cell_type": "code",
   "execution_count": 10,
   "metadata": {},
   "outputs": [
    {
     "data": {
      "text/plain": [
       "1/1    344\n",
       "1/2    306\n",
       "1/3    201\n",
       "1/4    60 \n",
       "Name: prize_share, dtype: int64"
      ]
     },
     "execution_count": 10,
     "metadata": {},
     "output_type": "execute_result"
    }
   ],
   "source": [
    "nobel_df['prize_share'].value_counts()"
   ]
  },
  {
   "cell_type": "markdown",
   "metadata": {},
   "source": [
    "**So, who gets the Nobel Prize?**"
   ]
  },
  {
   "cell_type": "markdown",
   "metadata": {},
   "source": [
    "Just looking at the first couple of prize winners, or Nobel laureates as they are also called, we already see a celebrity: Wilhelm Conrad Röntgen, the guy who discovered X-rays. And actually, we see that all of the winners in 1901 were guys that came from Europe. But that was back in 1901, looking at all winners in the dataset, from 1901 to 2016, which sex and which country is the most commonly represented?\n",
    "\n",
    "(For country, we will use the `birth_country` of the winner, as the `organization_country` is `NaN` for all shared Nobel Prizes.)"
   ]
  },
  {
   "cell_type": "markdown",
   "metadata": {},
   "source": [
    "- Number of (possibly shared) Nobel Prizes handed out between `1901` and `2016`."
   ]
  },
  {
   "cell_type": "code",
   "execution_count": 11,
   "metadata": {},
   "outputs": [
    {
     "data": {
      "text/plain": [
       "911"
      ]
     },
     "execution_count": 11,
     "metadata": {},
     "output_type": "execute_result"
    }
   ],
   "source": [
    "len(nobel_df)"
   ]
  },
  {
   "cell_type": "markdown",
   "metadata": {},
   "source": [
    "- Number of Nobel Prizes won by `male` and `female` reciepients"
   ]
  },
  {
   "cell_type": "code",
   "execution_count": 12,
   "metadata": {},
   "outputs": [
    {
     "data": {
      "text/plain": [
       "Male      836\n",
       "Female    49 \n",
       "Name: sex, dtype: int64"
      ]
     },
     "execution_count": 12,
     "metadata": {},
     "output_type": "execute_result"
    }
   ],
   "source": [
    "nobel_df['sex'].value_counts()"
   ]
  },
  {
   "cell_type": "markdown",
   "metadata": {},
   "source": [
    "- Number of Nobel Prizes won by the `top 10 nationalities`"
   ]
  },
  {
   "cell_type": "code",
   "execution_count": 13,
   "metadata": {},
   "outputs": [
    {
     "data": {
      "text/plain": [
       "United States of America    259\n",
       "United Kingdom              85 \n",
       "Germany                     61 \n",
       "France                      51 \n",
       "Sweden                      29 \n",
       "Japan                       24 \n",
       "Netherlands                 18 \n",
       "Canada                      18 \n",
       "Russia                      17 \n",
       "Italy                       17 \n",
       "Name: birth_country, dtype: int64"
      ]
     },
     "execution_count": 13,
     "metadata": {},
     "output_type": "execute_result"
    }
   ],
   "source": [
    "nobel_df['birth_country'].value_counts()[:10]"
   ]
  },
  {
   "cell_type": "markdown",
   "metadata": {},
   "source": [
    "**USA Dominance**"
   ]
  },
  {
   "cell_type": "markdown",
   "metadata": {},
   "source": [
    "From the above analysis, we observe that the `United States of America` has the most number of recipients of Nobel Prizes between 1901 and 2016. But in 1901 all the winners were European. When did the USA start to dominate the Nobel Prize charts?\n",
    "\n",
    "- Proportion of USA born winners per decade"
   ]
  },
  {
   "cell_type": "code",
   "execution_count": 14,
   "metadata": {},
   "outputs": [
    {
     "data": {
      "text/plain": [
       "False    652\n",
       "True     259\n",
       "Name: USA_born, dtype: int64"
      ]
     },
     "execution_count": 14,
     "metadata": {},
     "output_type": "execute_result"
    }
   ],
   "source": [
    "# Creating a new column in the dataset using the boolean masking method indicating True if a recipient is from USA or False\n",
    "nobel_df['USA_born'] = nobel_df['birth_country'] == 'United States of America'\n",
    "# Check the number of recipients from and not from USA\n",
    "nobel_df['USA_born'].value_counts()"
   ]
  },
  {
   "cell_type": "code",
   "execution_count": 15,
   "metadata": {},
   "outputs": [
    {
     "data": {
      "text/plain": [
       "2000    123\n",
       "1990    104\n",
       "1970    104\n",
       "1980    97 \n",
       "2010    82 \n",
       "1960    79 \n",
       "1950    72 \n",
       "1900    57 \n",
       "1930    56 \n",
       "1920    54 \n",
       "1940    43 \n",
       "1910    40 \n",
       "Name: decade, dtype: int64"
      ]
     },
     "execution_count": 15,
     "metadata": {},
     "output_type": "execute_result"
    }
   ],
   "source": [
    "# Create a new column in the dataset to create decade values\n",
    "# Method: Consider, year 1901\n",
    "# divide 1901 by 10, we get 190.1\n",
    "# floor or 190.1 is 190\n",
    "# multiply by 10, we get 1900\n",
    "nobel_df['decade'] = (np.floor(nobel_df['year']/10)*10).astype(int)\n",
    "nobel_df['decade'].value_counts()"
   ]
  },
  {
   "cell_type": "code",
   "execution_count": 16,
   "metadata": {},
   "outputs": [
    {
     "data": {
      "text/html": [
       "<div>\n",
       "<style scoped>\n",
       "    .dataframe tbody tr th:only-of-type {\n",
       "        vertical-align: middle;\n",
       "    }\n",
       "\n",
       "    .dataframe tbody tr th {\n",
       "        vertical-align: top;\n",
       "    }\n",
       "\n",
       "    .dataframe thead th {\n",
       "        text-align: right;\n",
       "    }\n",
       "</style>\n",
       "<table border=\"1\" class=\"dataframe\">\n",
       "  <thead>\n",
       "    <tr style=\"text-align: right;\">\n",
       "      <th></th>\n",
       "      <th>decade</th>\n",
       "      <th>USA_born</th>\n",
       "    </tr>\n",
       "  </thead>\n",
       "  <tbody>\n",
       "    <tr>\n",
       "      <th>0</th>\n",
       "      <td>1900</td>\n",
       "      <td>0.017544</td>\n",
       "    </tr>\n",
       "    <tr>\n",
       "      <th>1</th>\n",
       "      <td>1910</td>\n",
       "      <td>0.075000</td>\n",
       "    </tr>\n",
       "    <tr>\n",
       "      <th>2</th>\n",
       "      <td>1920</td>\n",
       "      <td>0.074074</td>\n",
       "    </tr>\n",
       "    <tr>\n",
       "      <th>3</th>\n",
       "      <td>1930</td>\n",
       "      <td>0.250000</td>\n",
       "    </tr>\n",
       "    <tr>\n",
       "      <th>4</th>\n",
       "      <td>1940</td>\n",
       "      <td>0.302326</td>\n",
       "    </tr>\n",
       "    <tr>\n",
       "      <th>5</th>\n",
       "      <td>1950</td>\n",
       "      <td>0.291667</td>\n",
       "    </tr>\n",
       "    <tr>\n",
       "      <th>6</th>\n",
       "      <td>1960</td>\n",
       "      <td>0.265823</td>\n",
       "    </tr>\n",
       "    <tr>\n",
       "      <th>7</th>\n",
       "      <td>1970</td>\n",
       "      <td>0.317308</td>\n",
       "    </tr>\n",
       "    <tr>\n",
       "      <th>8</th>\n",
       "      <td>1980</td>\n",
       "      <td>0.319588</td>\n",
       "    </tr>\n",
       "    <tr>\n",
       "      <th>9</th>\n",
       "      <td>1990</td>\n",
       "      <td>0.403846</td>\n",
       "    </tr>\n",
       "    <tr>\n",
       "      <th>10</th>\n",
       "      <td>2000</td>\n",
       "      <td>0.422764</td>\n",
       "    </tr>\n",
       "    <tr>\n",
       "      <th>11</th>\n",
       "      <td>2010</td>\n",
       "      <td>0.292683</td>\n",
       "    </tr>\n",
       "  </tbody>\n",
       "</table>\n",
       "</div>"
      ],
      "text/plain": [
       "    decade  USA_born\n",
       "0   1900    0.017544\n",
       "1   1910    0.075000\n",
       "2   1920    0.074074\n",
       "3   1930    0.250000\n",
       "4   1940    0.302326\n",
       "5   1950    0.291667\n",
       "6   1960    0.265823\n",
       "7   1970    0.317308\n",
       "8   1980    0.319588\n",
       "9   1990    0.403846\n",
       "10  2000    0.422764\n",
       "11  2010    0.292683"
      ]
     },
     "execution_count": 16,
     "metadata": {},
     "output_type": "execute_result"
    }
   ],
   "source": [
    "prop_usa_born_winners = nobel_df.groupby('decade', as_index=False)['USA_born'].mean()\n",
    "prop_usa_born_winners"
   ]
  },
  {
   "cell_type": "markdown",
   "metadata": {},
   "source": [
    "- Let's visualize this dominance of USA"
   ]
  },
  {
   "cell_type": "code",
   "execution_count": 17,
   "metadata": {},
   "outputs": [
    {
     "data": {
      "image/png": "[encoded data removed]",
      "text/plain": [
       "<Figure size 720x360 with 1 Axes>"
      ]
     },
     "metadata": {},
     "output_type": "display_data"
    }
   ],
   "source": [
    "# Set aesthetic parameters in one step\n",
    "sns.set()\n",
    "plt.figure(figsize=(10,5))\n",
    "plot = sns.lineplot(x='decade', y='USA_born', data=prop_usa_born_winners)\n",
    "# Adding %-formatting to the y-axis\n",
    "plot.yaxis.set_major_formatter(PercentFormatter(1.0))"
   ]
  },
  {
   "cell_type": "markdown",
   "metadata": {},
   "source": [
    "So the USA became the dominating winner of the Nobel Prize first in the 1930s and had kept the leading position ever since."
   ]
  },
  {
   "cell_type": "markdown",
   "metadata": {},
   "source": [
    "**Gender of a Typical Nobel Prize Winner**"
   ]
  },
  {
   "cell_type": "markdown",
   "metadata": {},
   "source": [
    "One group that was in the lead from the start, and never seems to let go, are men. Maybe it shouldn't come as a shock that there is some imbalance between how many male and female prize winners there are, but how significant is this imbalance? And is it better or worse within specific prize categories like physics, medicine, literature, etc.?"
   ]
  },
  {
   "cell_type": "markdown",
   "metadata": {},
   "source": [
    "- Let's calculate the proportion of female laureates per decade"
   ]
  },
  {
   "cell_type": "code",
   "execution_count": 18,
   "metadata": {},
   "outputs": [
    {
     "data": {
      "text/plain": [
       "False    862\n",
       "True     49 \n",
       "Name: female_recipient, dtype: int64"
      ]
     },
     "execution_count": 18,
     "metadata": {},
     "output_type": "execute_result"
    }
   ],
   "source": [
    "nobel_df['female_recipient'] = nobel_df['sex'] == 'Female'\n",
    "nobel_df['female_recipient'].value_counts()"
   ]
  },
  {
   "cell_type": "code",
   "execution_count": 19,
   "metadata": {},
   "outputs": [
    {
     "data": {
      "text/plain": [
       "decade  category  \n",
       "1900    Chemistry     0.000000\n",
       "        Literature    0.100000\n",
       "        Medicine      0.000000\n",
       "        Peace         0.071429\n",
       "        Physics       0.076923\n",
       "1910    Chemistry     0.125000\n",
       "        Literature    0.000000\n",
       "        Medicine      0.000000\n",
       "        Peace         0.000000\n",
       "        Physics       0.000000\n",
       "1920    Chemistry     0.000000\n",
       "        Literature    0.200000\n",
       "        Medicine      0.000000\n",
       "        Peace         0.000000\n",
       "        Physics       0.000000\n",
       "1930    Chemistry     0.076923\n",
       "        Literature    0.111111\n",
       "        Medicine      0.000000\n",
       "        Peace         0.111111\n",
       "        Physics       0.000000\n",
       "1940    Chemistry     0.000000\n",
       "        Literature    0.166667\n",
       "        Medicine      0.071429\n",
       "        Peace         0.142857\n",
       "        Physics       0.000000\n",
       "1950    Chemistry     0.000000\n",
       "        Literature    0.000000\n",
       "        Medicine      0.000000\n",
       "        Peace         0.000000\n",
       "        Physics       0.000000\n",
       "1960    Chemistry     0.066667\n",
       "        Economics     0.000000\n",
       "        Literature    0.090909\n",
       "        Medicine      0.000000\n",
       "        Peace         0.000000\n",
       "        Physics       0.058824\n",
       "1970    Chemistry     0.000000\n",
       "        Economics     0.000000\n",
       "        Literature    0.000000\n",
       "        Medicine      0.040000\n",
       "        Peace         0.230769\n",
       "        Physics       0.000000\n",
       "1980    Chemistry     0.000000\n",
       "        Economics     0.000000\n",
       "        Literature    0.000000\n",
       "        Medicine      0.130435\n",
       "        Peace         0.090909\n",
       "        Physics       0.000000\n",
       "1990    Chemistry     0.000000\n",
       "        Economics     0.000000\n",
       "        Literature    0.300000\n",
       "        Medicine      0.050000\n",
       "        Peace         0.176471\n",
       "        Physics       0.000000\n",
       "2000    Chemistry     0.040000\n",
       "        Economics     0.050000\n",
       "        Literature    0.300000\n",
       "        Medicine      0.153846\n",
       "        Peace         0.142857\n",
       "        Physics       0.000000\n",
       "2010    Chemistry     0.000000\n",
       "        Economics     0.000000\n",
       "        Literature    0.285714\n",
       "        Medicine      0.125000\n",
       "        Peace         0.400000\n",
       "        Physics       0.000000\n",
       "Name: female_recipient, dtype: float64"
      ]
     },
     "execution_count": 19,
     "metadata": {},
     "output_type": "execute_result"
    }
   ],
   "source": [
    "prop_female_recipients = nobel_df.groupby(['decade','category'], as_index=True)['female_recipient'].mean()\n",
    "prop_female_recipients"
   ]
  },
  {
   "cell_type": "code",
   "execution_count": 20,
   "metadata": {},
   "outputs": [
    {
     "data": {
      "image/png": "[encoded data removed]",
      "text/plain": [
       "<Figure size 720x360 with 1 Axes>"
      ]
     },
     "metadata": {},
     "output_type": "display_data"
    }
   ],
   "source": [
    "plt.figure(figsize=(10,5))\n",
    "plot = sns.lineplot(x='decade', y='female_recipient', hue='category', data=prop_female_recipients.reset_index(drop=False))\n",
    "plot.yaxis.set_major_formatter(PercentFormatter(1.0))"
   ]
  },
  {
   "cell_type": "markdown",
   "metadata": {},
   "source": [
    "The plot above is a bit messy as the lines are overplotting. But it does show some interesting trends and patterns. Overall the imbalance is pretty large with physics, economics, and chemistry having the largest imbalance. Medicine has a somewhat positive trend, and since the 1990s the literature prize is also now more balanced. The big outlier is the peace prize during the 2010s, but keep in mind that this just covers the years 2010 to 2016."
   ]
  },
  {
   "cell_type": "markdown",
   "metadata": {},
   "source": [
    "**The First Woman to Win Nobel Prize**"
   ]
  },
  {
   "cell_type": "markdown",
   "metadata": {},
   "source": [
    "Who was the first woman to receive a Nobel Prize? And in what category? Let's find out."
   ]
  },
  {
   "cell_type": "code",
   "execution_count": 21,
   "metadata": {},
   "outputs": [
    {
     "data": {
      "text/plain": [
       "False    862\n",
       "True     49 \n",
       "Name: female_recipient, dtype: int64"
      ]
     },
     "execution_count": 21,
     "metadata": {},
     "output_type": "execute_result"
    }
   ],
   "source": [
    "nobel_df['female_recipient'].value_counts()"
   ]
  },
  {
   "cell_type": "code",
   "execution_count": 22,
   "metadata": {},
   "outputs": [
    {
     "data": {
      "text/html": [
       "<div>\n",
       "<style scoped>\n",
       "    .dataframe tbody tr th:only-of-type {\n",
       "        vertical-align: middle;\n",
       "    }\n",
       "\n",
       "    .dataframe tbody tr th {\n",
       "        vertical-align: top;\n",
       "    }\n",
       "\n",
       "    .dataframe thead th {\n",
       "        text-align: right;\n",
       "    }\n",
       "</style>\n",
       "<table border=\"1\" class=\"dataframe\">\n",
       "  <thead>\n",
       "    <tr style=\"text-align: right;\">\n",
       "      <th></th>\n",
       "      <th>year</th>\n",
       "      <th>category</th>\n",
       "      <th>prize</th>\n",
       "      <th>motivation</th>\n",
       "      <th>prize_share</th>\n",
       "      <th>laureate_id</th>\n",
       "      <th>laureate_type</th>\n",
       "      <th>full_name</th>\n",
       "      <th>birth_date</th>\n",
       "      <th>birth_city</th>\n",
       "      <th>birth_country</th>\n",
       "      <th>sex</th>\n",
       "      <th>organization_name</th>\n",
       "      <th>organization_city</th>\n",
       "      <th>organization_country</th>\n",
       "      <th>death_date</th>\n",
       "      <th>death_city</th>\n",
       "      <th>death_country</th>\n",
       "      <th>USA_born</th>\n",
       "      <th>decade</th>\n",
       "      <th>female_recipient</th>\n",
       "    </tr>\n",
       "  </thead>\n",
       "  <tbody>\n",
       "    <tr>\n",
       "      <th>19</th>\n",
       "      <td>1903</td>\n",
       "      <td>Physics</td>\n",
       "      <td>The Nobel Prize in Physics 1903</td>\n",
       "      <td>\"in recognition of the extraordinary services they have rendered by their joint researches on the radiation phenomena discovered by Professor Henri Becquerel\"</td>\n",
       "      <td>1/4</td>\n",
       "      <td>6</td>\n",
       "      <td>Individual</td>\n",
       "      <td>Marie Curie, née Sklodowska</td>\n",
       "      <td>1867-11-07</td>\n",
       "      <td>Warsaw</td>\n",
       "      <td>Russian Empire (Poland)</td>\n",
       "      <td>Female</td>\n",
       "      <td>NaN</td>\n",
       "      <td>NaN</td>\n",
       "      <td>NaN</td>\n",
       "      <td>1934-07-04</td>\n",
       "      <td>Sallanches</td>\n",
       "      <td>France</td>\n",
       "      <td>False</td>\n",
       "      <td>1900</td>\n",
       "      <td>True</td>\n",
       "    </tr>\n",
       "  </tbody>\n",
       "</table>\n",
       "</div>"
      ],
      "text/plain": [
       "    year category                            prize  \\\n",
       "19  1903  Physics  The Nobel Prize in Physics 1903   \n",
       "\n",
       "                                                                                                                                                        motivation  \\\n",
       "19  \"in recognition of the extraordinary services they have rendered by their joint researches on the radiation phenomena discovered by Professor Henri Becquerel\"   \n",
       "\n",
       "   prize_share  laureate_id laureate_type                    full_name  \\\n",
       "19  1/4         6            Individual    Marie Curie, née Sklodowska   \n",
       "\n",
       "    birth_date birth_city            birth_country     sex organization_name  \\\n",
       "19  1867-11-07  Warsaw     Russian Empire (Poland)  Female  NaN                \n",
       "\n",
       "   organization_city organization_country  death_date  death_city  \\\n",
       "19  NaN               NaN                  1934-07-04  Sallanches   \n",
       "\n",
       "   death_country  USA_born  decade  female_recipient  \n",
       "19  France        False     1900    True              "
      ]
     },
     "execution_count": 22,
     "metadata": {},
     "output_type": "execute_result"
    }
   ],
   "source": [
    "first_female_recipient = nobel_df[nobel_df['sex'] == 'Female'].nsmallest(1, 'year')\n",
    "first_female_recipient"
   ]
  },
  {
   "cell_type": "markdown",
   "metadata": {},
   "source": [
    "We see that, `Marie Curie, née Maria Salomea Skłodowska` was the `first woman to win a Nobel Prize in Physics in 1903`."
   ]
  },
  {
   "cell_type": "markdown",
   "metadata": {},
   "source": [
    "**Repeat Laureates**"
   ]
  },
  {
   "cell_type": "markdown",
   "metadata": {},
   "source": [
    "For most scientists/writers/activists a Nobel Prize would be the crowning achievement of a long career. But for some people, one is just not enough, and few have gotten it more than once. Who are these lucky few? Let's find out."
   ]
  },
  {
   "cell_type": "code",
   "execution_count": 23,
   "metadata": {},
   "outputs": [
    {
     "data": {
      "text/html": [
       "<div>\n",
       "<style scoped>\n",
       "    .dataframe tbody tr th:only-of-type {\n",
       "        vertical-align: middle;\n",
       "    }\n",
       "\n",
       "    .dataframe tbody tr th {\n",
       "        vertical-align: top;\n",
       "    }\n",
       "\n",
       "    .dataframe thead th {\n",
       "        text-align: right;\n",
       "    }\n",
       "</style>\n",
       "<table border=\"1\" class=\"dataframe\">\n",
       "  <thead>\n",
       "    <tr style=\"text-align: right;\">\n",
       "      <th></th>\n",
       "      <th>year</th>\n",
       "      <th>category</th>\n",
       "      <th>prize</th>\n",
       "      <th>motivation</th>\n",
       "      <th>prize_share</th>\n",
       "      <th>laureate_id</th>\n",
       "      <th>laureate_type</th>\n",
       "      <th>full_name</th>\n",
       "      <th>birth_date</th>\n",
       "      <th>birth_city</th>\n",
       "      <th>birth_country</th>\n",
       "      <th>sex</th>\n",
       "      <th>organization_name</th>\n",
       "      <th>organization_city</th>\n",
       "      <th>organization_country</th>\n",
       "      <th>death_date</th>\n",
       "      <th>death_city</th>\n",
       "      <th>death_country</th>\n",
       "      <th>USA_born</th>\n",
       "      <th>decade</th>\n",
       "      <th>female_recipient</th>\n",
       "    </tr>\n",
       "  </thead>\n",
       "  <tbody>\n",
       "    <tr>\n",
       "      <th>19</th>\n",
       "      <td>1903</td>\n",
       "      <td>Physics</td>\n",
       "      <td>The Nobel Prize in Physics 1903</td>\n",
       "      <td>\"in recognition of the extraordinary services they have rendered by their joint researches on the radiation phenomena discovered by Professor Henri Becquerel\"</td>\n",
       "      <td>1/4</td>\n",
       "      <td>6</td>\n",
       "      <td>Individual</td>\n",
       "      <td>Marie Curie, née Sklodowska</td>\n",
       "      <td>1867-11-07</td>\n",
       "      <td>Warsaw</td>\n",
       "      <td>Russian Empire (Poland)</td>\n",
       "      <td>Female</td>\n",
       "      <td>NaN</td>\n",
       "      <td>NaN</td>\n",
       "      <td>NaN</td>\n",
       "      <td>1934-07-04</td>\n",
       "      <td>Sallanches</td>\n",
       "      <td>France</td>\n",
       "      <td>False</td>\n",
       "      <td>1900</td>\n",
       "      <td>True</td>\n",
       "    </tr>\n",
       "    <tr>\n",
       "      <th>62</th>\n",
       "      <td>1911</td>\n",
       "      <td>Chemistry</td>\n",
       "      <td>The Nobel Prize in Chemistry 1911</td>\n",
       "      <td>\"in recognition of her services to the advancement of chemistry by the discovery of the elements radium and polonium, by the isolation of radium and the study of the nature and compounds of this remarkable element\"</td>\n",
       "      <td>1/1</td>\n",
       "      <td>6</td>\n",
       "      <td>Individual</td>\n",
       "      <td>Marie Curie, née Sklodowska</td>\n",
       "      <td>1867-11-07</td>\n",
       "      <td>Warsaw</td>\n",
       "      <td>Russian Empire (Poland)</td>\n",
       "      <td>Female</td>\n",
       "      <td>Sorbonne University</td>\n",
       "      <td>Paris</td>\n",
       "      <td>France</td>\n",
       "      <td>1934-07-04</td>\n",
       "      <td>Sallanches</td>\n",
       "      <td>France</td>\n",
       "      <td>False</td>\n",
       "      <td>1910</td>\n",
       "      <td>True</td>\n",
       "    </tr>\n",
       "    <tr>\n",
       "      <th>89</th>\n",
       "      <td>1917</td>\n",
       "      <td>Peace</td>\n",
       "      <td>The Nobel Peace Prize 1917</td>\n",
       "      <td>NaN</td>\n",
       "      <td>1/1</td>\n",
       "      <td>482</td>\n",
       "      <td>Organization</td>\n",
       "      <td>Comité international de la Croix Rouge (International Committee of the Red Cross)</td>\n",
       "      <td>NaN</td>\n",
       "      <td>NaN</td>\n",
       "      <td>NaN</td>\n",
       "      <td>NaN</td>\n",
       "      <td>NaN</td>\n",
       "      <td>NaN</td>\n",
       "      <td>NaN</td>\n",
       "      <td>NaN</td>\n",
       "      <td>NaN</td>\n",
       "      <td>NaN</td>\n",
       "      <td>False</td>\n",
       "      <td>1910</td>\n",
       "      <td>False</td>\n",
       "    </tr>\n",
       "    <tr>\n",
       "      <th>215</th>\n",
       "      <td>1944</td>\n",
       "      <td>Peace</td>\n",
       "      <td>The Nobel Peace Prize 1944</td>\n",
       "      <td>NaN</td>\n",
       "      <td>1/1</td>\n",
       "      <td>482</td>\n",
       "      <td>Organization</td>\n",
       "      <td>Comité international de la Croix Rouge (International Committee of the Red Cross)</td>\n",
       "      <td>NaN</td>\n",
       "      <td>NaN</td>\n",
       "      <td>NaN</td>\n",
       "      <td>NaN</td>\n",
       "      <td>NaN</td>\n",
       "      <td>NaN</td>\n",
       "      <td>NaN</td>\n",
       "      <td>NaN</td>\n",
       "      <td>NaN</td>\n",
       "      <td>NaN</td>\n",
       "      <td>False</td>\n",
       "      <td>1940</td>\n",
       "      <td>False</td>\n",
       "    </tr>\n",
       "    <tr>\n",
       "      <th>278</th>\n",
       "      <td>1954</td>\n",
       "      <td>Chemistry</td>\n",
       "      <td>The Nobel Prize in Chemistry 1954</td>\n",
       "      <td>\"for his research into the nature of the chemical bond and its application to the elucidation of the structure of complex substances\"</td>\n",
       "      <td>1/1</td>\n",
       "      <td>217</td>\n",
       "      <td>Individual</td>\n",
       "      <td>Linus Carl Pauling</td>\n",
       "      <td>1901-02-28</td>\n",
       "      <td>Portland, OR</td>\n",
       "      <td>United States of America</td>\n",
       "      <td>Male</td>\n",
       "      <td>California Institute of Technology (Caltech)</td>\n",
       "      <td>Pasadena, CA</td>\n",
       "      <td>United States of America</td>\n",
       "      <td>1994-08-19</td>\n",
       "      <td>Big Sur, CA</td>\n",
       "      <td>United States of America</td>\n",
       "      <td>True</td>\n",
       "      <td>1950</td>\n",
       "      <td>False</td>\n",
       "    </tr>\n",
       "    <tr>\n",
       "      <th>283</th>\n",
       "      <td>1954</td>\n",
       "      <td>Peace</td>\n",
       "      <td>The Nobel Peace Prize 1954</td>\n",
       "      <td>NaN</td>\n",
       "      <td>1/1</td>\n",
       "      <td>515</td>\n",
       "      <td>Organization</td>\n",
       "      <td>Office of the United Nations High Commissioner for Refugees (UNHCR)</td>\n",
       "      <td>NaN</td>\n",
       "      <td>NaN</td>\n",
       "      <td>NaN</td>\n",
       "      <td>NaN</td>\n",
       "      <td>NaN</td>\n",
       "      <td>NaN</td>\n",
       "      <td>NaN</td>\n",
       "      <td>NaN</td>\n",
       "      <td>NaN</td>\n",
       "      <td>NaN</td>\n",
       "      <td>False</td>\n",
       "      <td>1950</td>\n",
       "      <td>False</td>\n",
       "    </tr>\n",
       "    <tr>\n",
       "      <th>298</th>\n",
       "      <td>1956</td>\n",
       "      <td>Physics</td>\n",
       "      <td>The Nobel Prize in Physics 1956</td>\n",
       "      <td>\"for their researches on semiconductors and their discovery of the transistor effect\"</td>\n",
       "      <td>1/3</td>\n",
       "      <td>66</td>\n",
       "      <td>Individual</td>\n",
       "      <td>John Bardeen</td>\n",
       "      <td>1908-05-23</td>\n",
       "      <td>Madison, WI</td>\n",
       "      <td>United States of America</td>\n",
       "      <td>Male</td>\n",
       "      <td>University of Illinois</td>\n",
       "      <td>Urbana, IL</td>\n",
       "      <td>United States of America</td>\n",
       "      <td>1991-01-30</td>\n",
       "      <td>Boston, MA</td>\n",
       "      <td>United States of America</td>\n",
       "      <td>True</td>\n",
       "      <td>1950</td>\n",
       "      <td>False</td>\n",
       "    </tr>\n",
       "    <tr>\n",
       "      <th>306</th>\n",
       "      <td>1958</td>\n",
       "      <td>Chemistry</td>\n",
       "      <td>The Nobel Prize in Chemistry 1958</td>\n",
       "      <td>\"for his work on the structure of proteins, especially that of insulin\"</td>\n",
       "      <td>1/1</td>\n",
       "      <td>222</td>\n",
       "      <td>Individual</td>\n",
       "      <td>Frederick Sanger</td>\n",
       "      <td>1918-08-13</td>\n",
       "      <td>Rendcombe</td>\n",
       "      <td>United Kingdom</td>\n",
       "      <td>Male</td>\n",
       "      <td>University of Cambridge</td>\n",
       "      <td>Cambridge</td>\n",
       "      <td>United Kingdom</td>\n",
       "      <td>2013-11-19</td>\n",
       "      <td>Cambridge</td>\n",
       "      <td>United Kingdom</td>\n",
       "      <td>False</td>\n",
       "      <td>1950</td>\n",
       "      <td>False</td>\n",
       "    </tr>\n",
       "    <tr>\n",
       "      <th>340</th>\n",
       "      <td>1962</td>\n",
       "      <td>Peace</td>\n",
       "      <td>The Nobel Peace Prize 1962</td>\n",
       "      <td>NaN</td>\n",
       "      <td>1/1</td>\n",
       "      <td>217</td>\n",
       "      <td>Individual</td>\n",
       "      <td>Linus Carl Pauling</td>\n",
       "      <td>1901-02-28</td>\n",
       "      <td>Portland, OR</td>\n",
       "      <td>United States of America</td>\n",
       "      <td>Male</td>\n",
       "      <td>California Institute of Technology (Caltech)</td>\n",
       "      <td>Pasadena, CA</td>\n",
       "      <td>United States of America</td>\n",
       "      <td>1994-08-19</td>\n",
       "      <td>Big Sur, CA</td>\n",
       "      <td>United States of America</td>\n",
       "      <td>True</td>\n",
       "      <td>1960</td>\n",
       "      <td>False</td>\n",
       "    </tr>\n",
       "    <tr>\n",
       "      <th>348</th>\n",
       "      <td>1963</td>\n",
       "      <td>Peace</td>\n",
       "      <td>The Nobel Peace Prize 1963</td>\n",
       "      <td>NaN</td>\n",
       "      <td>1/2</td>\n",
       "      <td>482</td>\n",
       "      <td>Organization</td>\n",
       "      <td>Comité international de la Croix Rouge (International Committee of the Red Cross)</td>\n",
       "      <td>NaN</td>\n",
       "      <td>NaN</td>\n",
       "      <td>NaN</td>\n",
       "      <td>NaN</td>\n",
       "      <td>NaN</td>\n",
       "      <td>NaN</td>\n",
       "      <td>NaN</td>\n",
       "      <td>NaN</td>\n",
       "      <td>NaN</td>\n",
       "      <td>NaN</td>\n",
       "      <td>False</td>\n",
       "      <td>1960</td>\n",
       "      <td>False</td>\n",
       "    </tr>\n",
       "    <tr>\n",
       "      <th>424</th>\n",
       "      <td>1972</td>\n",
       "      <td>Physics</td>\n",
       "      <td>The Nobel Prize in Physics 1972</td>\n",
       "      <td>\"for their jointly developed theory of superconductivity, usually called the BCS-theory\"</td>\n",
       "      <td>1/3</td>\n",
       "      <td>66</td>\n",
       "      <td>Individual</td>\n",
       "      <td>John Bardeen</td>\n",
       "      <td>1908-05-23</td>\n",
       "      <td>Madison, WI</td>\n",
       "      <td>United States of America</td>\n",
       "      <td>Male</td>\n",
       "      <td>University of Illinois</td>\n",
       "      <td>Urbana, IL</td>\n",
       "      <td>United States of America</td>\n",
       "      <td>1991-01-30</td>\n",
       "      <td>Boston, MA</td>\n",
       "      <td>United States of America</td>\n",
       "      <td>True</td>\n",
       "      <td>1970</td>\n",
       "      <td>False</td>\n",
       "    </tr>\n",
       "    <tr>\n",
       "      <th>505</th>\n",
       "      <td>1980</td>\n",
       "      <td>Chemistry</td>\n",
       "      <td>The Nobel Prize in Chemistry 1980</td>\n",
       "      <td>\"for their contributions concerning the determination of base sequences in nucleic acids\"</td>\n",
       "      <td>1/4</td>\n",
       "      <td>222</td>\n",
       "      <td>Individual</td>\n",
       "      <td>Frederick Sanger</td>\n",
       "      <td>1918-08-13</td>\n",
       "      <td>Rendcombe</td>\n",
       "      <td>United Kingdom</td>\n",
       "      <td>Male</td>\n",
       "      <td>MRC Laboratory of Molecular Biology</td>\n",
       "      <td>Cambridge</td>\n",
       "      <td>United Kingdom</td>\n",
       "      <td>2013-11-19</td>\n",
       "      <td>Cambridge</td>\n",
       "      <td>United Kingdom</td>\n",
       "      <td>False</td>\n",
       "      <td>1980</td>\n",
       "      <td>False</td>\n",
       "    </tr>\n",
       "    <tr>\n",
       "      <th>523</th>\n",
       "      <td>1981</td>\n",
       "      <td>Peace</td>\n",
       "      <td>The Nobel Peace Prize 1981</td>\n",
       "      <td>NaN</td>\n",
       "      <td>1/1</td>\n",
       "      <td>515</td>\n",
       "      <td>Organization</td>\n",
       "      <td>Office of the United Nations High Commissioner for Refugees (UNHCR)</td>\n",
       "      <td>NaN</td>\n",
       "      <td>NaN</td>\n",
       "      <td>NaN</td>\n",
       "      <td>NaN</td>\n",
       "      <td>NaN</td>\n",
       "      <td>NaN</td>\n",
       "      <td>NaN</td>\n",
       "      <td>NaN</td>\n",
       "      <td>NaN</td>\n",
       "      <td>NaN</td>\n",
       "      <td>False</td>\n",
       "      <td>1980</td>\n",
       "      <td>False</td>\n",
       "    </tr>\n",
       "  </tbody>\n",
       "</table>\n",
       "</div>"
      ],
      "text/plain": [
       "     year   category                              prize  \\\n",
       "19   1903  Physics    The Nobel Prize in Physics 1903     \n",
       "62   1911  Chemistry  The Nobel Prize in Chemistry 1911   \n",
       "89   1917  Peace      The Nobel Peace Prize 1917          \n",
       "215  1944  Peace      The Nobel Peace Prize 1944          \n",
       "278  1954  Chemistry  The Nobel Prize in Chemistry 1954   \n",
       "283  1954  Peace      The Nobel Peace Prize 1954          \n",
       "298  1956  Physics    The Nobel Prize in Physics 1956     \n",
       "306  1958  Chemistry  The Nobel Prize in Chemistry 1958   \n",
       "340  1962  Peace      The Nobel Peace Prize 1962          \n",
       "348  1963  Peace      The Nobel Peace Prize 1963          \n",
       "424  1972  Physics    The Nobel Prize in Physics 1972     \n",
       "505  1980  Chemistry  The Nobel Prize in Chemistry 1980   \n",
       "523  1981  Peace      The Nobel Peace Prize 1981          \n",
       "\n",
       "                                                                                                                                                                                                                 motivation  \\\n",
       "19   \"in recognition of the extraordinary services they have rendered by their joint researches on the radiation phenomena discovered by Professor Henri Becquerel\"                                                           \n",
       "62   \"in recognition of her services to the advancement of chemistry by the discovery of the elements radium and polonium, by the isolation of radium and the study of the nature and compounds of this remarkable element\"   \n",
       "89   NaN                                                                                                                                                                                                                      \n",
       "215  NaN                                                                                                                                                                                                                      \n",
       "278  \"for his research into the nature of the chemical bond and its application to the elucidation of the structure of complex substances\"                                                                                    \n",
       "283  NaN                                                                                                                                                                                                                      \n",
       "298  \"for their researches on semiconductors and their discovery of the transistor effect\"                                                                                                                                    \n",
       "306  \"for his work on the structure of proteins, especially that of insulin\"                                                                                                                                                  \n",
       "340  NaN                                                                                                                                                                                                                      \n",
       "348  NaN                                                                                                                                                                                                                      \n",
       "424  \"for their jointly developed theory of superconductivity, usually called the BCS-theory\"                                                                                                                                 \n",
       "505  \"for their contributions concerning the determination of base sequences in nucleic acids\"                                                                                                                                \n",
       "523  NaN                                                                                                                                                                                                                      \n",
       "\n",
       "    prize_share  laureate_id laureate_type  \\\n",
       "19   1/4         6            Individual     \n",
       "62   1/1         6            Individual     \n",
       "89   1/1         482          Organization   \n",
       "215  1/1         482          Organization   \n",
       "278  1/1         217          Individual     \n",
       "283  1/1         515          Organization   \n",
       "298  1/3         66           Individual     \n",
       "306  1/1         222          Individual     \n",
       "340  1/1         217          Individual     \n",
       "348  1/2         482          Organization   \n",
       "424  1/3         66           Individual     \n",
       "505  1/4         222          Individual     \n",
       "523  1/1         515          Organization   \n",
       "\n",
       "                                                                             full_name  \\\n",
       "19   Marie Curie, née Sklodowska                                                         \n",
       "62   Marie Curie, née Sklodowska                                                         \n",
       "89   Comité international de la Croix Rouge (International Committee of the Red Cross)   \n",
       "215  Comité international de la Croix Rouge (International Committee of the Red Cross)   \n",
       "278  Linus Carl Pauling                                                                  \n",
       "283  Office of the United Nations High Commissioner for Refugees (UNHCR)                 \n",
       "298  John Bardeen                                                                        \n",
       "306  Frederick Sanger                                                                    \n",
       "340  Linus Carl Pauling                                                                  \n",
       "348  Comité international de la Croix Rouge (International Committee of the Red Cross)   \n",
       "424  John Bardeen                                                                        \n",
       "505  Frederick Sanger                                                                    \n",
       "523  Office of the United Nations High Commissioner for Refugees (UNHCR)                 \n",
       "\n",
       "     birth_date    birth_city             birth_country     sex  \\\n",
       "19   1867-11-07  Warsaw        Russian Empire (Poland)   Female   \n",
       "62   1867-11-07  Warsaw        Russian Empire (Poland)   Female   \n",
       "89   NaN         NaN           NaN                       NaN      \n",
       "215  NaN         NaN           NaN                       NaN      \n",
       "278  1901-02-28  Portland, OR  United States of America  Male     \n",
       "283  NaN         NaN           NaN                       NaN      \n",
       "298  1908-05-23  Madison, WI   United States of America  Male     \n",
       "306  1918-08-13  Rendcombe     United Kingdom            Male     \n",
       "340  1901-02-28  Portland, OR  United States of America  Male     \n",
       "348  NaN         NaN           NaN                       NaN      \n",
       "424  1908-05-23  Madison, WI   United States of America  Male     \n",
       "505  1918-08-13  Rendcombe     United Kingdom            Male     \n",
       "523  NaN         NaN           NaN                       NaN      \n",
       "\n",
       "                                organization_name organization_city  \\\n",
       "19   NaN                                           NaN                \n",
       "62   Sorbonne University                           Paris              \n",
       "89   NaN                                           NaN                \n",
       "215  NaN                                           NaN                \n",
       "278  California Institute of Technology (Caltech)  Pasadena, CA       \n",
       "283  NaN                                           NaN                \n",
       "298  University of Illinois                        Urbana, IL         \n",
       "306  University of Cambridge                       Cambridge          \n",
       "340  California Institute of Technology (Caltech)  Pasadena, CA       \n",
       "348  NaN                                           NaN                \n",
       "424  University of Illinois                        Urbana, IL         \n",
       "505  MRC Laboratory of Molecular Biology           Cambridge          \n",
       "523  NaN                                           NaN                \n",
       "\n",
       "         organization_country  death_date   death_city  \\\n",
       "19   NaN                       1934-07-04  Sallanches    \n",
       "62   France                    1934-07-04  Sallanches    \n",
       "89   NaN                       NaN         NaN           \n",
       "215  NaN                       NaN         NaN           \n",
       "278  United States of America  1994-08-19  Big Sur, CA   \n",
       "283  NaN                       NaN         NaN           \n",
       "298  United States of America  1991-01-30  Boston, MA    \n",
       "306  United Kingdom            2013-11-19  Cambridge     \n",
       "340  United States of America  1994-08-19  Big Sur, CA   \n",
       "348  NaN                       NaN         NaN           \n",
       "424  United States of America  1991-01-30  Boston, MA    \n",
       "505  United Kingdom            2013-11-19  Cambridge     \n",
       "523  NaN                       NaN         NaN           \n",
       "\n",
       "                death_country  USA_born  decade  female_recipient  \n",
       "19   France                    False     1900    True              \n",
       "62   France                    False     1910    True              \n",
       "89   NaN                       False     1910    False             \n",
       "215  NaN                       False     1940    False             \n",
       "278  United States of America  True      1950    False             \n",
       "283  NaN                       False     1950    False             \n",
       "298  United States of America  True      1950    False             \n",
       "306  United Kingdom            False     1950    False             \n",
       "340  United States of America  True      1960    False             \n",
       "348  NaN                       False     1960    False             \n",
       "424  United States of America  True      1970    False             \n",
       "505  United Kingdom            False     1980    False             \n",
       "523  NaN                       False     1980    False             "
      ]
     },
     "execution_count": 23,
     "metadata": {},
     "output_type": "execute_result"
    }
   ],
   "source": [
    "repeats = nobel_df.groupby('full_name', as_index=False).filter(lambda x: len(x)>=2)\n",
    "repeats"
   ]
  },
  {
   "cell_type": "markdown",
   "metadata": {},
   "source": [
    "- Number of Nobel Laureates who have received the Nobel Prize two or more times"
   ]
  },
  {
   "cell_type": "code",
   "execution_count": 24,
   "metadata": {},
   "outputs": [
    {
     "data": {
      "text/plain": [
       "13"
      ]
     },
     "execution_count": 24,
     "metadata": {},
     "output_type": "execute_result"
    }
   ],
   "source": [
    "len(repeats)"
   ]
  },
  {
   "cell_type": "markdown",
   "metadata": {},
   "source": [
    "- Number of repeat male laureates"
   ]
  },
  {
   "cell_type": "code",
   "execution_count": 25,
   "metadata": {},
   "outputs": [
    {
     "data": {
      "text/plain": [
       "6"
      ]
     },
     "execution_count": 25,
     "metadata": {},
     "output_type": "execute_result"
    }
   ],
   "source": [
    "male_repeats = repeats[repeats['sex'] == 'Male']\n",
    "len(male_repeats)"
   ]
  },
  {
   "cell_type": "markdown",
   "metadata": {},
   "source": [
    "- Number of repeat female laureates"
   ]
  },
  {
   "cell_type": "code",
   "execution_count": 26,
   "metadata": {},
   "outputs": [
    {
     "data": {
      "text/plain": [
       "2"
      ]
     },
     "execution_count": 26,
     "metadata": {},
     "output_type": "execute_result"
    }
   ],
   "source": [
    "female_repeats = repeats[repeats['sex'] == 'Female']\n",
    "len(female_repeats)"
   ]
  },
  {
   "cell_type": "markdown",
   "metadata": {},
   "source": [
    "- Remaining 5 prize recipients are with unknown data for sex."
   ]
  },
  {
   "cell_type": "markdown",
   "metadata": {},
   "source": [
    "**How old are you when you get the prize?**"
   ]
  },
  {
   "cell_type": "markdown",
   "metadata": {},
   "source": [
    "Let's find out how old were the recipients generally when they got the prize?"
   ]
  },
  {
   "cell_type": "code",
   "execution_count": 27,
   "metadata": {},
   "outputs": [
    {
     "data": {
      "text/plain": [
       "<seaborn.axisgrid.FacetGrid at 0xb4f3d614a8>"
      ]
     },
     "execution_count": 27,
     "metadata": {},
     "output_type": "execute_result"
    },
    {
     "data": {
      "image/png": "[encoded data removed]",
      "text/plain": [
       "<Figure size 720x360 with 1 Axes>"
      ]
     },
     "metadata": {},
     "output_type": "display_data"
    }
   ],
   "source": [
    "# Converting birth_date from String to datetime\n",
    "nobel_df['birth_date'] = pd.to_datetime(nobel_df['birth_date'])\n",
    "\n",
    "# Calculating the age of Nobel Prize winners\n",
    "nobel_df['age'] = nobel_df['year'] - nobel_df['birth_date'].dt.year\n",
    "\n",
    "sns.lmplot(x='year', y='age', data=nobel_df, lowess=True, aspect=2, line_kws={'color':'black'})"
   ]
  },
  {
   "cell_type": "markdown",
   "metadata": {},
   "source": [
    "From the above visualization, we observe that the age of the Nobel prize recipients lie in the range `50-70` years, also we see that there is an increasing trend in the age of recipients in the recent past."
   ]
  },
  {
   "cell_type": "markdown",
   "metadata": {},
   "source": [
    "**Age differences between prize categories**"
   ]
  },
  {
   "cell_type": "markdown",
   "metadata": {},
   "source": [
    "Let's look at age trends within different prize categories."
   ]
  },
  {
   "cell_type": "code",
   "execution_count": 28,
   "metadata": {},
   "outputs": [
    {
     "data": {
      "text/plain": [
       "<seaborn.axisgrid.FacetGrid at 0xb4f43b9eb8>"
      ]
     },
     "execution_count": 28,
     "metadata": {},
     "output_type": "execute_result"
    },
    {
     "data": {
      "image/png": "[encoded data removed]",
      "text/plain": [
       "<Figure size 540x2160 with 6 Axes>"
      ]
     },
     "metadata": {},
     "output_type": "display_data"
    }
   ],
   "source": [
    "sns.lmplot(x='year', y='age', data=nobel_df, row='category', lowess=True, aspect=1.5, line_kws={'color':'black'})"
   ]
  },
  {
   "cell_type": "markdown",
   "metadata": {},
   "source": [
    "We see that both winners of the chemistry, medicine, and physics prize have gotten older over time. The trend is strongest for physics: the average age used to be below 50, and now it's almost 70. Literature and economics are more stable. We also see that economics is a newer category. But peace shows an opposite trend where winners are getting younger!"
   ]
  },
  {
   "cell_type": "markdown",
   "metadata": {},
   "source": [
    "**Oldest and Youngest Noble Prize Recipients**"
   ]
  },
  {
   "cell_type": "markdown",
   "metadata": {},
   "source": [
    "Who are the oldest and youngest people ever to have won a Nobel Prize? Let's find out. "
   ]
  },
  {
   "cell_type": "markdown",
   "metadata": {},
   "source": [
    "- Oldest Nobel Prize Recipient"
   ]
  },
  {
   "cell_type": "code",
   "execution_count": 29,
   "metadata": {},
   "outputs": [
    {
     "data": {
      "text/html": [
       "<div>\n",
       "<style scoped>\n",
       "    .dataframe tbody tr th:only-of-type {\n",
       "        vertical-align: middle;\n",
       "    }\n",
       "\n",
       "    .dataframe tbody tr th {\n",
       "        vertical-align: top;\n",
       "    }\n",
       "\n",
       "    .dataframe thead th {\n",
       "        text-align: right;\n",
       "    }\n",
       "</style>\n",
       "<table border=\"1\" class=\"dataframe\">\n",
       "  <thead>\n",
       "    <tr style=\"text-align: right;\">\n",
       "      <th></th>\n",
       "      <th>year</th>\n",
       "      <th>category</th>\n",
       "      <th>prize</th>\n",
       "      <th>motivation</th>\n",
       "      <th>prize_share</th>\n",
       "      <th>laureate_id</th>\n",
       "      <th>laureate_type</th>\n",
       "      <th>full_name</th>\n",
       "      <th>birth_date</th>\n",
       "      <th>birth_city</th>\n",
       "      <th>birth_country</th>\n",
       "      <th>sex</th>\n",
       "      <th>organization_name</th>\n",
       "      <th>organization_city</th>\n",
       "      <th>organization_country</th>\n",
       "      <th>death_date</th>\n",
       "      <th>death_city</th>\n",
       "      <th>death_country</th>\n",
       "      <th>USA_born</th>\n",
       "      <th>decade</th>\n",
       "      <th>female_recipient</th>\n",
       "      <th>age</th>\n",
       "    </tr>\n",
       "  </thead>\n",
       "  <tbody>\n",
       "    <tr>\n",
       "      <th>793</th>\n",
       "      <td>2007</td>\n",
       "      <td>Economics</td>\n",
       "      <td>The Sveriges Riksbank Prize in Economic Sciences 2007</td>\n",
       "      <td>\"for having laid the foundations of mechanism design theory\"</td>\n",
       "      <td>1/3</td>\n",
       "      <td>820</td>\n",
       "      <td>Individual</td>\n",
       "      <td>Leonid Hurwicz</td>\n",
       "      <td>1917-08-21</td>\n",
       "      <td>Moscow</td>\n",
       "      <td>Russia</td>\n",
       "      <td>Male</td>\n",
       "      <td>University of Minnesota</td>\n",
       "      <td>Minneapolis, MN</td>\n",
       "      <td>United States of America</td>\n",
       "      <td>2008-06-24</td>\n",
       "      <td>Minneapolis, MN</td>\n",
       "      <td>United States of America</td>\n",
       "      <td>False</td>\n",
       "      <td>2000</td>\n",
       "      <td>False</td>\n",
       "      <td>90.0</td>\n",
       "    </tr>\n",
       "  </tbody>\n",
       "</table>\n",
       "</div>"
      ],
      "text/plain": [
       "     year   category                                                  prize  \\\n",
       "793  2007  Economics  The Sveriges Riksbank Prize in Economic Sciences 2007   \n",
       "\n",
       "                                                       motivation prize_share  \\\n",
       "793  \"for having laid the foundations of mechanism design theory\"  1/3          \n",
       "\n",
       "     laureate_id laureate_type       full_name birth_date birth_city  \\\n",
       "793  820          Individual    Leonid Hurwicz 1917-08-21  Moscow      \n",
       "\n",
       "    birth_country   sex        organization_name organization_city  \\\n",
       "793  Russia        Male  University of Minnesota  Minneapolis, MN    \n",
       "\n",
       "         organization_country  death_date       death_city  \\\n",
       "793  United States of America  2008-06-24  Minneapolis, MN   \n",
       "\n",
       "                death_country  USA_born  decade  female_recipient   age  \n",
       "793  United States of America  False     2000    False             90.0  "
      ]
     },
     "execution_count": 29,
     "metadata": {},
     "output_type": "execute_result"
    }
   ],
   "source": [
    "nobel_df.nlargest(1, 'age')"
   ]
  },
  {
   "cell_type": "markdown",
   "metadata": {},
   "source": [
    "- Youngest Nobel Prize Recipient"
   ]
  },
  {
   "cell_type": "code",
   "execution_count": 30,
   "metadata": {},
   "outputs": [
    {
     "data": {
      "text/html": [
       "<div>\n",
       "<style scoped>\n",
       "    .dataframe tbody tr th:only-of-type {\n",
       "        vertical-align: middle;\n",
       "    }\n",
       "\n",
       "    .dataframe tbody tr th {\n",
       "        vertical-align: top;\n",
       "    }\n",
       "\n",
       "    .dataframe thead th {\n",
       "        text-align: right;\n",
       "    }\n",
       "</style>\n",
       "<table border=\"1\" class=\"dataframe\">\n",
       "  <thead>\n",
       "    <tr style=\"text-align: right;\">\n",
       "      <th></th>\n",
       "      <th>year</th>\n",
       "      <th>category</th>\n",
       "      <th>prize</th>\n",
       "      <th>motivation</th>\n",
       "      <th>prize_share</th>\n",
       "      <th>laureate_id</th>\n",
       "      <th>laureate_type</th>\n",
       "      <th>full_name</th>\n",
       "      <th>birth_date</th>\n",
       "      <th>birth_city</th>\n",
       "      <th>birth_country</th>\n",
       "      <th>sex</th>\n",
       "      <th>organization_name</th>\n",
       "      <th>organization_city</th>\n",
       "      <th>organization_country</th>\n",
       "      <th>death_date</th>\n",
       "      <th>death_city</th>\n",
       "      <th>death_country</th>\n",
       "      <th>USA_born</th>\n",
       "      <th>decade</th>\n",
       "      <th>female_recipient</th>\n",
       "      <th>age</th>\n",
       "    </tr>\n",
       "  </thead>\n",
       "  <tbody>\n",
       "    <tr>\n",
       "      <th>885</th>\n",
       "      <td>2014</td>\n",
       "      <td>Peace</td>\n",
       "      <td>The Nobel Peace Prize 2014</td>\n",
       "      <td>\"for their struggle against the suppression of children and young people and for the right of all children to education\"</td>\n",
       "      <td>1/2</td>\n",
       "      <td>914</td>\n",
       "      <td>Individual</td>\n",
       "      <td>Malala Yousafzai</td>\n",
       "      <td>1997-07-12</td>\n",
       "      <td>Mingora</td>\n",
       "      <td>Pakistan</td>\n",
       "      <td>Female</td>\n",
       "      <td>NaN</td>\n",
       "      <td>NaN</td>\n",
       "      <td>NaN</td>\n",
       "      <td>NaN</td>\n",
       "      <td>NaN</td>\n",
       "      <td>NaN</td>\n",
       "      <td>False</td>\n",
       "      <td>2010</td>\n",
       "      <td>True</td>\n",
       "      <td>17.0</td>\n",
       "    </tr>\n",
       "  </tbody>\n",
       "</table>\n",
       "</div>"
      ],
      "text/plain": [
       "     year category                       prize  \\\n",
       "885  2014  Peace    The Nobel Peace Prize 2014   \n",
       "\n",
       "                                                                                                                   motivation  \\\n",
       "885  \"for their struggle against the suppression of children and young people and for the right of all children to education\"   \n",
       "\n",
       "    prize_share  laureate_id laureate_type         full_name birth_date  \\\n",
       "885  1/2         914          Individual    Malala Yousafzai 1997-07-12   \n",
       "\n",
       "    birth_city birth_country     sex organization_name organization_city  \\\n",
       "885  Mingora    Pakistan      Female  NaN               NaN                \n",
       "\n",
       "    organization_country death_date death_city death_country  USA_born  \\\n",
       "885  NaN                  NaN        NaN        NaN           False      \n",
       "\n",
       "     decade  female_recipient   age  \n",
       "885  2010    True              17.0  "
      ]
     },
     "execution_count": 30,
     "metadata": {},
     "output_type": "execute_result"
    }
   ],
   "source": [
    "nobel_df.nsmallest(1, 'age')"
   ]
  },
  {
   "cell_type": "markdown",
   "metadata": {},
   "source": [
    "**Conclusion**"
   ]
  },
  {
   "cell_type": "markdown",
   "metadata": {},
   "source": [
    "We found some key insights by analyzing the nobel prize data (1901 - 2016)\n",
    "- United States of America has the most number of recipients of Nobel Prizes (259) between 1901 and 2016\n",
    "- Year 2001 had the highest number of Nobel prize recipients (15)\n",
    "- No Nobel prize were awarded in any category from 1940 to 1942\n",
    "- Marie Curie, née Maria Salomea Skłodowska was the first woman to win a Nobel Prize in Physics in 1903\n",
    "- 13 laureates have received the Nobel Prize two or more times\n",
    "- Leonid Hurwicz was 90 years old when he got his prize\n",
    "- Malala Yousafzai is youngest winner of the Nobel Peace Prize which was awarded to her in 2014"
   ]
  }
 ],
 "metadata": {
  "kernelspec": {
   "display_name": "Python 3",
   "language": "python",
   "name": "python3"
  },
  "language_info": {
   "codemirror_mode": {
    "name": "ipython",
    "version": 3
   },
   "file_extension": ".py",
   "mimetype": "text/x-python",
   "name": "python",
   "nbconvert_exporter": "python",
   "pygments_lexer": "ipython3",
   "version": "3.7.0"
  }
 },
 "nbformat": 4,
 "nbformat_minor": 2
}
